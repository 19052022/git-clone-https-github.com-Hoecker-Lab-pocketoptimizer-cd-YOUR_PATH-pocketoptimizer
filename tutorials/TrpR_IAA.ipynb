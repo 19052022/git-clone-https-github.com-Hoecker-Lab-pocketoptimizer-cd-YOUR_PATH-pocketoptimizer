{
 "cells": [
  {
   "cell_type": "markdown",
   "id": "f3d596fc-7ec4-4d0f-9f59-cfd55ab994a7",
   "metadata": {},
   "source": [
    "## TrpR_IAA"
   ]
  },
  {
   "cell_type": "markdown",
   "id": "621603ed-1568-4797-8914-3ddd9456a93c",
   "metadata": {},
   "source": [
    "Exemplary design of the trpytophane repressor (PDB: 1ZT9) with the ligand indole-3-acetic acid (IAA)."
   ]
  },
  {
   "cell_type": "code",
   "execution_count": 1,
   "id": "d23d8c90",
   "metadata": {},
   "outputs": [],
   "source": [
    "# This is a comment. It's marked by a leading \"#\" symbol\n",
    "\n",
    "# Import OS and system libraries\n",
    "import sys\n",
    "import os\n",
    "import logging\n",
    "\n",
    "# Append the pocketoptimizer code to your $PYTHONPATH\n",
    "cwd = os.getcwd()\n",
    "po_dir = os.path.abspath(os.path.join(cwd, '..'))\n",
    "project_dir = os.path.join(cwd, 'TrpR_IAA')\n",
    "if not po_dir in sys.path:\n",
    "    sys.path.insert(0, po_dir)\n",
    "\n",
    "# Import Pocketoptimizer\n",
    "import pocketoptimizer as po\n",
    "\n",
    "# Remove most warnings, only show Errors\n",
    "import warnings\n",
    "warnings.simplefilter(action='ignore', category=FutureWarning)\n",
    "warnings.simplefilter(action='ignore', category=DeprecationWarning)"
   ]
  },
  {
   "cell_type": "code",
   "execution_count": 2,
   "id": "20beea30",
   "metadata": {},
   "outputs": [
    {
     "name": "stderr",
     "output_type": "stream",
     "text": [
      "2022-09-18 14:24:22,912 - pocketoptimizer.ui - INFO - Logging to: /agh/projects/jakob/PycharmProjects/PocketOptimizer2/docs/tutorials/TrpR_IAA/pocketoptimizer.log\n"
     ]
    }
   ],
   "source": [
    "# Initialize a new design pipeline\n",
    "design = po.DesignPipeline(work_dir=project_dir,         # Path to working directory containing scaffold and ligand subdirectory\n",
    "                           ph=7,                         # pH used for protein and ligand protonation\n",
    "                           forcefield='amber_ff14SB',    # forcefield used for all energy computations\n",
    "                           intra=False,                  # Whether to score intramolecular energies or not\n",
    "                           elec=0.01,                    # Scaling factor for electrostatic energies\n",
    "                           ncpus=8)                      # Number of CPUs for multiprocessing"
   ]
  },
  {
   "cell_type": "markdown",
   "id": "55fca39b-aa2a-4752-bc42-7182d31b7012",
   "metadata": {},
   "source": [
    "### From now on you are inside the directory of your design!"
   ]
  },
  {
   "cell_type": "code",
   "execution_count": 3,
   "id": "a4513f1b",
   "metadata": {},
   "outputs": [
    {
     "name": "stderr",
     "output_type": "stream",
     "text": [
      "2022-09-18 14:24:24,655 - numexpr.utils - INFO - Note: NumExpr detected 16 cores but \"NUMEXPR_MAX_THREADS\" not set, so enforcing safe limit of 8.\n",
      "2022-09-18 14:24:24,655 - numexpr.utils - INFO - NumExpr defaulting to 8 threads.\n",
      "beignet-opencl-icd: no supported GPU found, this is probably the wrong opencl-icd package for this hardware\n",
      "(If you have multiple ICDs installed and OpenCL works, you can ignore this message)\n",
      "beignet-opencl-icd: no supported GPU found, this is probably the wrong opencl-icd package for this hardware\n",
      "(If you have multiple ICDs installed and OpenCL works, you can ignore this message)\n",
      "2022-09-18 14:24:25,361 - root - WARNING - Warning: importing 'simtk.openmm' is deprecated.  Import 'openmm' instead.\n",
      "2022-09-18 14:24:25,864 - pocketoptimizer.preparation.structure_building - INFO - Adding hydrogen atoms to the ligand according to pH: 7.\n",
      "2022-09-18 14:24:26,293 - pocketoptimizer.preparation.structure_building - INFO - Parameterize ligand for GAFF2.\n",
      "2022-09-18 14:24:26,538 - pocketoptimizer.preparation.structure_building - INFO - Ligand parametrization was successful.\n"
     ]
    }
   ],
   "source": [
    "# Prepare ligand\n",
    "design.parameterize_ligand(input_ligand='ligand/IAA.sdf',  # Input ligand structure file could be .mol2/.sdf\n",
    "                           addHs=True                      # Whether to add hydrogen atoms to the input structure\n",
    "                           )"
   ]
  },
  {
   "cell_type": "code",
   "execution_count": 4,
   "id": "6358191d",
   "metadata": {},
   "outputs": [
    {
     "name": "stderr",
     "output_type": "stream",
     "text": [
      "2022-09-18 14:24:26,776 - pocketoptimizer.ui - INFO - Start Protein Preparation.\n",
      "2022-09-18 14:24:26,780 - pocketoptimizer.preparation.structure_building - INFO - Starting protein preparation.\n",
      "2022-09-18 14:24:27,014 - pocketoptimizer.preparation.structure_building - INFO - Protonate protein according to pH: 7.\n",
      "2022-09-18 14:24:27,248 - moleculekit.tools.preparation - WARNING - Both chains and segments are defined in Molecule.chain / Molecule.segid, however they are inconsistent. Protein preparation will use the chain information.\n"
     ]
    },
    {
     "name": "stdout",
     "output_type": "stream",
     "text": [
      "\n",
      "---- Molecule chain report ----\n",
      "Chain A:\n",
      "    First residue: SER     5  \n",
      "    Final residue: LEU   105  \n",
      "Chain B:\n",
      "    First residue: SER     5  \n",
      "    Final residue: TRP   901  \n",
      "---- End of chain report ----\n",
      "\n"
     ]
    },
    {
     "name": "stderr",
     "output_type": "stream",
     "text": [
      "2022-09-18 14:24:29,345 - moleculekit.tools.preparation - INFO - Modified residue HIS    16 A to HID\n",
      "2022-09-18 14:24:29,346 - moleculekit.tools.preparation - INFO - Modified residue HIS    35 A to HID\n",
      "2022-09-18 14:24:29,347 - moleculekit.tools.preparation - INFO - Modified residue HIS    16 B to HID\n",
      "2022-09-18 14:24:29,347 - moleculekit.tools.preparation - INFO - Modified residue HIS    35 B to HID\n",
      "2022-09-18 14:24:29,349 - moleculekit.tools.preparation - WARNING - Dubious protonation state: the pKa of 2 residues is within 1.0 units of pH 7.0.\n",
      "2022-09-18 14:24:29,349 - moleculekit.tools.preparation - WARNING - Dubious protonation state:    HIS    16 A (pKa= 6.16)\n",
      "2022-09-18 14:24:29,350 - moleculekit.tools.preparation - WARNING - Dubious protonation state:    HIS    16 B (pKa= 6.24)\n",
      "2022-09-18 14:24:29,986 - pocketoptimizer.preparation.structure_building - INFO - Successfully prepared protein structure.\n",
      "2022-09-18 14:24:29,987 - pocketoptimizer.ui - INFO - Building complex.\n",
      "2022-09-18 14:24:30,187 - pocketoptimizer.preparation.structure_building - INFO - Build native complex.\n",
      "2022-09-18 14:24:30,505 - htmd.builder.amber - INFO - Detecting disulfide bonds.\n",
      "2022-09-18 14:24:30,750 - pocketoptimizer.preparation.structure_building - INFO - Starting the build.\n",
      "2022-09-18 14:24:31,084 - pocketoptimizer.preparation.structure_building - INFO - Finished building.\n",
      "2022-09-18 14:24:34,305 - pocketoptimizer.preparation.structure_building - INFO - Starting potential energy: -613.4546210147854 kcal/mol.\n",
      "2022-09-18 14:24:59,313 - pocketoptimizer.preparation.structure_building - INFO - Ending potential energy: -6393.668593267462 kcal/mol.\n",
      "2022-09-18 14:24:59,464 - pocketoptimizer.preparation.structure_building - INFO - RMSD between minimized and unminimized structure: 0.8755 Å.\n",
      "2022-09-18 14:24:59,712 - pocketoptimizer.ui - INFO - Your protein was successfully minimized and can be used for design now.\n",
      "2022-09-18 14:24:59,713 - pocketoptimizer.ui - INFO - Protein preparation finished.\n"
     ]
    }
   ],
   "source": [
    "design.prepare_protein(\n",
    "    protein_structure='scaffold/1ZT9.pdb',  # Input PDB\n",
    "    keep_chains=['A', 'B'],  # Specific protein chains to keep\n",
    "    minimize=True,           # Whether to minimize the input protein structure\n",
    "    backbone_restraint=True, # Restrains the backbone during the minimization\n",
    "    cuda=False,               # Performs minimization on CPU instead of GPU\n",
    "    discard_mols=[{'chain': 'A', 'resid': '1001'}]     # Special molecules to exclude. Per default everything, but peptides have to be defined manually\n",
    "    )"
   ]
  },
  {
   "cell_type": "code",
   "execution_count": 5,
   "id": "b9e4e7fa",
   "metadata": {},
   "outputs": [
    {
     "name": "stderr",
     "output_type": "stream",
     "text": [
      "2022-09-18 14:24:59,727 - pocketoptimizer.sampling.conformer_generator_obabel - INFO - Starting ligand conformer generation using obabel.\n",
      "2022-09-18 14:24:59,728 - pocketoptimizer.sampling.conformer_generator_obabel - INFO - Selected Method: genetic.\n",
      "2022-09-18 14:25:00,307 - pocketoptimizer.sampling.conformer_generator_obabel - INFO - Generated 50 conformers.\n",
      "2022-09-18 14:25:00,309 - pocketoptimizer.sampling.conformer_generator_obabel - INFO - Conformer sampling was successful.\n"
     ]
    }
   ],
   "source": [
    "design.prepare_lig_conformers(\n",
    "    nconfs=50,         # Maximum number of conformers to produce'\n",
    "    method='genetic',  # Genetic method in OpenBabel, other option is confab\n",
    "    score='rmsd',      # Filters conformers based on RMSD\n",
    "    )"
   ]
  },
  {
   "cell_type": "code",
   "execution_count": 6,
   "id": "b2a2545c",
   "metadata": {},
   "outputs": [
    {
     "name": "stderr",
     "output_type": "stream",
     "text": [
      "2022-09-18 14:25:00,326 - pocketoptimizer.ui - INFO - If design positions are removed or added a new design run should be started.\n"
     ]
    }
   ],
   "source": [
    "# Your mutations\n",
    "design.set_mutations([{'mutations': ['LEU', 'THR'], 'resid': '88', 'chain': 'B'}, \n",
    "                      {'mutations': ['ARG'], 'resid': '84', 'chain': 'B'}, \n",
    "                      {'mutations': ['LEU','THR'], 'resid': '44', 'chain': 'A'}]\n",
    ")"
   ]
  },
  {
   "cell_type": "code",
   "execution_count": 7,
   "id": "e67d6dac",
   "metadata": {},
   "outputs": [
    {
     "name": "stderr",
     "output_type": "stream",
     "text": [
      "2022-09-18 14:25:00,935 - pocketoptimizer.ui - INFO - Start building mutated protein scaffold variants.\n",
      "2022-09-18 14:25:00,936 - pocketoptimizer.ui - INFO - Build GLY sampling pockets.\n",
      "2022-09-18 14:25:01,511 - pocketoptimizer.preparation.structure_building - INFO - Build ligand sampling pocket.\n",
      "2022-09-18 14:25:02,097 - htmd.builder.amber - INFO - Detecting disulfide bonds.\n",
      "2022-09-18 14:25:02,287 - pocketoptimizer.preparation.structure_building - INFO - Starting the build.\n",
      "2022-09-18 14:25:02,642 - pocketoptimizer.preparation.structure_building - INFO - Finished building.\n",
      "2022-09-18 14:25:04,213 - pocketoptimizer.preparation.structure_building - INFO - Build mutation: A_44_LEU.\n",
      "2022-09-18 14:25:04,727 - htmd.builder.amber - INFO - Detecting disulfide bonds.\n",
      "2022-09-18 14:25:04,891 - pocketoptimizer.preparation.structure_building - INFO - Starting the build.\n",
      "2022-09-18 14:25:05,213 - pocketoptimizer.preparation.structure_building - INFO - Finished building.\n",
      "2022-09-18 14:25:06,834 - pocketoptimizer.preparation.structure_building - INFO - Build mutation: A_44_THR.\n",
      "2022-09-18 14:25:07,293 - htmd.builder.amber - INFO - Detecting disulfide bonds.\n",
      "2022-09-18 14:25:07,488 - pocketoptimizer.preparation.structure_building - INFO - Starting the build.\n",
      "2022-09-18 14:25:07,841 - pocketoptimizer.preparation.structure_building - INFO - Finished building.\n",
      "2022-09-18 14:25:09,450 - pocketoptimizer.preparation.structure_building - INFO - Build mutation: B_84_ARG.\n",
      "2022-09-18 14:25:09,970 - htmd.builder.amber - INFO - Detecting disulfide bonds.\n",
      "2022-09-18 14:25:10,128 - pocketoptimizer.preparation.structure_building - INFO - Starting the build.\n",
      "2022-09-18 14:25:10,445 - pocketoptimizer.preparation.structure_building - INFO - Finished building.\n",
      "2022-09-18 14:25:12,015 - pocketoptimizer.preparation.structure_building - INFO - Build mutation: B_88_LEU.\n",
      "2022-09-18 14:25:12,592 - htmd.builder.amber - INFO - Detecting disulfide bonds.\n",
      "2022-09-18 14:25:12,765 - pocketoptimizer.preparation.structure_building - INFO - Starting the build.\n",
      "2022-09-18 14:25:13,074 - pocketoptimizer.preparation.structure_building - INFO - Finished building.\n",
      "2022-09-18 14:25:14,672 - pocketoptimizer.preparation.structure_building - INFO - Build mutation: B_88_THR.\n",
      "2022-09-18 14:25:15,321 - htmd.builder.amber - INFO - Detecting disulfide bonds.\n",
      "2022-09-18 14:25:15,490 - pocketoptimizer.preparation.structure_building - INFO - Starting the build.\n",
      "2022-09-18 14:25:15,793 - pocketoptimizer.preparation.structure_building - INFO - Finished building.\n",
      "2022-09-18 14:25:17,463 - pocketoptimizer.preparation.structure_building - INFO - Build mutation combination: A_44_LEU_B_84_ARG.\n",
      "2022-09-18 14:25:17,989 - htmd.builder.amber - INFO - Detecting disulfide bonds.\n",
      "2022-09-18 14:25:18,162 - pocketoptimizer.preparation.structure_building - INFO - Starting the build.\n",
      "2022-09-18 14:25:18,468 - pocketoptimizer.preparation.structure_building - INFO - Finished building.\n",
      "2022-09-18 14:25:20,091 - pocketoptimizer.preparation.structure_building - INFO - Build mutation combination: A_44_THR_B_84_ARG.\n",
      "2022-09-18 14:25:20,640 - htmd.builder.amber - INFO - Detecting disulfide bonds.\n",
      "2022-09-18 14:25:20,836 - pocketoptimizer.preparation.structure_building - INFO - Starting the build.\n",
      "2022-09-18 14:25:21,152 - pocketoptimizer.preparation.structure_building - INFO - Finished building.\n",
      "2022-09-18 14:25:22,718 - pocketoptimizer.preparation.structure_building - INFO - Build mutation combination: A_44_LEU_B_88_LEU.\n",
      "2022-09-18 14:25:23,140 - htmd.builder.amber - INFO - Detecting disulfide bonds.\n",
      "2022-09-18 14:25:23,406 - pocketoptimizer.preparation.structure_building - INFO - Starting the build.\n",
      "2022-09-18 14:25:23,823 - pocketoptimizer.preparation.structure_building - INFO - Finished building.\n",
      "2022-09-18 14:25:25,436 - pocketoptimizer.preparation.structure_building - INFO - Build mutation combination: A_44_LEU_B_88_THR.\n",
      "2022-09-18 14:25:25,913 - htmd.builder.amber - INFO - Detecting disulfide bonds.\n",
      "2022-09-18 14:25:26,089 - pocketoptimizer.preparation.structure_building - INFO - Starting the build.\n",
      "2022-09-18 14:25:26,425 - pocketoptimizer.preparation.structure_building - INFO - Finished building.\n",
      "2022-09-18 14:25:28,016 - pocketoptimizer.preparation.structure_building - INFO - Build mutation combination: A_44_THR_B_88_LEU.\n",
      "2022-09-18 14:25:28,493 - htmd.builder.amber - INFO - Detecting disulfide bonds.\n",
      "2022-09-18 14:25:28,870 - pocketoptimizer.preparation.structure_building - INFO - Starting the build.\n",
      "2022-09-18 14:25:29,250 - pocketoptimizer.preparation.structure_building - INFO - Finished building.\n",
      "2022-09-18 14:25:30,760 - pocketoptimizer.preparation.structure_building - INFO - Build mutation combination: A_44_THR_B_88_THR.\n",
      "2022-09-18 14:25:31,252 - htmd.builder.amber - INFO - Detecting disulfide bonds.\n",
      "2022-09-18 14:25:31,462 - pocketoptimizer.preparation.structure_building - INFO - Starting the build.\n",
      "2022-09-18 14:25:31,758 - pocketoptimizer.preparation.structure_building - INFO - Finished building.\n",
      "2022-09-18 14:25:33,361 - pocketoptimizer.preparation.structure_building - INFO - Build mutation combination: B_84_ARG_B_88_LEU.\n",
      "2022-09-18 14:25:33,772 - htmd.builder.amber - INFO - Detecting disulfide bonds.\n",
      "2022-09-18 14:25:33,943 - pocketoptimizer.preparation.structure_building - INFO - Starting the build.\n",
      "2022-09-18 14:25:34,227 - pocketoptimizer.preparation.structure_building - INFO - Finished building.\n",
      "2022-09-18 14:25:35,828 - pocketoptimizer.preparation.structure_building - INFO - Build mutation combination: B_84_ARG_B_88_THR.\n",
      "2022-09-18 14:25:36,291 - htmd.builder.amber - INFO - Detecting disulfide bonds.\n",
      "2022-09-18 14:25:36,452 - pocketoptimizer.preparation.structure_building - INFO - Starting the build.\n",
      "2022-09-18 14:25:36,785 - pocketoptimizer.preparation.structure_building - INFO - Finished building.\n",
      "2022-09-18 14:25:38,343 - pocketoptimizer.ui - INFO - Scaffold building done.\n"
     ]
    }
   ],
   "source": [
    "# Prepares all defined mutants and glycine scaffolds for side chain rotamer and ligand pose sampling\n",
    "design.prepare_mutants(sampling_pocket='GLY')"
   ]
  },
  {
   "cell_type": "code",
   "execution_count": 8,
   "id": "59578900",
   "metadata": {},
   "outputs": [
    {
     "name": "stderr",
     "output_type": "stream",
     "text": [
      "2022-09-18 14:25:40,253 - pocketoptimizer.sampling.sidechain_rotamers_ffev - INFO - Start rotamer sampling procedure using FFEvaluate.\n",
      "2022-09-18 14:25:40,254 - pocketoptimizer.sampling.sidechain_rotamers_ffev - INFO - Using 8 CPU's for multiprocessing.\n",
      "2022-09-18 14:25:40,986 - pocketoptimizer.sampling.sidechain_rotamers_ffev - INFO - Rotamers for residue: A_44_LEU not sampled yet.\n"
     ]
    },
    {
     "data": {
      "application/vnd.jupyter.widget-view+json": {
       "model_id": "f6771fb2530b427888b098f496bf4c0d",
       "version_major": 2,
       "version_minor": 0
      },
      "text/plain": [
       "A_44_LEU:   0%|          | 0/64 [00:00<?, ?it/s]"
      ]
     },
     "metadata": {},
     "output_type": "display_data"
    },
    {
     "name": "stderr",
     "output_type": "stream",
     "text": [
      "2022-09-18 14:25:58,564 - pocketoptimizer.sampling.sidechain_rotamers_ffev - INFO - Writing 25/64 rotamers within energy threshold of 100 kcal/mol for LEU at position: A_44.\n",
      "2022-09-18 14:25:58,578 - pocketoptimizer.sampling.sidechain_rotamers_ffev - INFO - Rotamers for residue: A_44_THR not sampled yet.\n"
     ]
    },
    {
     "data": {
      "application/vnd.jupyter.widget-view+json": {
       "model_id": "f20cc3a3405b4dab9c885a8ec452d217",
       "version_major": 2,
       "version_minor": 0
      },
      "text/plain": [
       "A_44_THR:   0%|          | 0/10 [00:00<?, ?it/s]"
      ]
     },
     "metadata": {},
     "output_type": "display_data"
    },
    {
     "name": "stderr",
     "output_type": "stream",
     "text": [
      "2022-09-18 14:26:08,435 - pocketoptimizer.sampling.sidechain_rotamers_ffev - INFO - Writing 6/10 rotamers within energy threshold of 100 kcal/mol for THR at position: A_44.\n",
      "2022-09-18 14:26:08,445 - pocketoptimizer.sampling.sidechain_rotamers_ffev - INFO - Rotamers for residue: B_84_ARG not sampled yet.\n"
     ]
    },
    {
     "data": {
      "application/vnd.jupyter.widget-view+json": {
       "model_id": "4e9ec439aa6844e7906ea6bf4fb60d52",
       "version_major": 2,
       "version_minor": 0
      },
      "text/plain": [
       "B_84_ARG:   0%|          | 0/415 [00:00<?, ?it/s]"
      ]
     },
     "metadata": {},
     "output_type": "display_data"
    },
    {
     "name": "stderr",
     "output_type": "stream",
     "text": [
      "2022-09-18 14:27:24,397 - pocketoptimizer.sampling.sidechain_rotamers_ffev - INFO - Writing 350/415 rotamers within energy threshold of 100 kcal/mol for ARG at position: B_84.\n",
      "2022-09-18 14:27:24,442 - pocketoptimizer.sampling.sidechain_rotamers_ffev - INFO - Rotamers for residue: B_88_LEU not sampled yet.\n"
     ]
    },
    {
     "data": {
      "application/vnd.jupyter.widget-view+json": {
       "model_id": "878d952924294146abfffaa480e2bbae",
       "version_major": 2,
       "version_minor": 0
      },
      "text/plain": [
       "B_88_LEU:   0%|          | 0/55 [00:00<?, ?it/s]"
      ]
     },
     "metadata": {},
     "output_type": "display_data"
    },
    {
     "name": "stderr",
     "output_type": "stream",
     "text": [
      "2022-09-18 14:27:41,449 - pocketoptimizer.sampling.sidechain_rotamers_ffev - INFO - Writing 21/55 rotamers within energy threshold of 100 kcal/mol for LEU at position: B_88.\n",
      "2022-09-18 14:27:41,461 - pocketoptimizer.sampling.sidechain_rotamers_ffev - INFO - Rotamers for residue: B_88_THR not sampled yet.\n"
     ]
    },
    {
     "data": {
      "application/vnd.jupyter.widget-view+json": {
       "model_id": "3cb8479d3d0b4a15b619f75277e6ced8",
       "version_major": 2,
       "version_minor": 0
      },
      "text/plain": [
       "B_88_THR:   0%|          | 0/10 [00:00<?, ?it/s]"
      ]
     },
     "metadata": {},
     "output_type": "display_data"
    },
    {
     "name": "stderr",
     "output_type": "stream",
     "text": [
      "2022-09-18 14:27:51,135 - pocketoptimizer.sampling.sidechain_rotamers_ffev - INFO - Writing 6/10 rotamers within energy threshold of 100 kcal/mol for THR at position: B_88.\n",
      "2022-09-18 14:27:51,159 - pocketoptimizer.sampling.sidechain_rotamers_ffev - INFO - Rotamer sampling procedure is finished.\n"
     ]
    }
   ],
   "source": [
    "# Sampling of side chain rotamers\n",
    "design.sample_sidechain_rotamers(\n",
    "    vdw_filter_thresh=100,         # Energy threshold of 100 kcal/mol for filtering rotamers\n",
    "    library='dunbrack',            # Use dunbrack rotamer library\n",
    "    dunbrack_filter_thresh=0.001,  # Probability threshold for filtering rotamers (0.1%)\n",
    "    accurate=False                 # Increases the number of rotamers sampled when using dunbrack\n",
    "    )"
   ]
  },
  {
   "cell_type": "code",
   "execution_count": 9,
   "id": "b983bed0",
   "metadata": {},
   "outputs": [
    {
     "name": "stderr",
     "output_type": "stream",
     "text": [
      "2022-09-18 14:27:51,180 - pocketoptimizer.ui - INFO - Sample ligand poses.\n",
      "2022-09-18 14:27:51,182 - pocketoptimizer.sampling.ligand_poses - INFO - Start ligand pose sampling procedure.\n",
      "2022-09-18 14:27:52,597 - pocketoptimizer.sampling.ligand_poses - INFO - Generate possible poses within the defined grid.\n"
     ]
    },
    {
     "data": {
      "application/vnd.jupyter.widget-view+json": {
       "model_id": "81a85443bdcd44bdacb17036a126074d",
       "version_major": 2,
       "version_minor": 0
      },
      "text/plain": [
       "Ligand Conformers:   0%|          | 0/51 [00:00<?, ?it/s]"
      ]
     },
     "metadata": {},
     "output_type": "display_data"
    },
    {
     "name": "stderr",
     "output_type": "stream",
     "text": [
      "2022-09-18 14:27:52,677 - pocketoptimizer.sampling.ligand_poses - INFO - Created possible 4641 poses.\n",
      "2022-09-18 14:27:52,678 - pocketoptimizer.sampling.ligand_poses - INFO - Start filtering poses.\n",
      "2022-09-18 14:27:52,679 - pocketoptimizer.sampling.ligand_poses - INFO - Using 8 CPUs for multiprocessing.\n"
     ]
    },
    {
     "data": {
      "application/vnd.jupyter.widget-view+json": {
       "model_id": "a4497dbbc92e43548025bb7921844ffb",
       "version_major": 2,
       "version_minor": 0
      },
      "text/plain": [
       "Filter Poses:   0%|          | 0/4641 [00:00<?, ?it/s]"
      ]
     },
     "metadata": {},
     "output_type": "display_data"
    },
    {
     "name": "stderr",
     "output_type": "stream",
     "text": [
      "2022-09-18 14:38:26,266 - pocketoptimizer.sampling.ligand_poses - INFO - Calculated 1029 poses within energy threshold of 100 kcal/mol.\n",
      "2022-09-18 14:38:26,304 - pocketoptimizer.sampling.ligand_poses - INFO - Pose sampling procedure was successful.\n"
     ]
    }
   ],
   "source": [
    "# Sampling of ligand poses\n",
    "# Defines a grid in which the ligand is translated and rotated along.\n",
    "#                       Range, Steps\n",
    "sample_grid = {'trans': [1, 0.5],  # Angstrom\n",
    "               'rot': [20, 20]}    # Degree\n",
    "design.sample_lig_poses(\n",
    "    method='grid',         #  Uses the grid method. Other option is random\n",
    "    grid=sample_grid,      #  Defined grid for sampling    \n",
    "    vdw_filter_thresh=100, #  Energy threshold of 100 kcal/mol for filtering ligand poses\n",
    "    max_poses=10000        #  Maximum number of poses\n",
    ")"
   ]
  },
  {
   "cell_type": "code",
   "execution_count": 10,
   "id": "bb7a35d1",
   "metadata": {
    "tags": []
   },
   "outputs": [
    {
     "name": "stderr",
     "output_type": "stream",
     "text": [
      "2022-09-18 14:38:26,337 - pocketoptimizer.ui - INFO - Start energy calculations.\n",
      "2022-09-18 14:38:26,338 - pocketoptimizer.ui - INFO - Using 8 CPUs for multiprocessing.\n",
      "2022-09-18 14:38:26,339 - pocketoptimizer.ui - INFO - Calculate Sidechain-Scaffold Energies.\n",
      "2022-09-18 14:38:26,339 - pocketoptimizer.scoring.sidechain_scaffold_energies - INFO - Compute energies using forcefield: amber_ff14SB.\n",
      "2022-09-18 14:38:26,487 - pocketoptimizer.scoring.sidechain_scaffold_energies - INFO - Sidechain-Scaffold/Self interaction energy for residue: A_44_LEU not computed yet.\n"
     ]
    },
    {
     "data": {
      "application/vnd.jupyter.widget-view+json": {
       "model_id": "9a2966211fdc4c03a30c2e1300f74ff4",
       "version_major": 2,
       "version_minor": 0
      },
      "text/plain": [
       "  0%|          | 0/25 [00:00<?, ?it/s]"
      ]
     },
     "metadata": {},
     "output_type": "display_data"
    },
    {
     "name": "stderr",
     "output_type": "stream",
     "text": [
      "2022-09-18 14:38:34,384 - pocketoptimizer.scoring.sidechain_scaffold_energies - INFO - Sidechain-Scaffold/Self interaction energy for residue: A_44_THR not computed yet.\n"
     ]
    },
    {
     "data": {
      "application/vnd.jupyter.widget-view+json": {
       "model_id": "a53870be23854ccba5ce2b0745607564",
       "version_major": 2,
       "version_minor": 0
      },
      "text/plain": [
       "  0%|          | 0/6 [00:00<?, ?it/s]"
      ]
     },
     "metadata": {},
     "output_type": "display_data"
    },
    {
     "name": "stderr",
     "output_type": "stream",
     "text": [
      "2022-09-18 14:38:41,955 - pocketoptimizer.scoring.sidechain_scaffold_energies - INFO - Sidechain-Scaffold/Self interaction energy for residue: B_84_ARG not computed yet.\n"
     ]
    },
    {
     "data": {
      "application/vnd.jupyter.widget-view+json": {
       "model_id": "d93b3d3fe60744748797287297fbc72d",
       "version_major": 2,
       "version_minor": 0
      },
      "text/plain": [
       "  0%|          | 0/350 [00:00<?, ?it/s]"
      ]
     },
     "metadata": {},
     "output_type": "display_data"
    },
    {
     "name": "stderr",
     "output_type": "stream",
     "text": [
      "2022-09-18 14:38:58,923 - pocketoptimizer.scoring.sidechain_scaffold_energies - INFO - Sidechain-Scaffold/Self interaction energy for residue: B_88_LEU not computed yet.\n"
     ]
    },
    {
     "data": {
      "application/vnd.jupyter.widget-view+json": {
       "model_id": "fd191287da724497ad09b9244f5af6fa",
       "version_major": 2,
       "version_minor": 0
      },
      "text/plain": [
       "  0%|          | 0/21 [00:00<?, ?it/s]"
      ]
     },
     "metadata": {},
     "output_type": "display_data"
    },
    {
     "name": "stderr",
     "output_type": "stream",
     "text": [
      "2022-09-18 14:39:06,555 - pocketoptimizer.scoring.sidechain_scaffold_energies - INFO - Sidechain-Scaffold/Self interaction energy for residue: B_88_THR not computed yet.\n"
     ]
    },
    {
     "data": {
      "application/vnd.jupyter.widget-view+json": {
       "model_id": "99d152a7928d49648d1e215f78c9a0be",
       "version_major": 2,
       "version_minor": 0
      },
      "text/plain": [
       "  0%|          | 0/6 [00:00<?, ?it/s]"
      ]
     },
     "metadata": {},
     "output_type": "display_data"
    },
    {
     "name": "stderr",
     "output_type": "stream",
     "text": [
      "2022-09-18 14:39:13,493 - pocketoptimizer.scoring.sidechain_scaffold_energies - INFO - Sidechain-Scaffold/Self calculation was successful.\n",
      "2022-09-18 14:39:13,495 - pocketoptimizer.ui - INFO - Calculate Sidechain-Pair Energies.\n",
      "2022-09-18 14:39:13,496 - pocketoptimizer.scoring.sidechain_pair_energies - INFO - Compute energies using forcefield: amber_ff14SB.\n",
      "2022-09-18 14:39:14,162 - pocketoptimizer.scoring.sidechain_pair_energies - INFO - Sidechain-Sidechain interaction energy for residue pair: A_44_LEU/B_84_ARG not computed yet.\n"
     ]
    },
    {
     "data": {
      "application/vnd.jupyter.widget-view+json": {
       "model_id": "c79fa1f1566245088aa94eace140d219",
       "version_major": 2,
       "version_minor": 0
      },
      "text/plain": [
       "  0%|          | 0/8750 [00:00<?, ?it/s]"
      ]
     },
     "metadata": {},
     "output_type": "display_data"
    },
    {
     "name": "stderr",
     "output_type": "stream",
     "text": [
      "2022-09-18 14:39:25,567 - pocketoptimizer.scoring.sidechain_pair_energies - INFO - Sidechain-Sidechain interaction energy for residue pair: A_44_THR/B_84_ARG not computed yet.\n"
     ]
    },
    {
     "data": {
      "application/vnd.jupyter.widget-view+json": {
       "model_id": "db77e41331e5454c81a37939541819f1",
       "version_major": 2,
       "version_minor": 0
      },
      "text/plain": [
       "  0%|          | 0/2100 [00:00<?, ?it/s]"
      ]
     },
     "metadata": {},
     "output_type": "display_data"
    },
    {
     "name": "stderr",
     "output_type": "stream",
     "text": [
      "2022-09-18 14:39:33,458 - pocketoptimizer.scoring.sidechain_pair_energies - INFO - Sidechain-Sidechain interaction energy for residue pair: A_44_LEU/B_88_LEU not computed yet.\n"
     ]
    },
    {
     "data": {
      "application/vnd.jupyter.widget-view+json": {
       "model_id": "71f39ad51cdb46db8b5a2ed5d11b24fe",
       "version_major": 2,
       "version_minor": 0
      },
      "text/plain": [
       "  0%|          | 0/525 [00:00<?, ?it/s]"
      ]
     },
     "metadata": {},
     "output_type": "display_data"
    },
    {
     "name": "stderr",
     "output_type": "stream",
     "text": [
      "2022-09-18 14:39:40,603 - pocketoptimizer.scoring.sidechain_pair_energies - INFO - Sidechain-Sidechain interaction energy for residue pair: A_44_LEU/B_88_THR not computed yet.\n"
     ]
    },
    {
     "data": {
      "application/vnd.jupyter.widget-view+json": {
       "model_id": "02df3191b4314874b8e0762cedd98a77",
       "version_major": 2,
       "version_minor": 0
      },
      "text/plain": [
       "  0%|          | 0/150 [00:00<?, ?it/s]"
      ]
     },
     "metadata": {},
     "output_type": "display_data"
    },
    {
     "name": "stderr",
     "output_type": "stream",
     "text": [
      "2022-09-18 14:39:47,766 - pocketoptimizer.scoring.sidechain_pair_energies - INFO - Sidechain-Sidechain interaction energy for residue pair: A_44_THR/B_88_LEU not computed yet.\n"
     ]
    },
    {
     "data": {
      "application/vnd.jupyter.widget-view+json": {
       "model_id": "df72fb14f54044f98488aa0e4b1cdbeb",
       "version_major": 2,
       "version_minor": 0
      },
      "text/plain": [
       "  0%|          | 0/126 [00:00<?, ?it/s]"
      ]
     },
     "metadata": {},
     "output_type": "display_data"
    },
    {
     "name": "stderr",
     "output_type": "stream",
     "text": [
      "2022-09-18 14:39:54,819 - pocketoptimizer.scoring.sidechain_pair_energies - INFO - Sidechain-Sidechain interaction energy for residue pair: A_44_THR/B_88_THR not computed yet.\n"
     ]
    },
    {
     "data": {
      "application/vnd.jupyter.widget-view+json": {
       "model_id": "62d658d1186d49499f36933414aa978c",
       "version_major": 2,
       "version_minor": 0
      },
      "text/plain": [
       "  0%|          | 0/36 [00:00<?, ?it/s]"
      ]
     },
     "metadata": {},
     "output_type": "display_data"
    },
    {
     "name": "stderr",
     "output_type": "stream",
     "text": [
      "2022-09-18 14:40:02,619 - pocketoptimizer.scoring.sidechain_pair_energies - INFO - Sidechain-Sidechain interaction energy for residue pair: B_84_ARG/B_88_LEU not computed yet.\n"
     ]
    },
    {
     "data": {
      "application/vnd.jupyter.widget-view+json": {
       "model_id": "47b93c399e304defab57efb9bab55596",
       "version_major": 2,
       "version_minor": 0
      },
      "text/plain": [
       "  0%|          | 0/7350 [00:00<?, ?it/s]"
      ]
     },
     "metadata": {},
     "output_type": "display_data"
    },
    {
     "name": "stderr",
     "output_type": "stream",
     "text": [
      "2022-09-18 14:40:12,903 - pocketoptimizer.scoring.sidechain_pair_energies - INFO - Sidechain-Sidechain interaction energy for residue pair: B_84_ARG/B_88_THR not computed yet.\n"
     ]
    },
    {
     "data": {
      "application/vnd.jupyter.widget-view+json": {
       "model_id": "5134eb1b94de4e908db72a5577faa63e",
       "version_major": 2,
       "version_minor": 0
      },
      "text/plain": [
       "  0%|          | 0/2100 [00:00<?, ?it/s]"
      ]
     },
     "metadata": {},
     "output_type": "display_data"
    },
    {
     "name": "stderr",
     "output_type": "stream",
     "text": [
      "2022-09-18 14:40:20,842 - pocketoptimizer.scoring.sidechain_pair_energies - INFO - Sidechain-Pair calculation was successful.\n",
      "2022-09-18 14:40:20,845 - pocketoptimizer.ui - INFO - Calculate Ligand-Scaffold/Sidechain-Interaction-Energies.\n",
      "2022-09-18 14:40:20,849 - pocketoptimizer.scoring.smina_scorer - INFO - Score ligand interactions using vina.\n",
      "2022-09-18 14:40:22,199 - pocketoptimizer.scoring.smina_scorer - INFO - Ligand-Scaffold/Self interaction energy not computed yet.\n",
      "2022-09-18 14:40:22,200 - pocketoptimizer.scoring.smina_scorer - INFO - Prepare fixed scaffold.\n"
     ]
    },
    {
     "data": {
      "application/vnd.jupyter.widget-view+json": {
       "model_id": "93a8dcfc19ea471383bc58f93677793c",
       "version_major": 2,
       "version_minor": 0
      },
      "text/plain": [
       "Ligand/Scaffold:   0%|          | 0/1 [00:00<?, ?it/s]"
      ]
     },
     "metadata": {},
     "output_type": "display_data"
    },
    {
     "name": "stderr",
     "output_type": "stream",
     "text": [
      "2022-09-18 14:40:24,432 - pocketoptimizer.scoring.smina_scorer - INFO - Ligand-Sidechain interaction energy for residue: A_44_LEU not computed yet.\n",
      "2022-09-18 14:40:24,520 - pocketoptimizer.scoring.smina_scorer - INFO - Loop over rotamers of residue: A_44_LEU.\n"
     ]
    },
    {
     "data": {
      "application/vnd.jupyter.widget-view+json": {
       "model_id": "9d18539da704432d908bdc1731b26d73",
       "version_major": 2,
       "version_minor": 0
      },
      "text/plain": [
       "Ligand/A_44_LEU:   0%|          | 0/25 [00:00<?, ?it/s]"
      ]
     },
     "metadata": {},
     "output_type": "display_data"
    },
    {
     "name": "stderr",
     "output_type": "stream",
     "text": [
      "2022-09-18 14:40:45,572 - pocketoptimizer.scoring.smina_scorer - INFO - Ligand-Sidechain interaction energy for residue: A_44_THR not computed yet.\n",
      "2022-09-18 14:40:45,612 - pocketoptimizer.scoring.smina_scorer - INFO - Loop over rotamers of residue: A_44_THR.\n"
     ]
    },
    {
     "data": {
      "application/vnd.jupyter.widget-view+json": {
       "model_id": "78517360874b4ba6b5cf48a25f201ec7",
       "version_major": 2,
       "version_minor": 0
      },
      "text/plain": [
       "Ligand/A_44_THR:   0%|          | 0/6 [00:00<?, ?it/s]"
      ]
     },
     "metadata": {},
     "output_type": "display_data"
    },
    {
     "name": "stderr",
     "output_type": "stream",
     "text": [
      "2022-09-18 14:40:50,728 - pocketoptimizer.scoring.smina_scorer - INFO - Ligand-Sidechain interaction energy for residue: B_84_ARG not computed yet.\n",
      "2022-09-18 14:40:51,601 - pocketoptimizer.scoring.smina_scorer - INFO - Loop over rotamers of residue: B_84_ARG.\n"
     ]
    },
    {
     "data": {
      "application/vnd.jupyter.widget-view+json": {
       "model_id": "df62b0a6e4d342938e05d642bbad2faf",
       "version_major": 2,
       "version_minor": 0
      },
      "text/plain": [
       "Ligand/B_84_ARG:   0%|          | 0/350 [00:00<?, ?it/s]"
      ]
     },
     "metadata": {},
     "output_type": "display_data"
    },
    {
     "name": "stderr",
     "output_type": "stream",
     "text": [
      "2022-09-18 14:45:48,098 - pocketoptimizer.scoring.smina_scorer - INFO - Ligand-Sidechain interaction energy for residue: B_88_LEU not computed yet.\n",
      "2022-09-18 14:45:48,229 - pocketoptimizer.scoring.smina_scorer - INFO - Loop over rotamers of residue: B_88_LEU.\n"
     ]
    },
    {
     "data": {
      "application/vnd.jupyter.widget-view+json": {
       "model_id": "1ead48d4271c4350952446e510d258b7",
       "version_major": 2,
       "version_minor": 0
      },
      "text/plain": [
       "Ligand/B_88_LEU:   0%|          | 0/21 [00:00<?, ?it/s]"
      ]
     },
     "metadata": {},
     "output_type": "display_data"
    },
    {
     "name": "stderr",
     "output_type": "stream",
     "text": [
      "2022-09-18 14:46:06,793 - pocketoptimizer.scoring.smina_scorer - INFO - Ligand-Sidechain interaction energy for residue: B_88_THR not computed yet.\n",
      "2022-09-18 14:46:06,833 - pocketoptimizer.scoring.smina_scorer - INFO - Loop over rotamers of residue: B_88_THR.\n"
     ]
    },
    {
     "data": {
      "application/vnd.jupyter.widget-view+json": {
       "model_id": "4b7f5d0b245f4c858b8b98ed32030b2d",
       "version_major": 2,
       "version_minor": 0
      },
      "text/plain": [
       "Ligand/B_88_THR:   0%|          | 0/6 [00:00<?, ?it/s]"
      ]
     },
     "metadata": {},
     "output_type": "display_data"
    },
    {
     "name": "stderr",
     "output_type": "stream",
     "text": [
      "2022-09-18 14:46:12,288 - pocketoptimizer.scoring.smina_scorer - INFO - Ligand scoring was successful.\n",
      "2022-09-18 14:46:12,289 - pocketoptimizer.ui - INFO - Energy calculation was successful.\n"
     ]
    }
   ],
   "source": [
    "design.calculate_energies(\n",
    "    scoring='vina',           #  Method to score protein-ligand interaction\n",
    ")"
   ]
  },
  {
   "cell_type": "code",
   "execution_count": 13,
   "id": "d7d2cd60",
   "metadata": {
    "tags": []
   },
   "outputs": [
    {
     "name": "stderr",
     "output_type": "stream",
     "text": [
      "2022-09-18 14:49:12,619 - pocketoptimizer.solving.sontag_solver - INFO - Calculating Solutions.\n"
     ]
    },
    {
     "data": {
      "application/vnd.jupyter.widget-view+json": {
       "model_id": "1c240f8e6cde4d85b6bd5988ba78af42",
       "version_major": 2,
       "version_minor": 0
      },
      "text/plain": [
       "Solutions:   0%|          | 0/10 [00:00<?, ?it/s]"
      ]
     },
     "metadata": {},
     "output_type": "display_data"
    },
    {
     "name": "stderr",
     "output_type": "stream",
     "text": [
      "2022-09-18 14:50:05,125 - pocketoptimizer.ui - INFO - Parse calculated solutions.\n",
      "2022-09-18 14:50:05,558 - pocketoptimizer.ui - INFO - Read 10 solution(s) from solver output.\n",
      "2022-09-18 14:50:09,624 - pocketoptimizer.ui - INFO - Write text report.\n",
      "2022-09-18 14:50:09,664 - pocketoptimizer.ui - INFO - Wrote solution report text file(s).\n",
      "2022-09-18 14:50:09,667 - pocketoptimizer.ui - INFO - Wrote summary text file.\n",
      "2022-09-18 14:50:09,667 - pocketoptimizer.ui - INFO - Write html report.\n",
      "2022-09-18 14:50:09,757 - pocketoptimizer.ui - INFO - Wrote solution report html file(s).\n",
      "2022-09-18 14:50:09,758 - pocketoptimizer.design.html_reporter - INFO - Create energy plot.\n",
      "2022-09-18 14:50:10,148 - pocketoptimizer.design.html_reporter - INFO - Create sequence logo for mutable positions.\n"
     ]
    },
    {
     "data": {
      "image/png": "[encoded data removed]",
      "text/plain": [
       "<IPython.core.display.Image object>"
      ]
     },
     "metadata": {},
     "output_type": "display_data"
    },
    {
     "name": "stderr",
     "output_type": "stream",
     "text": [
      "2022-09-18 14:50:10,583 - pocketoptimizer.ui - INFO - Wrote summary html file.\n",
      "2022-09-18 14:50:10,584 - pocketoptimizer.ui - INFO - Creating design structure files.\n",
      "2022-09-18 14:50:10,584 - pocketoptimizer.ui - INFO - Create Structures.\n",
      "2022-09-18 14:50:20,171 - pocketoptimizer.ui - INFO - Creating PyMol scripts.\n",
      "2022-09-18 14:50:20,197 - pocketoptimizer.ui - INFO - 10 best design solution(s) for design with forcefield: amber_ff14SB, scoring method: vina and ligand scaling: 5 identified.\n"
     ]
    },
    {
     "data": {
      "image/png": "[encoded data removed]",
      "text/plain": [
       "<Figure size 640x480 with 1 Axes>"
      ]
     },
     "metadata": {},
     "output_type": "display_data"
    }
   ],
   "source": [
    "# Compute the lowest energy structures using linear programming\n",
    "design.design(\n",
    "    num_solutions=10,           #  Number of solutions to compute\n",
    "    ligand_scaling=5,          #  Scaling factor for binding-related energies\n",
    ")"
   ]
  },
  {
   "cell_type": "code",
   "execution_count": 8,
   "id": "a4510d5f-c706-4cf7-825e-45556ec12d2b",
   "metadata": {},
   "outputs": [
    {
     "name": "stderr",
     "output_type": "stream",
     "text": [
      "2022-09-18 14:24:07,534 - pocketoptimizer.ui - INFO - All scaffold files are deleted.\n",
      "2022-09-18 14:24:07,768 - pocketoptimizer.ui - INFO - All ligand files are deleted.\n",
      "2022-09-18 14:24:07,804 - pocketoptimizer.ui - INFO - Deleted settings file.\n",
      "2022-09-18 14:24:07,808 - pocketoptimizer.ui - INFO - Deleted log file.\n",
      "2022-09-18 14:24:07,810 - pocketoptimizer.ui - INFO - All files were deleted.\n",
      "2022-09-18 14:24:07,812 - pocketoptimizer.ui - INFO - Initialize a new DesignPipeline.\n"
     ]
    }
   ],
   "source": [
    "# Do not run this unless you wanna fully clean your working directory from all created files and folders\n",
    "design.clean(scaffold=True, ligand=True)"
   ]
  },
  {
   "cell_type": "code",
   "execution_count": null,
   "id": "6e8ac38d-0f89-42c1-84c8-d8073419cb19",
   "metadata": {},
   "outputs": [],
   "source": []
  }
 ],
 "metadata": {
  "kernelspec": {
   "display_name": "pocketoptimizer",
   "language": "python",
   "name": "pocketoptimizer"
  },
  "language_info": {
   "codemirror_mode": {
    "name": "ipython",
    "version": 3
   },
   "file_extension": ".py",
   "mimetype": "text/x-python",
   "name": "python",
   "nbconvert_exporter": "python",
   "pygments_lexer": "ipython3",
   "version": "3.9.13"
  }
 },
 "nbformat": 4,
 "nbformat_minor": 5
}