{
 "cells": [
  {
   "cell_type": "markdown",
   "id": "f3d596fc-7ec4-4d0f-9f59-cfd55ab994a7",
   "metadata": {},
   "source": [
    "## TrpR_IAA"
   ]
  },
  {
   "cell_type": "markdown",
   "id": "621603ed-1568-4797-8914-3ddd9456a93c",
   "metadata": {},
   "source": [
    "Exemplary design of the trpytophane repressor (PDB: 1ZT9) with the ligand indole-3-acetic acid (IAA)."
   ]
  },
  {
   "cell_type": "code",
   "execution_count": 1,
   "id": "d23d8c90",
   "metadata": {},
   "outputs": [],
   "source": [
    "# This is a comment. It's marked by a leading \"#\" symbol\n",
    "\n",
    "# Import OS and system libraries\n",
    "import sys\n",
    "import os\n",
    "import logging\n",
    "\n",
    "# Append the pocketoptimizer code to your $PYTHONPATH\n",
    "cwd = os.getcwd()\n",
    "po_dir = os.path.abspath(os.path.join(cwd, '..'))\n",
    "project_dir = os.path.join(cwd, 'TrpR_IAA')\n",
    "if not po_dir in sys.path:\n",
    "    sys.path.insert(0, po_dir)\n",
    "\n",
    "# Import Pocketoptimizer\n",
    "import pocketoptimizer as po\n",
    "\n",
    "# Remove most warnings, only show Errors\n",
    "import warnings\n",
    "warnings.simplefilter(action='ignore', category=FutureWarning)\n",
    "warnings.simplefilter(action='ignore', category=DeprecationWarning)"
   ]
  },
  {
   "cell_type": "code",
   "execution_count": 2,
   "id": "20beea30",
   "metadata": {},
   "outputs": [
    {
     "name": "stderr",
     "output_type": "stream",
     "text": [
      "2022-11-10 16:42:37,175 - pocketoptimizer.ui - INFO - Logging to: /agh/projects/jakob/PycharmProjects/PocketOptimizer2/docs/tutorials/TrpR_IAA/pocketoptimizer.log\n"
     ]
    }
   ],
   "source": [
    "# Initialize a new design pipeline\n",
    "design = po.DesignPipeline(work_dir=project_dir,         # Path to working directory containing scaffold and ligand subdirectory\n",
    "                           ph=7,                         # pH used for protein and ligand protonation\n",
    "                           forcefield='amber_ff14SB',    # forcefield used for all energy computations (Use Amber as it is better tested!)\n",
    "                           intra=False,                  # Whether to score intramolecular energies or not (Experimental, should be turned off!)\n",
    "                           elec=0.01,                    # Scaling factor for electrostatic energies (1 %, you might want to increase that!)\n",
    "                           ncpus=8)                      # Number of CPUs for multiprocessing"
   ]
  },
  {
   "cell_type": "markdown",
   "id": "55fca39b-aa2a-4752-bc42-7182d31b7012",
   "metadata": {},
   "source": [
    "### From now on you are inside the directory of your design!"
   ]
  },
  {
   "cell_type": "code",
   "execution_count": 3,
   "id": "a4513f1b",
   "metadata": {},
   "outputs": [
    {
     "name": "stderr",
     "output_type": "stream",
     "text": [
      "2022-11-10 16:42:40,737 - numexpr.utils - INFO - Note: NumExpr detected 16 cores but \"NUMEXPR_MAX_THREADS\" not set, so enforcing safe limit of 8.\n",
      "2022-11-10 16:42:40,738 - numexpr.utils - INFO - NumExpr defaulting to 8 threads.\n",
      "beignet-opencl-icd: no supported GPU found, this is probably the wrong opencl-icd package for this hardware\n",
      "(If you have multiple ICDs installed and OpenCL works, you can ignore this message)\n",
      "beignet-opencl-icd: no supported GPU found, this is probably the wrong opencl-icd package for this hardware\n",
      "(If you have multiple ICDs installed and OpenCL works, you can ignore this message)\n",
      "2022-11-10 16:42:41,603 - root - WARNING - Warning: importing 'simtk.openmm' is deprecated.  Import 'openmm' instead.\n",
      "2022-11-10 16:42:42,116 - pocketoptimizer.preparation.structure_building - INFO - Adding hydrogen atoms to the ligand according to pH: 7.\n",
      "2022-11-10 16:42:55,992 - pocketoptimizer.preparation.structure_building - INFO - Parameterize ligand for GAFF2.\n",
      "2022-11-10 16:42:56,989 - pocketoptimizer.preparation.structure_building - INFO - Ligand parametrization was successful.\n"
     ]
    }
   ],
   "source": [
    "# Prepare ligand\n",
    "design.parameterize_ligand(input_ligand='ligand/IAA.sdf',  # Input ligand structure file could be .mol2/.sdf\n",
    "                           addHs=True                      # Whether to add hydrogen atoms to the input structure\n",
    "                           )"
   ]
  },
  {
   "cell_type": "code",
   "execution_count": 4,
   "id": "6358191d",
   "metadata": {},
   "outputs": [
    {
     "name": "stderr",
     "output_type": "stream",
     "text": [
      "2022-11-10 16:42:57,004 - pocketoptimizer.ui - INFO - Start Protein Preparation.\n",
      "2022-11-10 16:42:57,007 - pocketoptimizer.preparation.structure_building - INFO - Starting protein preparation.\n",
      "2022-11-10 16:42:57,236 - pocketoptimizer.preparation.structure_building - INFO - Protonate protein according to pH: 7.\n",
      "2022-11-10 16:42:57,419 - moleculekit.tools.preparation - WARNING - Both chains and segments are defined in Molecule.chain / Molecule.segid, however they are inconsistent. Protein preparation will use the chain information.\n"
     ]
    },
    {
     "name": "stdout",
     "output_type": "stream",
     "text": [
      "\n",
      "---- Molecule chain report ----\n",
      "Chain A:\n",
      "    First residue: SER     5  \n",
      "    Final residue: LEU   105  \n",
      "Chain B:\n",
      "    First residue: SER     5  \n",
      "    Final residue: TRP   901  \n",
      "---- End of chain report ----\n",
      "\n"
     ]
    },
    {
     "name": "stderr",
     "output_type": "stream",
     "text": [
      "2022-11-10 16:42:59,223 - moleculekit.tools.preparation - INFO - Modified residue HIS    16 A to HID\n",
      "2022-11-10 16:42:59,224 - moleculekit.tools.preparation - INFO - Modified residue HIS    35 A to HID\n",
      "2022-11-10 16:42:59,224 - moleculekit.tools.preparation - INFO - Modified residue HIS    16 B to HID\n",
      "2022-11-10 16:42:59,225 - moleculekit.tools.preparation - INFO - Modified residue HIS    35 B to HID\n",
      "2022-11-10 16:42:59,226 - moleculekit.tools.preparation - WARNING - Dubious protonation state: the pKa of 2 residues is within 1.0 units of pH 7.0.\n",
      "2022-11-10 16:42:59,227 - moleculekit.tools.preparation - WARNING - Dubious protonation state:    HIS    16 A (pKa= 6.16)\n",
      "2022-11-10 16:42:59,228 - moleculekit.tools.preparation - WARNING - Dubious protonation state:    HIS    16 B (pKa= 6.24)\n",
      "2022-11-10 16:42:59,831 - pocketoptimizer.preparation.structure_building - INFO - Successfully prepared protein structure.\n",
      "2022-11-10 16:42:59,832 - pocketoptimizer.ui - INFO - Building complex.\n",
      "2022-11-10 16:43:00,016 - pocketoptimizer.preparation.structure_building - INFO - Build native complex.\n",
      "2022-11-10 16:43:00,328 - htmd.builder.amber - INFO - Detecting disulfide bonds.\n",
      "2022-11-10 16:43:00,832 - pocketoptimizer.preparation.structure_building - INFO - Starting the build.\n",
      "2022-11-10 16:43:05,319 - pocketoptimizer.preparation.structure_building - INFO - Finished building.\n",
      "2022-11-10 16:43:08,235 - pocketoptimizer.preparation.structure_building - INFO - Starting potential energy: -613.4546210147854 kcal/mol.\n",
      "2022-11-10 16:43:31,545 - pocketoptimizer.preparation.structure_building - INFO - Ending potential energy: -6386.936552655715 kcal/mol.\n",
      "2022-11-10 16:43:31,694 - pocketoptimizer.preparation.structure_building - INFO - RMSD between minimized and unminimized structure: 0.8669 Å.\n",
      "2022-11-10 16:43:31,860 - pocketoptimizer.ui - INFO - Your protein was successfully minimized and can be used for design now.\n",
      "2022-11-10 16:43:31,861 - pocketoptimizer.ui - INFO - Protein preparation finished.\n"
     ]
    }
   ],
   "source": [
    "design.prepare_protein(\n",
    "    protein_structure='scaffold/1ZT9.pdb',  # Input PDB\n",
    "    keep_chains=['A', 'B'],  # Specific protein chains to keep\n",
    "    minimize=True,           # Whether to minimize the input protein structure\n",
    "    backbone_restraint=True, # Restrains the backbone during the minimization\n",
    "    cuda=False,               # Performs minimization on CPU instead of GPU\n",
    "    discard_mols=[{'chain': 'A', 'resid': '1001'}]     # Special molecules to exclude. Per default everything, but peptides have to be defined manually\n",
    "    )"
   ]
  },
  {
   "cell_type": "code",
   "execution_count": 5,
   "id": "b9e4e7fa",
   "metadata": {},
   "outputs": [
    {
     "name": "stderr",
     "output_type": "stream",
     "text": [
      "2022-11-10 16:43:31,871 - pocketoptimizer.sampling.conformer_generator_obabel - INFO - Starting ligand conformer generation using obabel.\n",
      "2022-11-10 16:43:31,872 - pocketoptimizer.sampling.conformer_generator_obabel - INFO - Selected Method: genetic.\n",
      "2022-11-10 16:43:33,319 - pocketoptimizer.sampling.conformer_generator_obabel - INFO - Generated 50 conformers.\n",
      "2022-11-10 16:43:33,322 - pocketoptimizer.sampling.conformer_generator_obabel - INFO - Conformer sampling was successful.\n"
     ]
    }
   ],
   "source": [
    "design.prepare_lig_conformers(\n",
    "    nconfs=50,         # Maximum number of conformers to produce (Sometimes these methods produce lower number of conformations)\n",
    "    method='genetic',  # Genetic method in OpenBabel, other option is confab\n",
    "    score='rmsd',      # Filters conformers based on RMSD\n",
    "    )"
   ]
  },
  {
   "cell_type": "code",
   "execution_count": 6,
   "id": "b2a2545c",
   "metadata": {},
   "outputs": [
    {
     "name": "stderr",
     "output_type": "stream",
     "text": [
      "2022-11-10 16:43:33,336 - pocketoptimizer.ui - INFO - If design positions are removed or added a new design run should be started.\n"
     ]
    }
   ],
   "source": [
    "# Your mutations\n",
    "design.set_mutations([{'mutations': ['LEU', 'THR'], 'resid': '88', 'chain': 'B'}, \n",
    "                      {'mutations': ['ARG'], 'resid': '84', 'chain': 'B'}, \n",
    "                      {'mutations': ['LEU','THR'], 'resid': '44', 'chain': 'A'}]\n",
    ")"
   ]
  },
  {
   "cell_type": "code",
   "execution_count": 7,
   "id": "e67d6dac",
   "metadata": {},
   "outputs": [
    {
     "name": "stderr",
     "output_type": "stream",
     "text": [
      "2022-11-10 16:43:33,987 - pocketoptimizer.ui - INFO - Start building mutated protein scaffold variants.\n",
      "2022-11-10 16:43:33,988 - pocketoptimizer.ui - INFO - Build GLY sampling pockets.\n",
      "2022-11-10 16:43:34,492 - pocketoptimizer.preparation.structure_building - INFO - Build ligand sampling pocket.\n",
      "2022-11-10 16:43:34,982 - htmd.builder.amber - INFO - Detecting disulfide bonds.\n",
      "2022-11-10 16:43:35,156 - pocketoptimizer.preparation.structure_building - INFO - Starting the build.\n",
      "2022-11-10 16:43:35,482 - pocketoptimizer.preparation.structure_building - INFO - Finished building.\n",
      "2022-11-10 16:43:36,943 - pocketoptimizer.preparation.structure_building - INFO - Build mutation: A_44_LEU.\n",
      "2022-11-10 16:43:37,510 - htmd.builder.amber - INFO - Detecting disulfide bonds.\n",
      "2022-11-10 16:43:37,687 - pocketoptimizer.preparation.structure_building - INFO - Starting the build.\n",
      "2022-11-10 16:43:38,070 - pocketoptimizer.preparation.structure_building - INFO - Finished building.\n",
      "2022-11-10 16:43:39,544 - pocketoptimizer.preparation.structure_building - INFO - Build mutation: A_44_THR.\n",
      "2022-11-10 16:43:40,054 - htmd.builder.amber - INFO - Detecting disulfide bonds.\n",
      "2022-11-10 16:43:40,228 - pocketoptimizer.preparation.structure_building - INFO - Starting the build.\n",
      "2022-11-10 16:43:40,607 - pocketoptimizer.preparation.structure_building - INFO - Finished building.\n",
      "2022-11-10 16:43:42,043 - pocketoptimizer.preparation.structure_building - INFO - Build mutation: B_84_ARG.\n",
      "2022-11-10 16:43:42,569 - htmd.builder.amber - INFO - Detecting disulfide bonds.\n",
      "2022-11-10 16:43:42,727 - pocketoptimizer.preparation.structure_building - INFO - Starting the build.\n",
      "2022-11-10 16:43:43,067 - pocketoptimizer.preparation.structure_building - INFO - Finished building.\n",
      "2022-11-10 16:43:44,506 - pocketoptimizer.preparation.structure_building - INFO - Build mutation: B_88_LEU.\n",
      "2022-11-10 16:43:44,991 - htmd.builder.amber - INFO - Detecting disulfide bonds.\n",
      "2022-11-10 16:43:45,151 - pocketoptimizer.preparation.structure_building - INFO - Starting the build.\n",
      "2022-11-10 16:43:45,501 - pocketoptimizer.preparation.structure_building - INFO - Finished building.\n",
      "2022-11-10 16:43:46,971 - pocketoptimizer.preparation.structure_building - INFO - Build mutation: B_88_THR.\n",
      "2022-11-10 16:43:47,529 - htmd.builder.amber - INFO - Detecting disulfide bonds.\n",
      "2022-11-10 16:43:47,711 - pocketoptimizer.preparation.structure_building - INFO - Starting the build.\n",
      "2022-11-10 16:43:48,090 - pocketoptimizer.preparation.structure_building - INFO - Finished building.\n",
      "2022-11-10 16:43:49,570 - pocketoptimizer.preparation.structure_building - INFO - Build mutation combination: A_44_LEU_B_84_ARG.\n",
      "2022-11-10 16:43:50,051 - htmd.builder.amber - INFO - Detecting disulfide bonds.\n",
      "2022-11-10 16:43:50,233 - pocketoptimizer.preparation.structure_building - INFO - Starting the build.\n",
      "2022-11-10 16:43:50,607 - pocketoptimizer.preparation.structure_building - INFO - Finished building.\n",
      "2022-11-10 16:43:52,122 - pocketoptimizer.preparation.structure_building - INFO - Build mutation combination: A_44_THR_B_84_ARG.\n",
      "2022-11-10 16:43:52,591 - htmd.builder.amber - INFO - Detecting disulfide bonds.\n",
      "2022-11-10 16:43:52,766 - pocketoptimizer.preparation.structure_building - INFO - Starting the build.\n",
      "2022-11-10 16:43:53,120 - pocketoptimizer.preparation.structure_building - INFO - Finished building.\n",
      "2022-11-10 16:43:54,519 - pocketoptimizer.preparation.structure_building - INFO - Build mutation combination: A_44_LEU_B_88_LEU.\n",
      "2022-11-10 16:43:54,984 - htmd.builder.amber - INFO - Detecting disulfide bonds.\n",
      "2022-11-10 16:43:55,141 - pocketoptimizer.preparation.structure_building - INFO - Starting the build.\n",
      "2022-11-10 16:43:55,464 - pocketoptimizer.preparation.structure_building - INFO - Finished building.\n",
      "2022-11-10 16:43:56,872 - pocketoptimizer.preparation.structure_building - INFO - Build mutation combination: A_44_LEU_B_88_THR.\n",
      "2022-11-10 16:43:57,348 - htmd.builder.amber - INFO - Detecting disulfide bonds.\n",
      "2022-11-10 16:43:57,506 - pocketoptimizer.preparation.structure_building - INFO - Starting the build.\n",
      "2022-11-10 16:43:57,816 - pocketoptimizer.preparation.structure_building - INFO - Finished building.\n",
      "2022-11-10 16:43:59,341 - pocketoptimizer.preparation.structure_building - INFO - Build mutation combination: A_44_THR_B_88_LEU.\n",
      "2022-11-10 16:43:59,749 - htmd.builder.amber - INFO - Detecting disulfide bonds.\n",
      "2022-11-10 16:43:59,923 - pocketoptimizer.preparation.structure_building - INFO - Starting the build.\n",
      "2022-11-10 16:44:00,330 - pocketoptimizer.preparation.structure_building - INFO - Finished building.\n",
      "2022-11-10 16:44:01,787 - pocketoptimizer.preparation.structure_building - INFO - Build mutation combination: A_44_THR_B_88_THR.\n",
      "2022-11-10 16:44:02,263 - htmd.builder.amber - INFO - Detecting disulfide bonds.\n",
      "2022-11-10 16:44:02,438 - pocketoptimizer.preparation.structure_building - INFO - Starting the build.\n",
      "2022-11-10 16:44:02,748 - pocketoptimizer.preparation.structure_building - INFO - Finished building.\n",
      "2022-11-10 16:44:04,192 - pocketoptimizer.preparation.structure_building - INFO - Build mutation combination: B_84_ARG_B_88_LEU.\n",
      "2022-11-10 16:44:04,632 - htmd.builder.amber - INFO - Detecting disulfide bonds.\n",
      "2022-11-10 16:44:04,950 - pocketoptimizer.preparation.structure_building - INFO - Starting the build.\n",
      "2022-11-10 16:44:05,272 - pocketoptimizer.preparation.structure_building - INFO - Finished building.\n",
      "2022-11-10 16:44:06,800 - pocketoptimizer.preparation.structure_building - INFO - Build mutation combination: B_84_ARG_B_88_THR.\n",
      "2022-11-10 16:44:07,262 - htmd.builder.amber - INFO - Detecting disulfide bonds.\n",
      "2022-11-10 16:44:07,436 - pocketoptimizer.preparation.structure_building - INFO - Starting the build.\n",
      "2022-11-10 16:44:07,785 - pocketoptimizer.preparation.structure_building - INFO - Finished building.\n",
      "2022-11-10 16:44:09,405 - pocketoptimizer.ui - INFO - Scaffold building done.\n"
     ]
    }
   ],
   "source": [
    "# Prepares all defined mutants and glycine scaffolds for side chain rotamer and ligand pose sampling\n",
    "design.prepare_mutants(sampling_pocket='GLY')"
   ]
  },
  {
   "cell_type": "code",
   "execution_count": 8,
   "id": "59578900",
   "metadata": {},
   "outputs": [
    {
     "name": "stderr",
     "output_type": "stream",
     "text": [
      "2022-11-10 16:44:11,577 - pocketoptimizer.sampling.sidechain_rotamers_ffev - INFO - Start rotamer sampling procedure using FFEvaluate.\n",
      "2022-11-10 16:44:11,578 - pocketoptimizer.sampling.sidechain_rotamers_ffev - INFO - Using 8 CPU's for multiprocessing.\n",
      "2022-11-10 16:44:12,356 - pocketoptimizer.sampling.sidechain_rotamers_ffev - INFO - Rotamers for residue: A_44_LEU not sampled yet.\n"
     ]
    },
    {
     "data": {
      "application/vnd.jupyter.widget-view+json": {
       "model_id": "769ffa4bc3494c2e81465d5ce9c95c6d",
       "version_major": 2,
       "version_minor": 0
      },
      "text/plain": [
       "A_44_LEU:   0%|          | 0/64 [00:00<?, ?it/s]"
      ]
     },
     "metadata": {},
     "output_type": "display_data"
    },
    {
     "name": "stderr",
     "output_type": "stream",
     "text": [
      "2022-11-10 16:44:30,355 - pocketoptimizer.sampling.sidechain_rotamers_ffev - INFO - Writing 27/64 rotamers within energy threshold of 100 kcal/mol for LEU at position: A_44.\n",
      "2022-11-10 16:44:30,374 - pocketoptimizer.sampling.sidechain_rotamers_ffev - INFO - Rotamers for residue: A_44_THR not sampled yet.\n"
     ]
    },
    {
     "data": {
      "application/vnd.jupyter.widget-view+json": {
       "model_id": "34ac940af82442039efc0c34bd8e5eec",
       "version_major": 2,
       "version_minor": 0
      },
      "text/plain": [
       "A_44_THR:   0%|          | 0/10 [00:00<?, ?it/s]"
      ]
     },
     "metadata": {},
     "output_type": "display_data"
    },
    {
     "name": "stderr",
     "output_type": "stream",
     "text": [
      "2022-11-10 16:44:40,646 - pocketoptimizer.sampling.sidechain_rotamers_ffev - INFO - Writing 6/10 rotamers within energy threshold of 100 kcal/mol for THR at position: A_44.\n",
      "2022-11-10 16:44:40,656 - pocketoptimizer.sampling.sidechain_rotamers_ffev - INFO - Rotamers for residue: B_84_ARG not sampled yet.\n"
     ]
    },
    {
     "data": {
      "application/vnd.jupyter.widget-view+json": {
       "model_id": "6f94d8e2174a40619a77effe644164d6",
       "version_major": 2,
       "version_minor": 0
      },
      "text/plain": [
       "B_84_ARG:   0%|          | 0/370 [00:00<?, ?it/s]"
      ]
     },
     "metadata": {},
     "output_type": "display_data"
    },
    {
     "name": "stderr",
     "output_type": "stream",
     "text": [
      "2022-11-10 16:45:50,662 - pocketoptimizer.sampling.sidechain_rotamers_ffev - INFO - Writing 349/370 rotamers within energy threshold of 100 kcal/mol for ARG at position: B_84.\n",
      "2022-11-10 16:45:50,716 - pocketoptimizer.sampling.sidechain_rotamers_ffev - INFO - Rotamers for residue: B_88_LEU not sampled yet.\n"
     ]
    },
    {
     "data": {
      "application/vnd.jupyter.widget-view+json": {
       "model_id": "cf815c30f3da4f44b8f3246c9f82275e",
       "version_major": 2,
       "version_minor": 0
      },
      "text/plain": [
       "B_88_LEU:   0%|          | 0/55 [00:00<?, ?it/s]"
      ]
     },
     "metadata": {},
     "output_type": "display_data"
    },
    {
     "name": "stderr",
     "output_type": "stream",
     "text": [
      "2022-11-10 16:46:08,622 - pocketoptimizer.sampling.sidechain_rotamers_ffev - INFO - Writing 27/55 rotamers within energy threshold of 100 kcal/mol for LEU at position: B_88.\n",
      "2022-11-10 16:46:08,635 - pocketoptimizer.sampling.sidechain_rotamers_ffev - INFO - Rotamers for residue: B_88_THR not sampled yet.\n"
     ]
    },
    {
     "data": {
      "application/vnd.jupyter.widget-view+json": {
       "model_id": "395d611ec7e94e68b569b9023e049c8b",
       "version_major": 2,
       "version_minor": 0
      },
      "text/plain": [
       "B_88_THR:   0%|          | 0/10 [00:00<?, ?it/s]"
      ]
     },
     "metadata": {},
     "output_type": "display_data"
    },
    {
     "name": "stderr",
     "output_type": "stream",
     "text": [
      "2022-11-10 16:46:18,980 - pocketoptimizer.sampling.sidechain_rotamers_ffev - INFO - Writing 7/10 rotamers within energy threshold of 100 kcal/mol for THR at position: B_88.\n",
      "2022-11-10 16:46:19,010 - pocketoptimizer.sampling.sidechain_rotamers_ffev - INFO - Rotamer sampling procedure is finished.\n"
     ]
    }
   ],
   "source": [
    "# Sampling of side chain rotamers\n",
    "design.sample_sidechain_rotamers(\n",
    "    vdw_filter_thresh=100,         # Energy threshold of 100 kcal/mol for filtering rotamers\n",
    "    library='dunbrack',            # Use dunbrack rotamer library (Should be used!)\n",
    "    dunbrack_filter_thresh=0.001,  # Probability threshold for filtering rotamers (0.1%)\n",
    "    accurate=False,                # Increases the number of rotamers sampled when using dunbrack (Be careful about the computation time!)\n",
    "    include_native=True            # Include the native rotamers from the minimized structure\n",
    ")"
   ]
  },
  {
   "cell_type": "code",
   "execution_count": 9,
   "id": "b983bed0",
   "metadata": {},
   "outputs": [
    {
     "name": "stderr",
     "output_type": "stream",
     "text": [
      "2022-11-10 16:46:19,108 - pocketoptimizer.ui - INFO - Sample ligand poses.\n",
      "2022-11-10 16:46:19,111 - pocketoptimizer.sampling.ligand_poses - INFO - Start ligand pose sampling procedure.\n",
      "2022-11-10 16:46:20,315 - pocketoptimizer.sampling.ligand_poses - INFO - Generate possible poses within the defined grid.\n"
     ]
    },
    {
     "data": {
      "application/vnd.jupyter.widget-view+json": {
       "model_id": "f10eff2d0bb04436a97398ed755e0dfe",
       "version_major": 2,
       "version_minor": 0
      },
      "text/plain": [
       "Ligand Conformers:   0%|          | 0/51 [00:00<?, ?it/s]"
      ]
     },
     "metadata": {},
     "output_type": "display_data"
    },
    {
     "name": "stderr",
     "output_type": "stream",
     "text": [
      "2022-11-10 16:46:20,395 - pocketoptimizer.sampling.ligand_poses - INFO - Created possible 4641 poses.\n",
      "2022-11-10 16:46:20,396 - pocketoptimizer.sampling.ligand_poses - INFO - Start filtering poses.\n",
      "2022-11-10 16:46:20,397 - pocketoptimizer.sampling.ligand_poses - INFO - Using 8 CPUs for multiprocessing.\n"
     ]
    },
    {
     "data": {
      "application/vnd.jupyter.widget-view+json": {
       "model_id": "f345909b020d42a9ac5a62504662f33d",
       "version_major": 2,
       "version_minor": 0
      },
      "text/plain": [
       "Filter Poses:   0%|          | 0/4641 [00:00<?, ?it/s]"
      ]
     },
     "metadata": {},
     "output_type": "display_data"
    },
    {
     "name": "stderr",
     "output_type": "stream",
     "text": [
      "2022-11-10 16:57:12,768 - pocketoptimizer.sampling.ligand_poses - INFO - Calculated 1007 poses within energy threshold of 100 kcal/mol.\n",
      "2022-11-10 16:57:12,862 - pocketoptimizer.sampling.ligand_poses - INFO - Pose sampling procedure was successful.\n"
     ]
    }
   ],
   "source": [
    "# Sampling of ligand poses\n",
    "# Defines a grid in which the ligand is translated and rotated along.\n",
    "#                       Range, Steps\n",
    "sample_grid = {'trans': [1, 0.5],  # Angstrom\n",
    "               'rot': [20, 20]}    # Degree\n",
    "design.sample_lig_poses(\n",
    "    method='grid',         #  Uses the grid method. Other option is random\n",
    "    grid=sample_grid,      #  Defined grid for sampling    \n",
    "    vdw_filter_thresh=100, #  Energy threshold of 100 kcal/mol for filtering ligand poses\n",
    "    max_poses=10000        #  Maximum number of poses\n",
    ")"
   ]
  },
  {
   "cell_type": "code",
   "execution_count": 10,
   "id": "bb7a35d1",
   "metadata": {
    "tags": []
   },
   "outputs": [
    {
     "name": "stderr",
     "output_type": "stream",
     "text": [
      "2022-11-10 16:57:12,994 - pocketoptimizer.ui - INFO - Start energy calculations.\n",
      "2022-11-10 16:57:12,995 - pocketoptimizer.ui - INFO - Using 8 CPUs for multiprocessing.\n",
      "2022-11-10 16:57:12,996 - pocketoptimizer.ui - INFO - Calculate Sidechain-Scaffold Energies.\n",
      "2022-11-10 16:57:12,996 - pocketoptimizer.scoring.sidechain_scaffold_energies - INFO - Compute energies using forcefield: amber_ff14SB.\n",
      "2022-11-10 16:57:13,073 - pocketoptimizer.scoring.sidechain_scaffold_energies - INFO - Sidechain-Scaffold/Self interaction energy for residue: A_44_LEU not computed yet.\n"
     ]
    },
    {
     "data": {
      "application/vnd.jupyter.widget-view+json": {
       "model_id": "57f3ffb648794b78a13f5fabee0720e7",
       "version_major": 2,
       "version_minor": 0
      },
      "text/plain": [
       "  0%|          | 0/27 [00:00<?, ?it/s]"
      ]
     },
     "metadata": {},
     "output_type": "display_data"
    },
    {
     "name": "stderr",
     "output_type": "stream",
     "text": [
      "2022-11-10 16:57:21,769 - pocketoptimizer.scoring.sidechain_scaffold_energies - INFO - Sidechain-Scaffold/Self interaction energy for residue: A_44_THR not computed yet.\n"
     ]
    },
    {
     "data": {
      "application/vnd.jupyter.widget-view+json": {
       "model_id": "9da65f16986346e5bb1c147f16a3f41d",
       "version_major": 2,
       "version_minor": 0
      },
      "text/plain": [
       "  0%|          | 0/6 [00:00<?, ?it/s]"
      ]
     },
     "metadata": {},
     "output_type": "display_data"
    },
    {
     "name": "stderr",
     "output_type": "stream",
     "text": [
      "2022-11-10 16:57:29,802 - pocketoptimizer.scoring.sidechain_scaffold_energies - INFO - Sidechain-Scaffold/Self interaction energy for residue: B_84_ARG not computed yet.\n"
     ]
    },
    {
     "data": {
      "application/vnd.jupyter.widget-view+json": {
       "model_id": "1f2732ba22a34bc8b3bc4d161d276e8e",
       "version_major": 2,
       "version_minor": 0
      },
      "text/plain": [
       "  0%|          | 0/349 [00:00<?, ?it/s]"
      ]
     },
     "metadata": {},
     "output_type": "display_data"
    },
    {
     "name": "stderr",
     "output_type": "stream",
     "text": [
      "2022-11-10 16:57:47,346 - pocketoptimizer.scoring.sidechain_scaffold_energies - INFO - Sidechain-Scaffold/Self interaction energy for residue: B_88_LEU not computed yet.\n"
     ]
    },
    {
     "data": {
      "application/vnd.jupyter.widget-view+json": {
       "model_id": "84b003a05402450ca5257c93bb7800c5",
       "version_major": 2,
       "version_minor": 0
      },
      "text/plain": [
       "  0%|          | 0/27 [00:00<?, ?it/s]"
      ]
     },
     "metadata": {},
     "output_type": "display_data"
    },
    {
     "name": "stderr",
     "output_type": "stream",
     "text": [
      "2022-11-10 16:57:55,609 - pocketoptimizer.scoring.sidechain_scaffold_energies - INFO - Sidechain-Scaffold/Self interaction energy for residue: B_88_THR not computed yet.\n"
     ]
    },
    {
     "data": {
      "application/vnd.jupyter.widget-view+json": {
       "model_id": "7ffda615182d44718604e17035adc4fb",
       "version_major": 2,
       "version_minor": 0
      },
      "text/plain": [
       "  0%|          | 0/7 [00:00<?, ?it/s]"
      ]
     },
     "metadata": {},
     "output_type": "display_data"
    },
    {
     "name": "stderr",
     "output_type": "stream",
     "text": [
      "2022-11-10 16:58:03,004 - pocketoptimizer.scoring.sidechain_scaffold_energies - INFO - Sidechain-Scaffold/Self calculation was successful.\n",
      "2022-11-10 16:58:03,006 - pocketoptimizer.ui - INFO - Calculate Sidechain-Pair Energies.\n",
      "2022-11-10 16:58:03,006 - pocketoptimizer.scoring.sidechain_pair_energies - INFO - Compute energies using forcefield: amber_ff14SB.\n",
      "2022-11-10 16:58:03,667 - pocketoptimizer.scoring.sidechain_pair_energies - INFO - Sidechain-Sidechain interaction energy for residue pair: A_44_LEU/B_84_ARG not computed yet.\n"
     ]
    },
    {
     "data": {
      "application/vnd.jupyter.widget-view+json": {
       "model_id": "51d25a8e8d544e0d8d2bc6a2196e5575",
       "version_major": 2,
       "version_minor": 0
      },
      "text/plain": [
       "  0%|          | 0/9423 [00:00<?, ?it/s]"
      ]
     },
     "metadata": {},
     "output_type": "display_data"
    },
    {
     "name": "stderr",
     "output_type": "stream",
     "text": [
      "2022-11-10 16:58:15,278 - pocketoptimizer.scoring.sidechain_pair_energies - INFO - Sidechain-Sidechain interaction energy for residue pair: A_44_THR/B_84_ARG not computed yet.\n"
     ]
    },
    {
     "data": {
      "application/vnd.jupyter.widget-view+json": {
       "model_id": "54de2db8f8384c08b4499d5b65e0edfb",
       "version_major": 2,
       "version_minor": 0
      },
      "text/plain": [
       "  0%|          | 0/2094 [00:00<?, ?it/s]"
      ]
     },
     "metadata": {},
     "output_type": "display_data"
    },
    {
     "name": "stderr",
     "output_type": "stream",
     "text": [
      "2022-11-10 16:58:23,352 - pocketoptimizer.scoring.sidechain_pair_energies - INFO - Sidechain-Sidechain interaction energy for residue pair: A_44_LEU/B_88_LEU not computed yet.\n"
     ]
    },
    {
     "data": {
      "application/vnd.jupyter.widget-view+json": {
       "model_id": "fc66b3d8723a4bb5aaff2f612e83f6fd",
       "version_major": 2,
       "version_minor": 0
      },
      "text/plain": [
       "  0%|          | 0/729 [00:00<?, ?it/s]"
      ]
     },
     "metadata": {},
     "output_type": "display_data"
    },
    {
     "name": "stderr",
     "output_type": "stream",
     "text": [
      "2022-11-10 16:58:31,352 - pocketoptimizer.scoring.sidechain_pair_energies - INFO - Sidechain-Sidechain interaction energy for residue pair: A_44_LEU/B_88_THR not computed yet.\n"
     ]
    },
    {
     "data": {
      "application/vnd.jupyter.widget-view+json": {
       "model_id": "ab4b167f6bfe402ca4f5f606214fd8b6",
       "version_major": 2,
       "version_minor": 0
      },
      "text/plain": [
       "  0%|          | 0/189 [00:00<?, ?it/s]"
      ]
     },
     "metadata": {},
     "output_type": "display_data"
    },
    {
     "name": "stderr",
     "output_type": "stream",
     "text": [
      "2022-11-10 16:58:39,447 - pocketoptimizer.scoring.sidechain_pair_energies - INFO - Sidechain-Sidechain interaction energy for residue pair: A_44_THR/B_88_LEU not computed yet.\n"
     ]
    },
    {
     "data": {
      "application/vnd.jupyter.widget-view+json": {
       "model_id": "ea5e2dd19eb349a7b625d24985dab8cc",
       "version_major": 2,
       "version_minor": 0
      },
      "text/plain": [
       "  0%|          | 0/162 [00:00<?, ?it/s]"
      ]
     },
     "metadata": {},
     "output_type": "display_data"
    },
    {
     "name": "stderr",
     "output_type": "stream",
     "text": [
      "2022-11-10 16:58:47,486 - pocketoptimizer.scoring.sidechain_pair_energies - INFO - Sidechain-Sidechain interaction energy for residue pair: A_44_THR/B_88_THR not computed yet.\n"
     ]
    },
    {
     "data": {
      "application/vnd.jupyter.widget-view+json": {
       "model_id": "fb00577cb7cd424ba495d9b03ef3abcf",
       "version_major": 2,
       "version_minor": 0
      },
      "text/plain": [
       "  0%|          | 0/42 [00:00<?, ?it/s]"
      ]
     },
     "metadata": {},
     "output_type": "display_data"
    },
    {
     "name": "stderr",
     "output_type": "stream",
     "text": [
      "2022-11-10 16:58:55,398 - pocketoptimizer.scoring.sidechain_pair_energies - INFO - Sidechain-Sidechain interaction energy for residue pair: B_84_ARG/B_88_LEU not computed yet.\n"
     ]
    },
    {
     "data": {
      "application/vnd.jupyter.widget-view+json": {
       "model_id": "be3903ea63014af7a9ab3e865dcedb7a",
       "version_major": 2,
       "version_minor": 0
      },
      "text/plain": [
       "  0%|          | 0/9423 [00:00<?, ?it/s]"
      ]
     },
     "metadata": {},
     "output_type": "display_data"
    },
    {
     "name": "stderr",
     "output_type": "stream",
     "text": [
      "2022-11-10 16:59:06,993 - pocketoptimizer.scoring.sidechain_pair_energies - INFO - Sidechain-Sidechain interaction energy for residue pair: B_84_ARG/B_88_THR not computed yet.\n"
     ]
    },
    {
     "data": {
      "application/vnd.jupyter.widget-view+json": {
       "model_id": "ba283dfb081843b3a1fa100d8158a2d0",
       "version_major": 2,
       "version_minor": 0
      },
      "text/plain": [
       "  0%|          | 0/2443 [00:00<?, ?it/s]"
      ]
     },
     "metadata": {},
     "output_type": "display_data"
    },
    {
     "name": "stderr",
     "output_type": "stream",
     "text": [
      "2022-11-10 16:59:15,112 - pocketoptimizer.scoring.sidechain_pair_energies - INFO - Sidechain-Pair calculation was successful.\n",
      "2022-11-10 16:59:15,113 - pocketoptimizer.ui - INFO - Calculate Ligand-Scaffold/Sidechain-Interaction-Energies.\n",
      "2022-11-10 16:59:15,116 - pocketoptimizer.scoring.smina_scorer - INFO - Score ligand interactions using vina.\n",
      "2022-11-10 16:59:16,370 - pocketoptimizer.scoring.smina_scorer - INFO - Ligand-Scaffold/Self interaction energy not computed yet.\n",
      "2022-11-10 16:59:16,371 - pocketoptimizer.scoring.smina_scorer - INFO - Prepare fixed scaffold.\n"
     ]
    },
    {
     "data": {
      "application/vnd.jupyter.widget-view+json": {
       "model_id": "034864664008466dada6c66bf46ccbd8",
       "version_major": 2,
       "version_minor": 0
      },
      "text/plain": [
       "Ligand/Scaffold:   0%|          | 0/1 [00:00<?, ?it/s]"
      ]
     },
     "metadata": {},
     "output_type": "display_data"
    },
    {
     "name": "stderr",
     "output_type": "stream",
     "text": [
      "2022-11-10 16:59:21,103 - pocketoptimizer.scoring.smina_scorer - INFO - Ligand-Sidechain interaction energy for residue: A_44_LEU not computed yet.\n",
      "2022-11-10 16:59:21,229 - pocketoptimizer.scoring.smina_scorer - INFO - Loop over rotamers of residue: A_44_LEU.\n"
     ]
    },
    {
     "data": {
      "application/vnd.jupyter.widget-view+json": {
       "model_id": "e1720579c5de4caba09a04ca652863d2",
       "version_major": 2,
       "version_minor": 0
      },
      "text/plain": [
       "Ligand/A_44_LEU:   0%|          | 0/27 [00:00<?, ?it/s]"
      ]
     },
     "metadata": {},
     "output_type": "display_data"
    },
    {
     "name": "stderr",
     "output_type": "stream",
     "text": [
      "2022-11-10 16:59:44,148 - pocketoptimizer.scoring.smina_scorer - INFO - Ligand-Sidechain interaction energy for residue: A_44_THR not computed yet.\n",
      "2022-11-10 16:59:44,191 - pocketoptimizer.scoring.smina_scorer - INFO - Loop over rotamers of residue: A_44_THR.\n"
     ]
    },
    {
     "data": {
      "application/vnd.jupyter.widget-view+json": {
       "model_id": "c6036d1771074c1ab218a38897a055cc",
       "version_major": 2,
       "version_minor": 0
      },
      "text/plain": [
       "Ligand/A_44_THR:   0%|          | 0/6 [00:00<?, ?it/s]"
      ]
     },
     "metadata": {},
     "output_type": "display_data"
    },
    {
     "name": "stderr",
     "output_type": "stream",
     "text": [
      "2022-11-10 16:59:49,269 - pocketoptimizer.scoring.smina_scorer - INFO - Ligand-Sidechain interaction energy for residue: B_84_ARG not computed yet.\n",
      "2022-11-10 16:59:50,125 - pocketoptimizer.scoring.smina_scorer - INFO - Loop over rotamers of residue: B_84_ARG.\n"
     ]
    },
    {
     "data": {
      "application/vnd.jupyter.widget-view+json": {
       "model_id": "b4ffd9a38a97456c91a00cdb4d5afc6d",
       "version_major": 2,
       "version_minor": 0
      },
      "text/plain": [
       "Ligand/B_84_ARG:   0%|          | 0/349 [00:00<?, ?it/s]"
      ]
     },
     "metadata": {},
     "output_type": "display_data"
    },
    {
     "name": "stderr",
     "output_type": "stream",
     "text": [
      "2022-11-10 17:04:42,266 - pocketoptimizer.scoring.smina_scorer - INFO - Ligand-Sidechain interaction energy for residue: B_88_LEU not computed yet.\n",
      "2022-11-10 17:04:42,398 - pocketoptimizer.scoring.smina_scorer - INFO - Loop over rotamers of residue: B_88_LEU.\n"
     ]
    },
    {
     "data": {
      "application/vnd.jupyter.widget-view+json": {
       "model_id": "f913b680a43e4c0c8aeba21b6fc4c071",
       "version_major": 2,
       "version_minor": 0
      },
      "text/plain": [
       "Ligand/B_88_LEU:   0%|          | 0/27 [00:00<?, ?it/s]"
      ]
     },
     "metadata": {},
     "output_type": "display_data"
    },
    {
     "name": "stderr",
     "output_type": "stream",
     "text": [
      "2022-11-10 17:05:04,897 - pocketoptimizer.scoring.smina_scorer - INFO - Ligand-Sidechain interaction energy for residue: B_88_THR not computed yet.\n",
      "2022-11-10 17:05:04,945 - pocketoptimizer.scoring.smina_scorer - INFO - Loop over rotamers of residue: B_88_THR.\n"
     ]
    },
    {
     "data": {
      "application/vnd.jupyter.widget-view+json": {
       "model_id": "80f8b5097dd24693b87fd715f70126a4",
       "version_major": 2,
       "version_minor": 0
      },
      "text/plain": [
       "Ligand/B_88_THR:   0%|          | 0/7 [00:00<?, ?it/s]"
      ]
     },
     "metadata": {},
     "output_type": "display_data"
    },
    {
     "name": "stderr",
     "output_type": "stream",
     "text": [
      "2022-11-10 17:05:11,094 - pocketoptimizer.scoring.smina_scorer - INFO - Ligand scoring was successful.\n",
      "2022-11-10 17:05:11,095 - pocketoptimizer.ui - INFO - Energy calculation was successful.\n"
     ]
    }
   ],
   "source": [
    "design.calculate_energies(\n",
    "    scoring='vina',           #  Method to score protein-ligand interaction\n",
    ")"
   ]
  },
  {
   "cell_type": "code",
   "execution_count": 11,
   "id": "d7d2cd60",
   "metadata": {
    "tags": []
   },
   "outputs": [
    {
     "name": "stderr",
     "output_type": "stream",
     "text": [
      "2022-11-10 17:05:23,480 - pocketoptimizer.solving.sontag_solver - INFO - Calculating Solutions.\n"
     ]
    },
    {
     "data": {
      "application/vnd.jupyter.widget-view+json": {
       "model_id": "bf74c3aaf94e422baf3b06dd9965ff6f",
       "version_major": 2,
       "version_minor": 0
      },
      "text/plain": [
       "Solutions:   0%|          | 0/10 [00:00<?, ?it/s]"
      ]
     },
     "metadata": {},
     "output_type": "display_data"
    },
    {
     "name": "stderr",
     "output_type": "stream",
     "text": [
      "2022-11-10 17:06:01,457 - pocketoptimizer.ui - INFO - Parse calculated solutions.\n",
      "2022-11-10 17:06:01,850 - pocketoptimizer.ui - INFO - Read 10 solution(s) from solver output.\n",
      "2022-11-10 17:06:05,577 - pocketoptimizer.ui - INFO - Write text report.\n",
      "2022-11-10 17:06:05,641 - pocketoptimizer.ui - INFO - Wrote solution report text file(s).\n",
      "2022-11-10 17:06:05,644 - pocketoptimizer.ui - INFO - Wrote summary text file.\n",
      "2022-11-10 17:06:05,644 - pocketoptimizer.ui - INFO - Write html report.\n",
      "2022-11-10 17:06:05,724 - pocketoptimizer.ui - INFO - Wrote solution report html file(s).\n",
      "2022-11-10 17:06:05,726 - pocketoptimizer.design.html_reporter - INFO - Create energy plot.\n",
      "2022-11-10 17:06:08,794 - pocketoptimizer.design.html_reporter - INFO - Create sequence logo for mutable positions.\n"
     ]
    },
    {
     "data": {
      "image/png": "[encoded data removed]",
      "text/plain": [
       "<IPython.core.display.Image object>"
      ]
     },
     "metadata": {},
     "output_type": "display_data"
    },
    {
     "name": "stderr",
     "output_type": "stream",
     "text": [
      "2022-11-10 17:06:29,694 - pocketoptimizer.ui - INFO - Wrote summary html file.\n",
      "2022-11-10 17:06:29,695 - pocketoptimizer.ui - INFO - Creating design structure files.\n",
      "2022-11-10 17:06:29,696 - pocketoptimizer.ui - INFO - Create Structures.\n",
      "2022-11-10 17:06:38,582 - pocketoptimizer.ui - INFO - Creating PyMol scripts.\n",
      "2022-11-10 17:06:38,609 - pocketoptimizer.ui - INFO - 10 best design solution(s) for design with forcefield: amber_ff14SB, scoring method: vina and ligand scaling: 5 identified.\n"
     ]
    },
    {
     "data": {
      "image/png": "[encoded data removed]",
      "text/plain": [
       "<Figure size 640x480 with 1 Axes>"
      ]
     },
     "metadata": {},
     "output_type": "display_data"
    }
   ],
   "source": [
    "# Compute the lowest energy structures using linear programming\n",
    "design.design(\n",
    "    num_solutions=10,           #  Number of solutions to compute\n",
    "    ligand_scaling=5,           #  Scaling factor for binding-related energies (You need to adapt this to approximate the packing and binding energies)\n",
    ")"
   ]
  },
  {
   "cell_type": "code",
   "execution_count": 3,
   "id": "a4510d5f-c706-4cf7-825e-45556ec12d2b",
   "metadata": {},
   "outputs": [
    {
     "name": "stderr",
     "output_type": "stream",
     "text": [
      "2022-11-10 16:42:28,451 - pocketoptimizer.ui - INFO - All scaffold files were deleted.\n",
      "2022-11-10 16:42:28,573 - pocketoptimizer.ui - INFO - All ligand files were deleted.\n",
      "2022-11-10 16:42:28,577 - pocketoptimizer.ui - INFO - Logfile was deleted.\n"
     ]
    }
   ],
   "source": [
    "# Do not run this unless you want to fully clean your working directory from all created files and folders!\n",
    "design.clean(scaffold=True, ligand=True)"
   ]
  },
  {
   "cell_type": "code",
   "execution_count": null,
   "id": "6e8ac38d-0f89-42c1-84c8-d8073419cb19",
   "metadata": {},
   "outputs": [],
   "source": []
  }
 ],
 "metadata": {
  "kernelspec": {
   "display_name": "pocketoptimizer",
   "language": "python",
   "name": "pocketoptimizer"
  },
  "language_info": {
   "codemirror_mode": {
    "name": "ipython",
    "version": 3
   },
   "file_extension": ".py",
   "mimetype": "text/x-python",
   "name": "python",
   "nbconvert_exporter": "python",
   "pygments_lexer": "ipython3",
   "version": "3.9.13"
  }
 },
 "nbformat": 4,
 "nbformat_minor": 5
}