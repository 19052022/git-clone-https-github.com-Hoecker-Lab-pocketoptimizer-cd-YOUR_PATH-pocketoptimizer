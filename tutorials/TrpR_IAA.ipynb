{
 "cells": [
  {
   "cell_type": "markdown",
   "id": "f3d596fc-7ec4-4d0f-9f59-cfd55ab994a7",
   "metadata": {},
   "source": [
    "## TrpR_IAA"
   ]
  },
  {
   "cell_type": "markdown",
   "id": "621603ed-1568-4797-8914-3ddd9456a93c",
   "metadata": {},
   "source": [
    "Exemplary design of the trpytophane repressor (TrpR: 1ZT9.pdb) with the ligand indole-3-acetic acid (IAA)."
   ]
  },
  {
   "cell_type": "code",
   "execution_count": 13,
   "id": "d23d8c90",
   "metadata": {},
   "outputs": [],
   "source": [
    "# This is a comment. It's marked by a leading \"#\" symbol\n",
    "\n",
    "# Import OS and system libraries\n",
    "import sys\n",
    "import os\n",
    "\n",
    "# Append the pocketoptimizer code to your $PYTHONPATH\n",
    "cwd = os.getcwd()\n",
    "sys.path.append(os.path.join(cwd, '..'))\n",
    "\n",
    "# Import Pocketoptimizer\n",
    "import pocketoptimizer as po\n",
    "\n",
    "# Remove most warnings, only show Errors\n",
    "import warnings\n",
    "warnings.simplefilter(action='ignore', category=FutureWarning)\n",
    "warnings.simplefilter(action='ignore', category=DeprecationWarning)"
   ]
  },
  {
   "cell_type": "code",
   "execution_count": 15,
   "id": "20beea30",
   "metadata": {},
   "outputs": [
    {
     "name": "stderr",
     "output_type": "stream",
     "text": [
      "2022-06-14 15:31:17,551 - pocketoptimizer.ui - [INFO] - Logging to: /agh/projects/jakob/PycharmProjects/PocketOptimizer2/docs/tutorials/TrpR_IAA/pocketoptimizer.log\n"
     ]
    }
   ],
   "source": [
    "# Initialize a new design pipeline\n",
    "design = po.DesignPipeline(work_dir=cwd, forcefield='amber_ff14SB', ph=7)"
   ]
  },
  {
   "cell_type": "code",
   "execution_count": 16,
   "id": "a4513f1b",
   "metadata": {},
   "outputs": [
    {
     "name": "stderr",
     "output_type": "stream",
     "text": [
      "2022-06-14 15:31:29,016 - pocketoptimizer.preparation.structure_building - [INFO] - Adding hydrogen atoms to the ligand according to pH: 7.\n",
      "2022-06-14 15:31:30,457 - pocketoptimizer.preparation.structure_building - [INFO] - Parameterize ligand for GAFF2.\n",
      "2022-06-14 15:31:30,720 - pocketoptimizer.preparation.structure_building - [INFO] - Ligand parametrization was successful.\n"
     ]
    }
   ],
   "source": [
    "# Prepare ligand\n",
    "design.parameterize_ligand(input_ligand='ligand/IAA.sdf')"
   ]
  },
  {
   "cell_type": "code",
   "execution_count": 17,
   "id": "6358191d",
   "metadata": {},
   "outputs": [
    {
     "name": "stderr",
     "output_type": "stream",
     "text": [
      "2022-06-14 15:31:39,581 - pocketoptimizer.ui - [INFO] - Start Protein Preparation.\n",
      "2022-06-14 15:31:39,585 - pocketoptimizer.preparation.structure_building - [INFO] - Starting protein preparation.\n",
      "2022-06-14 15:31:39,819 - pocketoptimizer.preparation.structure_building - [INFO] - Protonate protein according to pH: 7.\n",
      "2022-06-14 15:31:40,987 - moleculekit.tools.preparation - WARNING - Both chains and segments are defined in Molecule.chain / Molecule.segid, however they are inconsistent. Protein preparation will use the chain information.\n"
     ]
    },
    {
     "name": "stdout",
     "output_type": "stream",
     "text": [
      "\n",
      "---- Molecule chain report ----\n",
      "Chain A:\n",
      "    First residue: SER     5  \n",
      "    Final residue: LEU   105  \n",
      "Chain B:\n",
      "    First residue: SER     5  \n",
      "    Final residue: TRP   901  \n",
      "---- End of chain report ----\n",
      "\n"
     ]
    },
    {
     "name": "stderr",
     "output_type": "stream",
     "text": [
      "2022-06-14 15:31:43,270 - moleculekit.tools.preparation - INFO - Modified residue HIS    16 A to HID\n",
      "2022-06-14 15:31:43,271 - moleculekit.tools.preparation - INFO - Modified residue HIS    35 A to HID\n",
      "2022-06-14 15:31:43,271 - moleculekit.tools.preparation - INFO - Modified residue HIS    16 B to HID\n",
      "2022-06-14 15:31:43,272 - moleculekit.tools.preparation - INFO - Modified residue HIS    35 B to HID\n",
      "2022-06-14 15:31:43,274 - moleculekit.tools.preparation - WARNING - Dubious protonation state: the pKa of 2 residues is within 1.0 units of pH 7.0.\n",
      "2022-06-14 15:31:43,275 - moleculekit.tools.preparation - WARNING - Dubious protonation state:    HIS    16 A (pKa= 6.16)\n",
      "2022-06-14 15:31:43,275 - moleculekit.tools.preparation - WARNING - Dubious protonation state:    HIS    16 B (pKa= 6.24)\n",
      "2022-06-14 15:31:46,396 - pocketoptimizer.preparation.structure_building - [INFO] - Successfully prepared protein.\n",
      "2022-06-14 15:31:46,397 - pocketoptimizer.ui - [INFO] - Minimize protein with ligand inside pocket.\n",
      "2022-06-14 15:31:46,398 - pocketoptimizer.ui - [INFO] - Building complex before minimization.\n",
      "2022-06-14 15:31:46,579 - pocketoptimizer.preparation.structure_building - [INFO] - Build native complex.\n",
      "2022-06-14 15:31:46,915 - htmd.builder.amber - INFO - Detecting disulfide bonds.\n",
      "2022-06-14 15:31:48,111 - pocketoptimizer.preparation.structure_building - [INFO] - Starting to build.\n",
      "2022-06-14 15:31:48,762 - pocketoptimizer.preparation.structure_building - [INFO] - Finished building.\n",
      "2022-06-14 15:31:51,957 - pocketoptimizer.preparation.minimize_structure - [INFO] - Starting potential energy: -613.4546210147854 kcal/mol.\n",
      "2022-06-14 15:31:56,783 - pocketoptimizer.preparation.minimize_structure - [INFO] - Ending potential energy: -6393.507664343998 kcal/mol.\n",
      "2022-06-14 15:31:56,937 - pocketoptimizer.preparation.minimize_structure - [INFO] - RMSD between minimized and unminimized structure: 0.8726 Å.\n",
      "2022-06-14 15:31:57,124 - pocketoptimizer.ui - [INFO] - Your protein was successfully minimized and can be used for design now.\n",
      "2022-06-14 15:31:57,626 - pocketoptimizer.ui - [INFO] - Protein preparation finished.\n"
     ]
    }
   ],
   "source": [
    "design.prepare_protein(\n",
    "    protein_structure='scaffold/1ZT9.pdb',  # Input PDB\n",
    "    keep_chains=['A', 'B'],  # Specific protein chains to keep\n",
    "    minimize=True,           # Protein minimization\n",
    "    min_with_lig=True,       # Includes the ligand during the minimization\n",
    "    backbone_restraint=True, # Restrains the backbone during the minimization\n",
    "    cuda=True,               # Performs minimization on CPU instead of GPU\n",
    "    discard_mols=[{'chain': 'A', 'resid': '1001'}]     # Special molecules to exclude. Per default everything, but peptides have to be defined manually\n",
    "    )"
   ]
  },
  {
   "cell_type": "code",
   "execution_count": 18,
   "id": "b9e4e7fa",
   "metadata": {},
   "outputs": [
    {
     "name": "stderr",
     "output_type": "stream",
     "text": [
      "2022-06-14 15:31:57,661 - pocketoptimizer.preparation.conformer_generator_obabel - [INFO] - Starting ligand conformer generation using obabel.\n",
      "2022-06-14 15:31:57,662 - pocketoptimizer.preparation.conformer_generator_obabel - [INFO] - Selected Method: genetic.\n",
      "2022-06-14 15:31:58,396 - pocketoptimizer.preparation.conformer_generator_obabel - [INFO] - Generated 50 conformers.\n",
      "2022-06-14 15:31:58,397 - pocketoptimizer.preparation.conformer_generator_obabel - [INFO] - Conformer sampling was successful.\n"
     ]
    }
   ],
   "source": [
    "design.prepare_lig_conformers(\n",
    "    nconfs=50,         # Maximum number of conformers to produce'\n",
    "    method='genetic',  # Genetic method in OpenBabel, other option is confab\n",
    "    score='rmsd',      # Filters conformers based on RMSD\n",
    "    )"
   ]
  },
  {
   "cell_type": "code",
   "execution_count": 19,
   "id": "b2a2545c",
   "metadata": {},
   "outputs": [
    {
     "name": "stderr",
     "output_type": "stream",
     "text": [
      "2022-06-14 15:31:58,404 - pocketoptimizer.ui - [INFO] - If design positions are removed or added a new design run should be started.\n"
     ]
    }
   ],
   "source": [
    "\n",
    "# Your mutations\n",
    "design.set_mutations([{'mutations': ['LEU', 'THR'], 'resid': '88', 'chain': 'B'}, \n",
    "                      {'mutations': ['ARG'], 'resid': '84', 'chain': 'B'}, \n",
    "                      {'mutations': ['LEU','THR'], 'resid': '44', 'chain': 'A'}]\n",
    ")\n"
   ]
  },
  {
   "cell_type": "code",
   "execution_count": 20,
   "id": "e67d6dac",
   "metadata": {},
   "outputs": [
    {
     "name": "stderr",
     "output_type": "stream",
     "text": [
      "2022-06-14 15:31:58,989 - pocketoptimizer.ui - [INFO] - Start building mutated protein scaffold variants.\n",
      "2022-06-14 15:31:58,990 - pocketoptimizer.ui - [INFO] - Build GLY sampling pockets.\n",
      "2022-06-14 15:31:59,687 - pocketoptimizer.preparation.structure_building - [INFO] - Build ligand sampling pocket.\n",
      "2022-06-14 15:32:00,184 - htmd.builder.amber - INFO - Detecting disulfide bonds.\n",
      "2022-06-14 15:32:00,359 - pocketoptimizer.preparation.structure_building - [INFO] - Starting to build.\n",
      "2022-06-14 15:32:00,687 - pocketoptimizer.preparation.structure_building - [INFO] - Finished building.\n",
      "2022-06-14 15:32:02,175 - pocketoptimizer.preparation.structure_building - [INFO] - Build scaffold A_44_LEU.\n",
      "2022-06-14 15:32:02,532 - htmd.builder.amber - INFO - Detecting disulfide bonds.\n",
      "2022-06-14 15:32:02,688 - pocketoptimizer.preparation.structure_building - [INFO] - Starting to build.\n",
      "2022-06-14 15:32:02,984 - pocketoptimizer.preparation.structure_building - [INFO] - Finished building.\n",
      "2022-06-14 15:32:04,379 - pocketoptimizer.preparation.structure_building - [INFO] - Build scaffold A_44_THR.\n",
      "2022-06-14 15:32:04,828 - htmd.builder.amber - INFO - Detecting disulfide bonds.\n",
      "2022-06-14 15:32:04,987 - pocketoptimizer.preparation.structure_building - [INFO] - Starting to build.\n",
      "2022-06-14 15:32:05,304 - pocketoptimizer.preparation.structure_building - [INFO] - Finished building.\n",
      "2022-06-14 15:32:06,715 - pocketoptimizer.preparation.structure_building - [INFO] - Build scaffold B_84_ARG.\n",
      "2022-06-14 15:32:07,078 - htmd.builder.amber - INFO - Detecting disulfide bonds.\n",
      "2022-06-14 15:32:07,258 - pocketoptimizer.preparation.structure_building - [INFO] - Starting to build.\n",
      "2022-06-14 15:32:07,614 - pocketoptimizer.preparation.structure_building - [INFO] - Finished building.\n",
      "2022-06-14 15:32:09,118 - pocketoptimizer.preparation.structure_building - [INFO] - Build scaffold B_88_LEU.\n",
      "2022-06-14 15:32:09,476 - htmd.builder.amber - INFO - Detecting disulfide bonds.\n",
      "2022-06-14 15:32:09,644 - pocketoptimizer.preparation.structure_building - [INFO] - Starting to build.\n",
      "2022-06-14 15:32:09,927 - pocketoptimizer.preparation.structure_building - [INFO] - Finished building.\n",
      "2022-06-14 15:32:11,323 - pocketoptimizer.preparation.structure_building - [INFO] - Build scaffold B_88_THR.\n",
      "2022-06-14 15:32:11,688 - htmd.builder.amber - INFO - Detecting disulfide bonds.\n",
      "2022-06-14 15:32:11,866 - pocketoptimizer.preparation.structure_building - [INFO] - Starting to build.\n",
      "2022-06-14 15:32:12,204 - pocketoptimizer.preparation.structure_building - [INFO] - Finished building.\n",
      "2022-06-14 15:32:13,740 - pocketoptimizer.preparation.structure_building - [INFO] - Build sampling pocket for residue: A_44_LEU.\n",
      "2022-06-14 15:32:14,226 - htmd.builder.amber - INFO - Detecting disulfide bonds.\n",
      "2022-06-14 15:32:14,440 - pocketoptimizer.preparation.structure_building - [INFO] - Starting to build.\n",
      "2022-06-14 15:32:14,804 - pocketoptimizer.preparation.structure_building - [INFO] - Finished building.\n",
      "2022-06-14 15:32:16,207 - pocketoptimizer.preparation.structure_building - [INFO] - Build sampling pocket for residue: A_44_THR.\n",
      "2022-06-14 15:32:16,682 - htmd.builder.amber - INFO - Detecting disulfide bonds.\n",
      "2022-06-14 15:32:16,840 - pocketoptimizer.preparation.structure_building - [INFO] - Starting to build.\n",
      "2022-06-14 15:32:17,192 - pocketoptimizer.preparation.structure_building - [INFO] - Finished building.\n",
      "2022-06-14 15:32:18,651 - pocketoptimizer.preparation.structure_building - [INFO] - Build sampling pocket for residue: B_84_ARG.\n",
      "2022-06-14 15:32:19,115 - htmd.builder.amber - INFO - Detecting disulfide bonds.\n",
      "2022-06-14 15:32:19,271 - pocketoptimizer.preparation.structure_building - [INFO] - Starting to build.\n",
      "2022-06-14 15:32:19,610 - pocketoptimizer.preparation.structure_building - [INFO] - Finished building.\n",
      "2022-06-14 15:32:21,009 - pocketoptimizer.preparation.structure_building - [INFO] - Build sampling pocket for residue: B_88_LEU.\n",
      "2022-06-14 15:32:21,486 - htmd.builder.amber - INFO - Detecting disulfide bonds.\n",
      "2022-06-14 15:32:21,642 - pocketoptimizer.preparation.structure_building - [INFO] - Starting to build.\n",
      "2022-06-14 15:32:21,918 - pocketoptimizer.preparation.structure_building - [INFO] - Finished building.\n",
      "2022-06-14 15:32:23,432 - pocketoptimizer.preparation.structure_building - [INFO] - Build sampling pocket for residue: B_88_THR.\n",
      "2022-06-14 15:32:23,904 - htmd.builder.amber - INFO - Detecting disulfide bonds.\n",
      "2022-06-14 15:32:24,087 - pocketoptimizer.preparation.structure_building - [INFO] - Starting to build.\n",
      "2022-06-14 15:32:24,450 - pocketoptimizer.preparation.structure_building - [INFO] - Finished building.\n",
      "2022-06-14 15:32:25,895 - pocketoptimizer.preparation.structure_building - [INFO] - Build scaffold A_44_LEU_B_84_ARG.\n",
      "2022-06-14 15:32:26,415 - htmd.builder.amber - INFO - Detecting disulfide bonds.\n",
      "2022-06-14 15:32:26,604 - pocketoptimizer.preparation.structure_building - [INFO] - Starting to build.\n",
      "2022-06-14 15:32:26,928 - pocketoptimizer.preparation.structure_building - [INFO] - Finished building.\n",
      "2022-06-14 15:32:28,411 - pocketoptimizer.preparation.structure_building - [INFO] - Build scaffold A_44_THR_B_84_ARG.\n",
      "2022-06-14 15:32:28,837 - htmd.builder.amber - INFO - Detecting disulfide bonds.\n",
      "2022-06-14 15:32:29,292 - pocketoptimizer.preparation.structure_building - [INFO] - Starting to build.\n",
      "2022-06-14 15:32:29,622 - pocketoptimizer.preparation.structure_building - [INFO] - Finished building.\n",
      "2022-06-14 15:32:31,137 - pocketoptimizer.preparation.structure_building - [INFO] - Build scaffold A_44_LEU_B_88_LEU.\n",
      "2022-06-14 15:32:31,550 - htmd.builder.amber - INFO - Detecting disulfide bonds.\n",
      "2022-06-14 15:32:31,718 - pocketoptimizer.preparation.structure_building - [INFO] - Starting to build.\n",
      "2022-06-14 15:32:32,042 - pocketoptimizer.preparation.structure_building - [INFO] - Finished building.\n",
      "2022-06-14 15:32:33,504 - pocketoptimizer.preparation.structure_building - [INFO] - Build scaffold A_44_LEU_B_88_THR.\n",
      "2022-06-14 15:32:33,924 - htmd.builder.amber - INFO - Detecting disulfide bonds.\n",
      "2022-06-14 15:32:34,075 - pocketoptimizer.preparation.structure_building - [INFO] - Starting to build.\n",
      "2022-06-14 15:32:34,388 - pocketoptimizer.preparation.structure_building - [INFO] - Finished building.\n",
      "2022-06-14 15:32:35,926 - pocketoptimizer.preparation.structure_building - [INFO] - Build scaffold A_44_THR_B_88_LEU.\n",
      "2022-06-14 15:32:36,359 - htmd.builder.amber - INFO - Detecting disulfide bonds.\n",
      "2022-06-14 15:32:36,552 - pocketoptimizer.preparation.structure_building - [INFO] - Starting to build.\n",
      "2022-06-14 15:32:36,868 - pocketoptimizer.preparation.structure_building - [INFO] - Finished building.\n",
      "2022-06-14 15:32:38,292 - pocketoptimizer.preparation.structure_building - [INFO] - Build scaffold A_44_THR_B_88_THR.\n",
      "2022-06-14 15:32:38,703 - htmd.builder.amber - INFO - Detecting disulfide bonds.\n",
      "2022-06-14 15:32:39,039 - pocketoptimizer.preparation.structure_building - [INFO] - Starting to build.\n",
      "2022-06-14 15:32:39,435 - pocketoptimizer.preparation.structure_building - [INFO] - Finished building.\n",
      "2022-06-14 15:32:41,001 - pocketoptimizer.preparation.structure_building - [INFO] - Build scaffold B_84_ARG_B_88_LEU.\n",
      "2022-06-14 15:32:41,428 - htmd.builder.amber - INFO - Detecting disulfide bonds.\n",
      "2022-06-14 15:32:41,590 - pocketoptimizer.preparation.structure_building - [INFO] - Starting to build.\n",
      "2022-06-14 15:32:41,912 - pocketoptimizer.preparation.structure_building - [INFO] - Finished building.\n",
      "2022-06-14 15:32:43,457 - pocketoptimizer.preparation.structure_building - [INFO] - Build scaffold B_84_ARG_B_88_THR.\n",
      "2022-06-14 15:32:43,873 - htmd.builder.amber - INFO - Detecting disulfide bonds.\n",
      "2022-06-14 15:32:44,033 - pocketoptimizer.preparation.structure_building - [INFO] - Starting to build.\n",
      "2022-06-14 15:32:44,355 - pocketoptimizer.preparation.structure_building - [INFO] - Finished building.\n",
      "2022-06-14 15:32:45,775 - pocketoptimizer.ui - [INFO] - Scaffold building done.\n"
     ]
    }
   ],
   "source": [
    "# Prepares all defined mutants and glycine scaffolds for side chain rotamer and ligand pose sampling\n",
    "design.prepare_mutants(sampling_pocket='GLY')"
   ]
  },
  {
   "cell_type": "code",
   "execution_count": 21,
   "id": "59578900",
   "metadata": {},
   "outputs": [
    {
     "name": "stderr",
     "output_type": "stream",
     "text": [
      "2022-06-14 15:32:49,871 - pocketoptimizer.sampling.sidechain_rotamers_ffev - [INFO] - Start rotamer sampling procedure using FFEvaluate.\n",
      "2022-06-14 15:32:49,872 - pocketoptimizer.sampling.sidechain_rotamers_ffev - [INFO] - Using 8 CPU's for multiprocessing.\n",
      "2022-06-14 15:32:50,637 - pocketoptimizer.sampling.sidechain_rotamers_ffev - [INFO] - Rotamers for residue: A_44_LEU not sampled yet.\n"
     ]
    },
    {
     "data": {
      "application/vnd.jupyter.widget-view+json": {
       "model_id": "759780b045b74bfa97baf1c1da855973",
       "version_major": 2,
       "version_minor": 0
      },
      "text/plain": [
       "A_44_LEU:   0%|          | 0/82 [00:00<?, ?it/s]"
      ]
     },
     "metadata": {},
     "output_type": "display_data"
    },
    {
     "name": "stderr",
     "output_type": "stream",
     "text": [
      "2022-06-14 15:33:00,849 - pocketoptimizer.sampling.sidechain_rotamers_ffev - [INFO] - Writing 27/82 rotamers within energy threshold of 100 kcal/mol for LEU at position: A_44.\n",
      "2022-06-14 15:33:00,865 - pocketoptimizer.sampling.sidechain_rotamers_ffev - [INFO] - Rotamers for residue: A_44_THR not sampled yet.\n"
     ]
    },
    {
     "data": {
      "application/vnd.jupyter.widget-view+json": {
       "model_id": "c74ac120960640478a4016aabf6d5a88",
       "version_major": 2,
       "version_minor": 0
      },
      "text/plain": [
       "A_44_THR:   0%|          | 0/10 [00:00<?, ?it/s]"
      ]
     },
     "metadata": {},
     "output_type": "display_data"
    },
    {
     "name": "stderr",
     "output_type": "stream",
     "text": [
      "2022-06-14 15:33:08,574 - pocketoptimizer.sampling.sidechain_rotamers_ffev - [INFO] - Writing 5/10 rotamers within energy threshold of 100 kcal/mol for THR at position: A_44.\n",
      "2022-06-14 15:33:08,582 - pocketoptimizer.sampling.sidechain_rotamers_ffev - [INFO] - Rotamers for residue: B_84_ARG not sampled yet.\n"
     ]
    },
    {
     "data": {
      "application/vnd.jupyter.widget-view+json": {
       "model_id": "261eceff60464f5fbcd9493e6c526d90",
       "version_major": 2,
       "version_minor": 0
      },
      "text/plain": [
       "B_84_ARG:   0%|          | 0/676 [00:00<?, ?it/s]"
      ]
     },
     "metadata": {},
     "output_type": "display_data"
    },
    {
     "name": "stderr",
     "output_type": "stream",
     "text": [
      "2022-06-14 15:33:42,722 - pocketoptimizer.sampling.sidechain_rotamers_ffev - [INFO] - Writing 392/676 rotamers within energy threshold of 100 kcal/mol for ARG at position: B_84.\n",
      "2022-06-14 15:33:42,783 - pocketoptimizer.sampling.sidechain_rotamers_ffev - [INFO] - Rotamers for residue: B_88_LEU not sampled yet.\n"
     ]
    },
    {
     "data": {
      "application/vnd.jupyter.widget-view+json": {
       "model_id": "e3780075f36243f580ab998599d8d40e",
       "version_major": 2,
       "version_minor": 0
      },
      "text/plain": [
       "B_88_LEU:   0%|          | 0/82 [00:00<?, ?it/s]"
      ]
     },
     "metadata": {},
     "output_type": "display_data"
    },
    {
     "name": "stderr",
     "output_type": "stream",
     "text": [
      "2022-06-14 15:33:52,504 - pocketoptimizer.sampling.sidechain_rotamers_ffev - [INFO] - Writing 27/82 rotamers within energy threshold of 100 kcal/mol for LEU at position: B_88.\n",
      "2022-06-14 15:33:52,516 - pocketoptimizer.sampling.sidechain_rotamers_ffev - [INFO] - Rotamers for residue: B_88_THR not sampled yet.\n"
     ]
    },
    {
     "data": {
      "application/vnd.jupyter.widget-view+json": {
       "model_id": "a96a06e897664d55acb4a43a627093dc",
       "version_major": 2,
       "version_minor": 0
      },
      "text/plain": [
       "B_88_THR:   0%|          | 0/10 [00:00<?, ?it/s]"
      ]
     },
     "metadata": {},
     "output_type": "display_data"
    },
    {
     "name": "stderr",
     "output_type": "stream",
     "text": [
      "2022-06-14 15:34:00,357 - pocketoptimizer.sampling.sidechain_rotamers_ffev - [INFO] - Writing 7/10 rotamers within energy threshold of 100 kcal/mol for THR at position: B_88.\n",
      "2022-06-14 15:34:00,365 - pocketoptimizer.sampling.sidechain_rotamers_ffev - [INFO] - Rotamer sampling procedure is finished.\n"
     ]
    }
   ],
   "source": [
    "ncpus = 8\n",
    "# Sampling of side chain rotamers\n",
    "design.sample_sidechain_rotamers(\n",
    "    vdw_filter_thresh=100,   # Energy threshold of 100 kcal/mol\n",
    "    ncpus=ncpus,             # Number of CPUs to use\n",
    "    library='dunbrack'       # Use dunbrack rotamer library\n",
    "    )"
   ]
  },
  {
   "cell_type": "code",
   "execution_count": 22,
   "id": "b983bed0",
   "metadata": {},
   "outputs": [
    {
     "name": "stderr",
     "output_type": "stream",
     "text": [
      "2022-06-14 15:34:00,511 - pocketoptimizer.ui - [INFO] - Sample ligand poses.\n",
      "2022-06-14 15:34:00,513 - pocketoptimizer.sampling.ligand_poses - [INFO] - Start ligand pose sampling procedure.\n",
      "2022-06-14 15:34:01,995 - pocketoptimizer.sampling.ligand_poses - [INFO] - Sample possible poses within the defined grid.\n"
     ]
    },
    {
     "data": {
      "application/vnd.jupyter.widget-view+json": {
       "model_id": "ae62e57b886d40d68ca36e808b0def11",
       "version_major": 2,
       "version_minor": 0
      },
      "text/plain": [
       "Ligand Conformers:   0%|          | 0/51 [00:00<?, ?it/s]"
      ]
     },
     "metadata": {},
     "output_type": "display_data"
    },
    {
     "name": "stderr",
     "output_type": "stream",
     "text": [
      "2022-06-14 15:34:02,070 - pocketoptimizer.sampling.ligand_poses - [INFO] - Created possible 4641 poses.\n",
      "2022-06-14 15:34:02,071 - pocketoptimizer.sampling.ligand_poses - [INFO] - Start filtering poses.\n",
      "2022-06-14 15:34:02,071 - pocketoptimizer.sampling.ligand_poses - [INFO] - Using 8 CPUs for multiprocessing.\n"
     ]
    },
    {
     "data": {
      "application/vnd.jupyter.widget-view+json": {
       "model_id": "6a32d137533d4aaaaa7a1124b7360879",
       "version_major": 2,
       "version_minor": 0
      },
      "text/plain": [
       "Filter Poses:   0%|          | 0/4641 [00:00<?, ?it/s]"
      ]
     },
     "metadata": {},
     "output_type": "display_data"
    },
    {
     "name": "stderr",
     "output_type": "stream",
     "text": [
      "2022-06-14 15:36:37,085 - pocketoptimizer.sampling.ligand_poses - [INFO] - Calculated poses within threshold: 1230.\n",
      "2022-06-14 15:36:37,159 - pocketoptimizer.sampling.ligand_poses - [INFO] - Pose sampling procedure was successful.\n"
     ]
    }
   ],
   "source": [
    "# Sampling of ligand poses\n",
    "# Defines a grid in which the ligand is translated and rotated along.\n",
    "#                       Range, Steps\n",
    "sample_grid = {'trans': [1, 0.5],  # Angstrom\n",
    "               'rot': [20, 20]}    # Degree\n",
    "design.sample_lig_poses(\n",
    "    method='grid',         #  Uses the grid method. Other option is random\n",
    "    grid=sample_grid,      #  Defined grid for sampling    \n",
    "    vdw_filter_thresh=100, #  Energy threshold of 100 kcal/mol\n",
    "    ncpus=ncpus,           #  Number of CPUs to use\n",
    "    max_poses=10000        #  Maximum number of poses\n",
    ")"
   ]
  },
  {
   "cell_type": "code",
   "execution_count": 24,
   "id": "bb7a35d1",
   "metadata": {
    "tags": []
   },
   "outputs": [
    {
     "name": "stderr",
     "output_type": "stream",
     "text": [
      "2022-06-14 15:37:09,659 - pocketoptimizer.ui - [INFO] - Start energy calculation.\n",
      "2022-06-14 15:37:09,660 - pocketoptimizer.ui - [INFO] - Using 8 CPUs for multiprocessing.\n",
      "2022-06-14 15:37:09,661 - pocketoptimizer.ui - [INFO] - Calculate Sidechain-Scaffold Energies.\n",
      "2022-06-14 15:37:09,661 - pocketoptimizer.scoring.sidechain_scaffold_energies - [INFO] - Compute energies using forcefield: amber_ff14SB.\n",
      "2022-06-14 15:37:09,745 - pocketoptimizer.scoring.sidechain_scaffold_energies - [INFO] - Sidechain-Scaffold-Interaction-Energies for Residue: A_44_LEU not computed yet.\n"
     ]
    },
    {
     "data": {
      "application/vnd.jupyter.widget-view+json": {
       "model_id": "3edd463d4e4b48f5939009da409aaa70",
       "version_major": 2,
       "version_minor": 0
      },
      "text/plain": [
       "  0%|          | 0/27 [00:00<?, ?it/s]"
      ]
     },
     "metadata": {},
     "output_type": "display_data"
    },
    {
     "name": "stderr",
     "output_type": "stream",
     "text": [
      "2022-06-14 15:37:17,839 - pocketoptimizer.scoring.sidechain_scaffold_energies - [INFO] - Sidechain-Scaffold-Interaction-Energies for Residue: A_44_THR not computed yet.\n"
     ]
    },
    {
     "data": {
      "application/vnd.jupyter.widget-view+json": {
       "model_id": "d6ab56b565da4b08826a5a3e3087ccfd",
       "version_major": 2,
       "version_minor": 0
      },
      "text/plain": [
       "  0%|          | 0/5 [00:00<?, ?it/s]"
      ]
     },
     "metadata": {},
     "output_type": "display_data"
    },
    {
     "name": "stderr",
     "output_type": "stream",
     "text": [
      "2022-06-14 15:37:25,228 - pocketoptimizer.scoring.sidechain_scaffold_energies - [INFO] - Sidechain-Scaffold-Interaction-Energies for Residue: B_84_ARG not computed yet.\n"
     ]
    },
    {
     "data": {
      "application/vnd.jupyter.widget-view+json": {
       "model_id": "061d8f2203d34513bb0f3aa4fecab32b",
       "version_major": 2,
       "version_minor": 0
      },
      "text/plain": [
       "  0%|          | 0/392 [00:00<?, ?it/s]"
      ]
     },
     "metadata": {},
     "output_type": "display_data"
    },
    {
     "name": "stderr",
     "output_type": "stream",
     "text": [
      "2022-06-14 15:37:43,507 - pocketoptimizer.scoring.sidechain_scaffold_energies - [INFO] - Sidechain-Scaffold-Interaction-Energies for Residue: B_88_LEU not computed yet.\n"
     ]
    },
    {
     "data": {
      "application/vnd.jupyter.widget-view+json": {
       "model_id": "750d2fc421404d79846e9ae2a1ddda0f",
       "version_major": 2,
       "version_minor": 0
      },
      "text/plain": [
       "  0%|          | 0/27 [00:00<?, ?it/s]"
      ]
     },
     "metadata": {},
     "output_type": "display_data"
    },
    {
     "name": "stderr",
     "output_type": "stream",
     "text": [
      "2022-06-14 15:37:51,148 - pocketoptimizer.scoring.sidechain_scaffold_energies - [INFO] - Sidechain-Scaffold-Interaction-Energies for Residue: B_88_THR not computed yet.\n"
     ]
    },
    {
     "data": {
      "application/vnd.jupyter.widget-view+json": {
       "model_id": "b2b015a6f5ea4b57859cae269bb724c5",
       "version_major": 2,
       "version_minor": 0
      },
      "text/plain": [
       "  0%|          | 0/7 [00:00<?, ?it/s]"
      ]
     },
     "metadata": {},
     "output_type": "display_data"
    },
    {
     "name": "stderr",
     "output_type": "stream",
     "text": [
      "2022-06-14 15:37:58,355 - pocketoptimizer.scoring.sidechain_scaffold_energies - [INFO] - Sidechain-Scaffold calculation was successful.\n",
      "2022-06-14 15:37:58,356 - pocketoptimizer.ui - [INFO] - Calculate Sidechain-Pair Energies.\n",
      "2022-06-14 15:37:58,357 - pocketoptimizer.scoring.sidechain_pair_energies - [INFO] - Compute energies using forcefield: amber_ff14SB.\n",
      "2022-06-14 15:37:59,021 - pocketoptimizer.scoring.sidechain_pair_energies - [INFO] - Sidechain-Sidechain-Interaction-Energies for Residue-Pair: A_44_LEU/B_84_ARG not computed yet.\n"
     ]
    },
    {
     "data": {
      "application/vnd.jupyter.widget-view+json": {
       "model_id": "478214a6e3eb46cba2c122b40b956961",
       "version_major": 2,
       "version_minor": 0
      },
      "text/plain": [
       "  0%|          | 0/10584 [00:00<?, ?it/s]"
      ]
     },
     "metadata": {},
     "output_type": "display_data"
    },
    {
     "name": "stderr",
     "output_type": "stream",
     "text": [
      "2022-06-14 15:41:16,810 - pocketoptimizer.scoring.sidechain_pair_energies - [INFO] - Sidechain-Sidechain-Interaction-Energies for Residue-Pair: A_44_THR/B_84_ARG not computed yet.\n"
     ]
    },
    {
     "data": {
      "application/vnd.jupyter.widget-view+json": {
       "model_id": "47a3d27fb5c74c0a9496485cf018f799",
       "version_major": 2,
       "version_minor": 0
      },
      "text/plain": [
       "  0%|          | 0/1960 [00:00<?, ?it/s]"
      ]
     },
     "metadata": {},
     "output_type": "display_data"
    },
    {
     "name": "stderr",
     "output_type": "stream",
     "text": [
      "2022-06-14 15:41:55,200 - pocketoptimizer.scoring.sidechain_pair_energies - [INFO] - Sidechain-Sidechain-Interaction-Energies for Residue-Pair: A_44_LEU/B_88_LEU not computed yet.\n"
     ]
    },
    {
     "data": {
      "application/vnd.jupyter.widget-view+json": {
       "model_id": "c292f91485854153a8c7b26948c4830d",
       "version_major": 2,
       "version_minor": 0
      },
      "text/plain": [
       "  0%|          | 0/729 [00:00<?, ?it/s]"
      ]
     },
     "metadata": {},
     "output_type": "display_data"
    },
    {
     "name": "stderr",
     "output_type": "stream",
     "text": [
      "2022-06-14 15:42:15,539 - pocketoptimizer.scoring.sidechain_pair_energies - [INFO] - Sidechain-Sidechain-Interaction-Energies for Residue-Pair: A_44_LEU/B_88_THR not computed yet.\n"
     ]
    },
    {
     "data": {
      "application/vnd.jupyter.widget-view+json": {
       "model_id": "ad1d8bcb76f64a73be15327a5c9c70f9",
       "version_major": 2,
       "version_minor": 0
      },
      "text/plain": [
       "  0%|          | 0/189 [00:00<?, ?it/s]"
      ]
     },
     "metadata": {},
     "output_type": "display_data"
    },
    {
     "name": "stderr",
     "output_type": "stream",
     "text": [
      "2022-06-14 15:42:25,815 - pocketoptimizer.scoring.sidechain_pair_energies - [INFO] - Sidechain-Sidechain-Interaction-Energies for Residue-Pair: A_44_THR/B_88_LEU not computed yet.\n"
     ]
    },
    {
     "data": {
      "application/vnd.jupyter.widget-view+json": {
       "model_id": "02e449664c4240dbb61f06ed2a797ca2",
       "version_major": 2,
       "version_minor": 0
      },
      "text/plain": [
       "  0%|          | 0/135 [00:00<?, ?it/s]"
      ]
     },
     "metadata": {},
     "output_type": "display_data"
    },
    {
     "name": "stderr",
     "output_type": "stream",
     "text": [
      "2022-06-14 15:42:35,076 - pocketoptimizer.scoring.sidechain_pair_energies - [INFO] - Sidechain-Sidechain-Interaction-Energies for Residue-Pair: A_44_THR/B_88_THR not computed yet.\n"
     ]
    },
    {
     "data": {
      "application/vnd.jupyter.widget-view+json": {
       "model_id": "f7b7dd9a4bcb471eac286f2909d8cb41",
       "version_major": 2,
       "version_minor": 0
      },
      "text/plain": [
       "  0%|          | 0/35 [00:00<?, ?it/s]"
      ]
     },
     "metadata": {},
     "output_type": "display_data"
    },
    {
     "name": "stderr",
     "output_type": "stream",
     "text": [
      "2022-06-14 15:42:43,477 - pocketoptimizer.scoring.sidechain_pair_energies - [INFO] - Sidechain-Sidechain-Interaction-Energies for Residue-Pair: B_84_ARG/B_88_LEU not computed yet.\n"
     ]
    },
    {
     "data": {
      "application/vnd.jupyter.widget-view+json": {
       "model_id": "dda7fc6c6843424fb56293351cea3c79",
       "version_major": 2,
       "version_minor": 0
      },
      "text/plain": [
       "  0%|          | 0/10584 [00:00<?, ?it/s]"
      ]
     },
     "metadata": {},
     "output_type": "display_data"
    },
    {
     "name": "stderr",
     "output_type": "stream",
     "text": [
      "2022-06-14 15:46:03,089 - pocketoptimizer.scoring.sidechain_pair_energies - [INFO] - Sidechain-Sidechain-Interaction-Energies for Residue-Pair: B_84_ARG/B_88_THR not computed yet.\n"
     ]
    },
    {
     "data": {
      "application/vnd.jupyter.widget-view+json": {
       "model_id": "a59fbe30bfa1481db25c06a8eb8a7535",
       "version_major": 2,
       "version_minor": 0
      },
      "text/plain": [
       "  0%|          | 0/2744 [00:00<?, ?it/s]"
      ]
     },
     "metadata": {},
     "output_type": "display_data"
    },
    {
     "name": "stderr",
     "output_type": "stream",
     "text": [
      "2022-06-14 15:46:52,956 - pocketoptimizer.scoring.sidechain_pair_energies - [INFO] - Sidechain-Pair calculation was successful.\n",
      "2022-06-14 15:46:52,958 - pocketoptimizer.ui - [INFO] - Calculate Ligand-Scaffold/Sidechain-Interaction-Energies.\n",
      "2022-06-14 15:46:52,958 - pocketoptimizer.scoring.smina_scorer - [INFO] - Score ligand interactions using vina.\n",
      "2022-06-14 15:46:54,501 - pocketoptimizer.scoring.smina_scorer - [INFO] - Ligand-Scaffold-Interaction-Energies not computed yet.\n",
      "2022-06-14 15:46:54,502 - pocketoptimizer.scoring.smina_scorer - [INFO] - Prepare fixed scaffold.\n"
     ]
    },
    {
     "data": {
      "application/vnd.jupyter.widget-view+json": {
       "model_id": "3dab660d43874d8aa14dd03dd8428ef0",
       "version_major": 2,
       "version_minor": 0
      },
      "text/plain": [
       "Ligand/Scaffold:   0%|          | 0/1 [00:00<?, ?it/s]"
      ]
     },
     "metadata": {},
     "output_type": "display_data"
    },
    {
     "name": "stderr",
     "output_type": "stream",
     "text": [
      "2022-06-14 15:46:57,427 - pocketoptimizer.scoring.smina_scorer - [INFO] - Ligand-Sidechain-Interaction-Energies with Residue: A_44_LEU not computed yet.\n",
      "2022-06-14 15:46:57,555 - pocketoptimizer.scoring.smina_scorer - [INFO] - Loop over Rotamers of Residue: A_44_LEU.\n"
     ]
    },
    {
     "data": {
      "application/vnd.jupyter.widget-view+json": {
       "model_id": "ee2440f744f449b098e2d59592a562ad",
       "version_major": 2,
       "version_minor": 0
      },
      "text/plain": [
       "Ligand/A_44_LEU:   0%|          | 0/27 [00:00<?, ?it/s]"
      ]
     },
     "metadata": {},
     "output_type": "display_data"
    },
    {
     "name": "stderr",
     "output_type": "stream",
     "text": [
      "2022-06-14 15:47:23,990 - pocketoptimizer.scoring.smina_scorer - [INFO] - Ligand-Sidechain-Interaction-Energies with Residue: A_44_THR not computed yet.\n",
      "2022-06-14 15:47:24,028 - pocketoptimizer.scoring.smina_scorer - [INFO] - Loop over Rotamers of Residue: A_44_THR.\n"
     ]
    },
    {
     "data": {
      "application/vnd.jupyter.widget-view+json": {
       "model_id": "f093238b9b2f43448e4cbfc6c2c9bc06",
       "version_major": 2,
       "version_minor": 0
      },
      "text/plain": [
       "Ligand/A_44_THR:   0%|          | 0/5 [00:00<?, ?it/s]"
      ]
     },
     "metadata": {},
     "output_type": "display_data"
    },
    {
     "name": "stderr",
     "output_type": "stream",
     "text": [
      "2022-06-14 15:47:29,102 - pocketoptimizer.scoring.smina_scorer - [INFO] - Ligand-Sidechain-Interaction-Energies with Residue: B_84_ARG not computed yet.\n",
      "2022-06-14 15:47:30,040 - pocketoptimizer.scoring.smina_scorer - [INFO] - Loop over Rotamers of Residue: B_84_ARG.\n"
     ]
    },
    {
     "data": {
      "application/vnd.jupyter.widget-view+json": {
       "model_id": "2995f1dfee9042c3b175c657650b2543",
       "version_major": 2,
       "version_minor": 0
      },
      "text/plain": [
       "Ligand/B_84_ARG:   0%|          | 0/392 [00:00<?, ?it/s]"
      ]
     },
     "metadata": {},
     "output_type": "display_data"
    },
    {
     "name": "stderr",
     "output_type": "stream",
     "text": [
      "2022-06-14 15:53:57,407 - pocketoptimizer.scoring.smina_scorer - [INFO] - Ligand-Sidechain-Interaction-Energies with Residue: B_88_LEU not computed yet.\n",
      "2022-06-14 15:53:57,570 - pocketoptimizer.scoring.smina_scorer - [INFO] - Loop over Rotamers of Residue: B_88_LEU.\n"
     ]
    },
    {
     "data": {
      "application/vnd.jupyter.widget-view+json": {
       "model_id": "5fc65ec8d74c4013a2f892f6bd263908",
       "version_major": 2,
       "version_minor": 0
      },
      "text/plain": [
       "Ligand/B_88_LEU:   0%|          | 0/27 [00:00<?, ?it/s]"
      ]
     },
     "metadata": {},
     "output_type": "display_data"
    },
    {
     "name": "stderr",
     "output_type": "stream",
     "text": [
      "2022-06-14 15:54:24,437 - pocketoptimizer.scoring.smina_scorer - [INFO] - Ligand-Sidechain-Interaction-Energies with Residue: B_88_THR not computed yet.\n",
      "2022-06-14 15:54:24,482 - pocketoptimizer.scoring.smina_scorer - [INFO] - Loop over Rotamers of Residue: B_88_THR.\n"
     ]
    },
    {
     "data": {
      "application/vnd.jupyter.widget-view+json": {
       "model_id": "754ac60bf2e541c28e7ba1a3bbeef4c4",
       "version_major": 2,
       "version_minor": 0
      },
      "text/plain": [
       "Ligand/B_88_THR:   0%|          | 0/7 [00:00<?, ?it/s]"
      ]
     },
     "metadata": {},
     "output_type": "display_data"
    },
    {
     "name": "stderr",
     "output_type": "stream",
     "text": [
      "2022-06-14 15:54:31,496 - pocketoptimizer.scoring.smina_scorer - [INFO] - Ligand scoring was successful.\n",
      "2022-06-14 15:54:31,497 - pocketoptimizer.ui - [INFO] - Energy calculation was successful.\n"
     ]
    }
   ],
   "source": [
    "design.calculate_energies(\n",
    "    scoring='vina',           #  Method to score protein-ligand interaction\n",
    "    ncpus=ncpus,              #  Number of CPUs to use\n",
    ")"
   ]
  },
  {
   "cell_type": "code",
   "execution_count": 25,
   "id": "d7d2cd60",
   "metadata": {
    "tags": []
   },
   "outputs": [
    {
     "name": "stderr",
     "output_type": "stream",
     "text": [
      "2022-06-14 15:54:35,969 - pocketoptimizer.solving.sontag_solver - [INFO] - Calculating Solutions.\n"
     ]
    },
    {
     "data": {
      "application/vnd.jupyter.widget-view+json": {
       "model_id": "04074d8b5bf5464eb5395f23437485f1",
       "version_major": 2,
       "version_minor": 0
      },
      "text/plain": [
       "Solutions:   0%|          | 0/10 [00:00<?, ?it/s]"
      ]
     },
     "metadata": {},
     "output_type": "display_data"
    },
    {
     "name": "stderr",
     "output_type": "stream",
     "text": [
      "2022-06-14 15:55:32,500 - pocketoptimizer.ui - [INFO] - Parse calculated solutions.\n",
      "2022-06-14 15:55:33,004 - pocketoptimizer.ui - [INFO] - Read 10 solutions from solver output.\n",
      "2022-06-14 15:55:37,663 - pocketoptimizer.ui - [INFO] - Write txt report.\n",
      "2022-06-14 15:55:37,714 - pocketoptimizer.ui - [INFO] - Wrote solution report text file(s).\n",
      "2022-06-14 15:55:37,717 - pocketoptimizer.ui - [INFO] - Wrote summary text file.\n",
      "2022-06-14 15:55:37,717 - pocketoptimizer.ui - [INFO] - Write html report.\n",
      "2022-06-14 15:55:37,797 - pocketoptimizer.ui - [INFO] - Wrote solution report html file(s).\n",
      "2022-06-14 15:55:37,799 - pocketoptimizer.design.html_reporter - [INFO] - Create energy plot.\n",
      "2022-06-14 15:55:39,579 - pocketoptimizer.design.html_reporter - [INFO] - Create sequence logo for mutable positions.\n"
     ]
    },
    {
     "data": {
      "image/png": "[encoded data removed]",
      "text/plain": [
       "<IPython.core.display.Image object>"
      ]
     },
     "metadata": {},
     "output_type": "display_data"
    },
    {
     "name": "stderr",
     "output_type": "stream",
     "text": [
      "2022-06-14 15:55:41,399 - pocketoptimizer.ui - [INFO] - Wrote summary html file.\n",
      "2022-06-14 15:55:41,399 - pocketoptimizer.ui - [INFO] - Creating design structure files.\n",
      "2022-06-14 15:55:41,400 - pocketoptimizer.ui - [INFO] - Create Structures.\n",
      "2022-06-14 15:55:50,838 - pocketoptimizer.ui - [INFO] - Creating pymol scripts.\n",
      "2022-06-14 15:55:50,855 - pocketoptimizer.ui - [INFO] - All solutions are processed.\n",
      "2022-06-14 15:55:50,856 - pocketoptimizer.ui - [INFO] - 10 best design solution(s) for design with forcefield: amber_ff14SB, scoring method: vina and ligand scaling: 20 identified.\n"
     ]
    },
    {
     "data": {
      "image/png": "[encoded data removed]",
      "text/plain": [
       "<Figure size 432x288 with 1 Axes>"
      ]
     },
     "metadata": {
      "needs_background": "light"
     },
     "output_type": "display_data"
    }
   ],
   "source": [
    "# Compute the lowest energy structures using linear programming\n",
    "design.design(\n",
    "    num_solutions=10,           #  Number of solutions to compute\n",
    "    ligand_scaling=20,          #  Scaling factor for binding-related energies\n",
    ")"
   ]
  },
  {
   "cell_type": "code",
   "execution_count": 7,
   "id": "a4510d5f-c706-4cf7-825e-45556ec12d2b",
   "metadata": {},
   "outputs": [
    {
     "name": "stderr",
     "output_type": "stream",
     "text": [
      "2021-11-02 15:02:48,273 - pocketoptimizer.ui - [INFO] - All scaffold files are deleted.\n",
      "2021-11-02 15:02:48,305 - pocketoptimizer.ui - [INFO] - All ligand files are deleted.\n",
      "2021-11-02 15:02:48,310 - pocketoptimizer.ui - [INFO] - Deleted settings file.\n",
      "2021-11-02 15:02:48,313 - pocketoptimizer.ui - [INFO] - Deleted log file.\n",
      "2021-11-02 15:02:48,314 - pocketoptimizer.ui - [INFO] - Initialize new DesignPipeline object.\n",
      "2021-11-02 15:02:48,315 - pocketoptimizer.ui - [INFO] - All files were deleted.\n"
     ]
    }
   ],
   "source": [
    "# Do not run this unless you wanna fully clean your working directory from all created files and folders\n",
    "\n",
    "design.clean(scaffold=True, ligand=True)"
   ]
  }
 ],
 "metadata": {
  "kernelspec": {
   "display_name": "pocketoptimizer2",
   "language": "python",
   "name": "pocketoptimizer2"
  },
  "language_info": {
   "codemirror_mode": {
    "name": "ipython",
    "version": 3
   },
   "file_extension": ".py",
   "mimetype": "text/x-python",
   "name": "python",
   "nbconvert_exporter": "python",
   "pygments_lexer": "ipython3",
   "version": "3.9.12"
  }
 },
 "nbformat": 4,
 "nbformat_minor": 5
}
