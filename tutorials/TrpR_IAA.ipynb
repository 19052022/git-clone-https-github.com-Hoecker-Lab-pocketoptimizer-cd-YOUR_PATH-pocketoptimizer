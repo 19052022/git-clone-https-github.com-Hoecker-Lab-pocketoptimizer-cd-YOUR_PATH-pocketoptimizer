{
 "cells": [
  {
   "cell_type": "markdown",
   "id": "f3d596fc-7ec4-4d0f-9f59-cfd55ab994a7",
   "metadata": {},
   "source": [
    "## TrpR_IAA"
   ]
  },
  {
   "cell_type": "markdown",
   "id": "621603ed-1568-4797-8914-3ddd9456a93c",
   "metadata": {},
   "source": [
    "Exemplary design of the trpytophane repressor (PDB: 1ZT9) with the ligand indole-3-acetic acid (IAA)."
   ]
  },
  {
   "cell_type": "code",
   "execution_count": 1,
   "id": "d23d8c90",
   "metadata": {},
   "outputs": [],
   "source": [
    "# This is a comment. It's marked by a leading \"#\" symbol\n",
    "\n",
    "# Import OS and system libraries\n",
    "import sys\n",
    "import os\n",
    "import logging\n",
    "\n",
    "# Append the pocketoptimizer code to your $PYTHONPATH\n",
    "cwd = os.getcwd()\n",
    "project_dir = os.path.join(cwd, 'TrpR_IAA')\n",
    "sys.path.append(os.path.join(cwd, '..'))\n",
    "\n",
    "# Import Pocketoptimizer\n",
    "import pocketoptimizer as po\n",
    "\n",
    "# Remove most warnings, only show Errors\n",
    "import warnings\n",
    "warnings.simplefilter(action='ignore', category=FutureWarning)\n",
    "warnings.simplefilter(action='ignore', category=DeprecationWarning)"
   ]
  },
  {
   "cell_type": "code",
   "execution_count": 2,
   "id": "20beea30",
   "metadata": {},
   "outputs": [
    {
     "name": "stderr",
     "output_type": "stream",
     "text": [
      "2022-09-05 15:22:24,727 - pocketoptimizer.ui - INFO - Logging to: /agh/projects/jakob/pocketoptimizer/tutorials/TrpR_IAA/pocketoptimizer.log\n"
     ]
    }
   ],
   "source": [
    "# Initialize a new design pipeline\n",
    "design = po.DesignPipeline(work_dir=project_dir, forcefield='amber_ff14SB', ph=7, ncpus=8)"
   ]
  },
  {
   "cell_type": "code",
   "execution_count": 3,
   "id": "a4513f1b",
   "metadata": {},
   "outputs": [
    {
     "name": "stderr",
     "output_type": "stream",
     "text": [
      "2022-09-05 15:22:26,983 - numexpr.utils - INFO - Note: NumExpr detected 16 cores but \"NUMEXPR_MAX_THREADS\" not set, so enforcing safe limit of 8.\n",
      "2022-09-05 15:22:26,983 - numexpr.utils - INFO - NumExpr defaulting to 8 threads.\n",
      "beignet-opencl-icd: no supported GPU found, this is probably the wrong opencl-icd package for this hardware\n",
      "(If you have multiple ICDs installed and OpenCL works, you can ignore this message)\n",
      "beignet-opencl-icd: no supported GPU found, this is probably the wrong opencl-icd package for this hardware\n",
      "(If you have multiple ICDs installed and OpenCL works, you can ignore this message)\n",
      "2022-09-05 15:22:27,673 - root - WARNING - Warning: importing 'simtk.openmm' is deprecated.  Import 'openmm' instead.\n",
      "2022-09-05 15:22:28,224 - pocketoptimizer.preparation.structure_building - INFO - Adding hydrogen atoms to the ligand according to pH: 7.\n",
      "2022-09-05 15:22:28,613 - pocketoptimizer.preparation.structure_building - INFO - Parameterize ligand for GAFF2.\n",
      "2022-09-05 15:22:28,890 - pocketoptimizer.preparation.structure_building - INFO - Ligand parametrization was successful.\n"
     ]
    }
   ],
   "source": [
    "# Prepare ligand\n",
    "design.parameterize_ligand(input_ligand='ligand/IAA.sdf')"
   ]
  },
  {
   "cell_type": "code",
   "execution_count": 4,
   "id": "6358191d",
   "metadata": {},
   "outputs": [
    {
     "name": "stderr",
     "output_type": "stream",
     "text": [
      "2022-09-05 15:22:30,765 - pocketoptimizer.ui - INFO - Start Protein Preparation.\n",
      "2022-09-05 15:22:30,768 - pocketoptimizer.preparation.structure_building - INFO - Starting protein preparation.\n",
      "2022-09-05 15:22:31,026 - pocketoptimizer.preparation.structure_building - INFO - Protonate protein according to pH: 7.\n",
      "2022-09-05 15:22:31,246 - moleculekit.tools.preparation - WARNING - Both chains and segments are defined in Molecule.chain / Molecule.segid, however they are inconsistent. Protein preparation will use the chain information.\n"
     ]
    },
    {
     "name": "stdout",
     "output_type": "stream",
     "text": [
      "\n",
      "---- Molecule chain report ----\n",
      "Chain A:\n",
      "    First residue: SER     5  \n",
      "    Final residue: LEU   105  \n",
      "Chain B:\n",
      "    First residue: SER     5  \n",
      "    Final residue: TRP   901  \n",
      "---- End of chain report ----\n",
      "\n"
     ]
    },
    {
     "name": "stderr",
     "output_type": "stream",
     "text": [
      "2022-09-05 15:22:33,259 - moleculekit.tools.preparation - INFO - Modified residue HIS    16 A to HID\n",
      "2022-09-05 15:22:33,260 - moleculekit.tools.preparation - INFO - Modified residue HIS    35 A to HID\n",
      "2022-09-05 15:22:33,260 - moleculekit.tools.preparation - INFO - Modified residue HIS    16 B to HID\n",
      "2022-09-05 15:22:33,261 - moleculekit.tools.preparation - INFO - Modified residue HIS    35 B to HID\n",
      "2022-09-05 15:22:33,262 - moleculekit.tools.preparation - WARNING - Dubious protonation state: the pKa of 2 residues is within 1.0 units of pH 7.0.\n",
      "2022-09-05 15:22:33,263 - moleculekit.tools.preparation - WARNING - Dubious protonation state:    HIS    16 A (pKa= 6.16)\n",
      "2022-09-05 15:22:33,264 - moleculekit.tools.preparation - WARNING - Dubious protonation state:    HIS    16 B (pKa= 6.24)\n",
      "2022-09-05 15:22:33,869 - pocketoptimizer.preparation.structure_building - INFO - Successfully prepared protein structure.\n",
      "2022-09-05 15:22:33,871 - pocketoptimizer.ui - INFO - Building complex before minimization.\n",
      "2022-09-05 15:22:34,059 - pocketoptimizer.preparation.structure_building - INFO - Build native complex.\n",
      "2022-09-05 15:22:34,401 - htmd.builder.amber - INFO - Detecting disulfide bonds.\n",
      "2022-09-05 15:22:34,644 - pocketoptimizer.preparation.structure_building - INFO - Starting the build.\n",
      "2022-09-05 15:22:34,959 - pocketoptimizer.preparation.structure_building - INFO - Finished building.\n",
      "2022-09-05 15:22:38,021 - pocketoptimizer.preparation.minimize_structure - INFO - Starting potential energy: -613.4546210147854 kcal/mol.\n",
      "2022-09-05 15:23:04,354 - pocketoptimizer.preparation.minimize_structure - INFO - Ending potential energy: -6392.171238799054 kcal/mol.\n",
      "2022-09-05 15:23:04,501 - pocketoptimizer.preparation.minimize_structure - INFO - RMSD between minimized and unminimized structure: 0.8737 Å.\n",
      "2022-09-05 15:23:04,658 - pocketoptimizer.ui - INFO - Your protein was successfully minimized and can be used for design now.\n",
      "2022-09-05 15:23:04,659 - pocketoptimizer.ui - INFO - Protein preparation finished.\n"
     ]
    }
   ],
   "source": [
    "design.prepare_protein(\n",
    "    protein_structure='scaffold/1ZT9.pdb',  # Input PDB\n",
    "    keep_chains=['A', 'B'],  # Specific protein chains to keep\n",
    "    backbone_restraint=True, # Restrains the backbone during the minimization\n",
    "    cuda=False,               # Performs minimization on CPU instead of GPU\n",
    "    discard_mols=[{'chain': 'A', 'resid': '1001'}]     # Special molecules to exclude. Per default everything, but peptides have to be defined manually\n",
    "    )"
   ]
  },
  {
   "cell_type": "code",
   "execution_count": 5,
   "id": "b9e4e7fa",
   "metadata": {},
   "outputs": [
    {
     "name": "stderr",
     "output_type": "stream",
     "text": [
      "2022-09-05 15:23:04,745 - pocketoptimizer.sampling.conformer_generator_obabel - INFO - Starting ligand conformer generation using obabel.\n",
      "2022-09-05 15:23:04,745 - pocketoptimizer.sampling.conformer_generator_obabel - INFO - Selected Method: genetic.\n",
      "2022-09-05 15:23:05,328 - pocketoptimizer.sampling.conformer_generator_obabel - INFO - Generated 50 conformers.\n",
      "2022-09-05 15:23:05,329 - pocketoptimizer.sampling.conformer_generator_obabel - INFO - Conformer sampling was successful.\n"
     ]
    }
   ],
   "source": [
    "design.prepare_lig_conformers(\n",
    "    nconfs=50,         # Maximum number of conformers to produce'\n",
    "    method='genetic',  # Genetic method in OpenBabel, other option is confab\n",
    "    score='rmsd',      # Filters conformers based on RMSD\n",
    "    )"
   ]
  },
  {
   "cell_type": "code",
   "execution_count": 6,
   "id": "b2a2545c",
   "metadata": {},
   "outputs": [
    {
     "name": "stderr",
     "output_type": "stream",
     "text": [
      "2022-09-05 15:23:05,336 - pocketoptimizer.ui - INFO - If design positions are removed or added a new design run should be started.\n"
     ]
    }
   ],
   "source": [
    "\n",
    "# Your mutations\n",
    "design.set_mutations([{'mutations': ['LEU', 'THR'], 'resid': '88', 'chain': 'B'}, \n",
    "                      {'mutations': ['ARG'], 'resid': '84', 'chain': 'B'}, \n",
    "                      {'mutations': ['LEU','THR'], 'resid': '44', 'chain': 'A'}]\n",
    ")\n"
   ]
  },
  {
   "cell_type": "code",
   "execution_count": 7,
   "id": "e67d6dac",
   "metadata": {},
   "outputs": [
    {
     "name": "stderr",
     "output_type": "stream",
     "text": [
      "2022-09-05 15:23:05,855 - pocketoptimizer.ui - INFO - Start building mutated protein scaffold variants.\n",
      "2022-09-05 15:23:05,856 - pocketoptimizer.ui - INFO - Build GLY sampling pockets.\n",
      "2022-09-05 15:23:06,535 - pocketoptimizer.preparation.structure_building - INFO - Build ligand sampling pocket.\n",
      "2022-09-05 15:23:07,021 - htmd.builder.amber - INFO - Detecting disulfide bonds.\n",
      "2022-09-05 15:23:07,369 - pocketoptimizer.preparation.structure_building - INFO - Starting the build.\n",
      "2022-09-05 15:23:07,763 - pocketoptimizer.preparation.structure_building - INFO - Finished building.\n",
      "2022-09-05 15:23:09,379 - pocketoptimizer.preparation.structure_building - INFO - Build mutation: A_44_LEU.\n",
      "2022-09-05 15:23:09,968 - htmd.builder.amber - INFO - Detecting disulfide bonds.\n",
      "2022-09-05 15:23:10,126 - pocketoptimizer.preparation.structure_building - INFO - Starting the build.\n",
      "2022-09-05 15:23:10,438 - pocketoptimizer.preparation.structure_building - INFO - Finished building.\n",
      "2022-09-05 15:23:12,029 - pocketoptimizer.preparation.structure_building - INFO - Build mutation: A_44_THR.\n",
      "2022-09-05 15:23:12,487 - htmd.builder.amber - INFO - Detecting disulfide bonds.\n",
      "2022-09-05 15:23:12,795 - pocketoptimizer.preparation.structure_building - INFO - Starting the build.\n",
      "2022-09-05 15:23:13,203 - pocketoptimizer.preparation.structure_building - INFO - Finished building.\n",
      "2022-09-05 15:23:14,824 - pocketoptimizer.preparation.structure_building - INFO - Build mutation: B_84_ARG.\n",
      "2022-09-05 15:23:15,344 - htmd.builder.amber - INFO - Detecting disulfide bonds.\n",
      "2022-09-05 15:23:15,527 - pocketoptimizer.preparation.structure_building - INFO - Starting the build.\n",
      "2022-09-05 15:23:15,875 - pocketoptimizer.preparation.structure_building - INFO - Finished building.\n",
      "2022-09-05 15:23:17,483 - pocketoptimizer.preparation.structure_building - INFO - Build mutation: B_88_LEU.\n",
      "2022-09-05 15:23:18,016 - htmd.builder.amber - INFO - Detecting disulfide bonds.\n",
      "2022-09-05 15:23:18,239 - pocketoptimizer.preparation.structure_building - INFO - Starting the build.\n",
      "2022-09-05 15:23:18,601 - pocketoptimizer.preparation.structure_building - INFO - Finished building.\n",
      "2022-09-05 15:23:20,186 - pocketoptimizer.preparation.structure_building - INFO - Build mutation: B_88_THR.\n",
      "2022-09-05 15:23:20,759 - htmd.builder.amber - INFO - Detecting disulfide bonds.\n",
      "2022-09-05 15:23:20,945 - pocketoptimizer.preparation.structure_building - INFO - Starting the build.\n",
      "2022-09-05 15:23:21,269 - pocketoptimizer.preparation.structure_building - INFO - Finished building.\n",
      "2022-09-05 15:23:22,855 - pocketoptimizer.preparation.structure_building - INFO - Build mutation combination: A_44_LEU_B_84_ARG.\n",
      "2022-09-05 15:23:23,350 - htmd.builder.amber - INFO - Detecting disulfide bonds.\n",
      "2022-09-05 15:23:23,538 - pocketoptimizer.preparation.structure_building - INFO - Starting the build.\n",
      "2022-09-05 15:23:23,875 - pocketoptimizer.preparation.structure_building - INFO - Finished building.\n",
      "2022-09-05 15:23:25,413 - pocketoptimizer.preparation.structure_building - INFO - Build mutation combination: A_44_THR_B_84_ARG.\n",
      "2022-09-05 15:23:25,899 - htmd.builder.amber - INFO - Detecting disulfide bonds.\n",
      "2022-09-05 15:23:26,059 - pocketoptimizer.preparation.structure_building - INFO - Starting the build.\n",
      "2022-09-05 15:23:26,422 - pocketoptimizer.preparation.structure_building - INFO - Finished building.\n",
      "2022-09-05 15:23:28,023 - pocketoptimizer.preparation.structure_building - INFO - Build mutation combination: A_44_LEU_B_88_LEU.\n",
      "2022-09-05 15:23:28,449 - htmd.builder.amber - INFO - Detecting disulfide bonds.\n",
      "2022-09-05 15:23:29,109 - pocketoptimizer.preparation.structure_building - INFO - Starting the build.\n",
      "2022-09-05 15:23:29,505 - pocketoptimizer.preparation.structure_building - INFO - Finished building.\n",
      "2022-09-05 15:23:31,123 - pocketoptimizer.preparation.structure_building - INFO - Build mutation combination: A_44_LEU_B_88_THR.\n",
      "2022-09-05 15:23:31,605 - htmd.builder.amber - INFO - Detecting disulfide bonds.\n",
      "2022-09-05 15:23:31,780 - pocketoptimizer.preparation.structure_building - INFO - Starting the build.\n",
      "2022-09-05 15:23:32,092 - pocketoptimizer.preparation.structure_building - INFO - Finished building.\n",
      "2022-09-05 15:23:33,726 - pocketoptimizer.preparation.structure_building - INFO - Build mutation combination: A_44_THR_B_88_LEU.\n",
      "2022-09-05 15:23:34,217 - htmd.builder.amber - INFO - Detecting disulfide bonds.\n",
      "2022-09-05 15:23:34,405 - pocketoptimizer.preparation.structure_building - INFO - Starting the build.\n",
      "2022-09-05 15:23:34,704 - pocketoptimizer.preparation.structure_building - INFO - Finished building.\n",
      "2022-09-05 15:23:36,285 - pocketoptimizer.preparation.structure_building - INFO - Build mutation combination: A_44_THR_B_88_THR.\n",
      "2022-09-05 15:23:36,766 - htmd.builder.amber - INFO - Detecting disulfide bonds.\n",
      "2022-09-05 15:23:36,985 - pocketoptimizer.preparation.structure_building - INFO - Starting the build.\n",
      "2022-09-05 15:23:37,362 - pocketoptimizer.preparation.structure_building - INFO - Finished building.\n",
      "2022-09-05 15:23:38,917 - pocketoptimizer.preparation.structure_building - INFO - Build mutation combination: B_84_ARG_B_88_LEU.\n",
      "2022-09-05 15:23:39,397 - htmd.builder.amber - INFO - Detecting disulfide bonds.\n",
      "2022-09-05 15:23:39,556 - pocketoptimizer.preparation.structure_building - INFO - Starting the build.\n",
      "2022-09-05 15:23:39,846 - pocketoptimizer.preparation.structure_building - INFO - Finished building.\n",
      "2022-09-05 15:23:41,428 - pocketoptimizer.preparation.structure_building - INFO - Build mutation combination: B_84_ARG_B_88_THR.\n",
      "2022-09-05 15:23:41,858 - htmd.builder.amber - INFO - Detecting disulfide bonds.\n",
      "2022-09-05 15:23:42,204 - pocketoptimizer.preparation.structure_building - INFO - Starting the build.\n",
      "2022-09-05 15:23:42,530 - pocketoptimizer.preparation.structure_building - INFO - Finished building.\n",
      "2022-09-05 15:23:44,133 - pocketoptimizer.ui - INFO - Scaffold building done.\n"
     ]
    }
   ],
   "source": [
    "# Prepares all defined mutants and glycine scaffolds for side chain rotamer and ligand pose sampling\n",
    "design.prepare_mutants(sampling_pocket='GLY')"
   ]
  },
  {
   "cell_type": "code",
   "execution_count": 8,
   "id": "59578900",
   "metadata": {},
   "outputs": [
    {
     "name": "stderr",
     "output_type": "stream",
     "text": [
      "2022-09-05 15:23:45,982 - pocketoptimizer.sampling.sidechain_rotamers_ffev - INFO - Start rotamer sampling procedure using FFEvaluate.\n",
      "2022-09-05 15:23:45,983 - pocketoptimizer.sampling.sidechain_rotamers_ffev - INFO - Using 8 CPU's for multiprocessing.\n",
      "2022-09-05 15:23:46,802 - pocketoptimizer.sampling.sidechain_rotamers_ffev - INFO - Rotamers for residue: A_44_LEU not sampled yet.\n"
     ]
    },
    {
     "data": {
      "application/vnd.jupyter.widget-view+json": {
       "model_id": "63335e4044ec4053ae0330c234fa6384",
       "version_major": 2,
       "version_minor": 0
      },
      "text/plain": [
       "A_44_LEU:   0%|          | 0/64 [00:00<?, ?it/s]"
      ]
     },
     "metadata": {},
     "output_type": "display_data"
    },
    {
     "name": "stderr",
     "output_type": "stream",
     "text": [
      "2022-09-05 15:23:57,879 - pocketoptimizer.sampling.sidechain_rotamers_ffev - INFO - Writing 27/64 rotamers within energy threshold of 100 kcal/mol for LEU at position: A_44.\n",
      "2022-09-05 15:23:57,895 - pocketoptimizer.sampling.sidechain_rotamers_ffev - INFO - Rotamers for residue: A_44_THR not sampled yet.\n"
     ]
    },
    {
     "data": {
      "application/vnd.jupyter.widget-view+json": {
       "model_id": "910bf87f5ebd47d38d885f84c02d578f",
       "version_major": 2,
       "version_minor": 0
      },
      "text/plain": [
       "A_44_THR:   0%|          | 0/10 [00:00<?, ?it/s]"
      ]
     },
     "metadata": {},
     "output_type": "display_data"
    },
    {
     "name": "stderr",
     "output_type": "stream",
     "text": [
      "2022-09-05 15:24:05,629 - pocketoptimizer.sampling.sidechain_rotamers_ffev - INFO - Writing 6/10 rotamers within energy threshold of 100 kcal/mol for THR at position: A_44.\n",
      "2022-09-05 15:24:05,639 - pocketoptimizer.sampling.sidechain_rotamers_ffev - INFO - Rotamers for residue: B_84_ARG not sampled yet.\n"
     ]
    },
    {
     "data": {
      "application/vnd.jupyter.widget-view+json": {
       "model_id": "d21f35224d134c1eb19f84d18518fac2",
       "version_major": 2,
       "version_minor": 0
      },
      "text/plain": [
       "B_84_ARG:   0%|          | 0/370 [00:00<?, ?it/s]"
      ]
     },
     "metadata": {},
     "output_type": "display_data"
    },
    {
     "name": "stderr",
     "output_type": "stream",
     "text": [
      "2022-09-05 15:24:34,705 - pocketoptimizer.sampling.sidechain_rotamers_ffev - INFO - Writing 328/370 rotamers within energy threshold of 100 kcal/mol for ARG at position: B_84.\n",
      "2022-09-05 15:24:34,750 - pocketoptimizer.sampling.sidechain_rotamers_ffev - INFO - Rotamers for residue: B_88_LEU not sampled yet.\n"
     ]
    },
    {
     "data": {
      "application/vnd.jupyter.widget-view+json": {
       "model_id": "ed652c079d3f4e0891ceae3309eab2a4",
       "version_major": 2,
       "version_minor": 0
      },
      "text/plain": [
       "B_88_LEU:   0%|          | 0/55 [00:00<?, ?it/s]"
      ]
     },
     "metadata": {},
     "output_type": "display_data"
    },
    {
     "name": "stderr",
     "output_type": "stream",
     "text": [
      "2022-09-05 15:24:44,744 - pocketoptimizer.sampling.sidechain_rotamers_ffev - INFO - Writing 23/55 rotamers within energy threshold of 100 kcal/mol for LEU at position: B_88.\n",
      "2022-09-05 15:24:44,755 - pocketoptimizer.sampling.sidechain_rotamers_ffev - INFO - Rotamers for residue: B_88_THR not sampled yet.\n"
     ]
    },
    {
     "data": {
      "application/vnd.jupyter.widget-view+json": {
       "model_id": "a6bc106282784bf8b026c16288730fdf",
       "version_major": 2,
       "version_minor": 0
      },
      "text/plain": [
       "B_88_THR:   0%|          | 0/10 [00:00<?, ?it/s]"
      ]
     },
     "metadata": {},
     "output_type": "display_data"
    },
    {
     "name": "stderr",
     "output_type": "stream",
     "text": [
      "2022-09-05 15:24:52,895 - pocketoptimizer.sampling.sidechain_rotamers_ffev - INFO - Writing 6/10 rotamers within energy threshold of 100 kcal/mol for THR at position: B_88.\n",
      "2022-09-05 15:24:52,912 - pocketoptimizer.sampling.sidechain_rotamers_ffev - INFO - Rotamer sampling procedure is finished.\n"
     ]
    }
   ],
   "source": [
    "ncpus = 8\n",
    "# Sampling of side chain rotamers\n",
    "design.sample_sidechain_rotamers(\n",
    "    vdw_filter_thresh=100,   # Energy threshold of 100 kcal/mol\n",
    "    library='dunbrack'       # Use dunbrack rotamer library\n",
    "    )"
   ]
  },
  {
   "cell_type": "code",
   "execution_count": 9,
   "id": "b983bed0",
   "metadata": {},
   "outputs": [
    {
     "name": "stderr",
     "output_type": "stream",
     "text": [
      "2022-09-05 15:24:52,970 - pocketoptimizer.ui - INFO - Sample ligand poses.\n",
      "2022-09-05 15:24:52,972 - pocketoptimizer.sampling.ligand_poses - INFO - Start ligand pose sampling procedure.\n",
      "2022-09-05 15:24:54,389 - pocketoptimizer.sampling.ligand_poses - INFO - Generate possible poses within the defined grid.\n"
     ]
    },
    {
     "data": {
      "application/vnd.jupyter.widget-view+json": {
       "model_id": "452f344a863b4a318731d05bf5d1d886",
       "version_major": 2,
       "version_minor": 0
      },
      "text/plain": [
       "Ligand Conformers:   0%|          | 0/51 [00:00<?, ?it/s]"
      ]
     },
     "metadata": {},
     "output_type": "display_data"
    },
    {
     "name": "stderr",
     "output_type": "stream",
     "text": [
      "2022-09-05 15:24:54,474 - pocketoptimizer.sampling.ligand_poses - INFO - Created possible 4641 poses.\n",
      "2022-09-05 15:24:54,474 - pocketoptimizer.sampling.ligand_poses - INFO - Start filtering poses.\n",
      "2022-09-05 15:24:54,475 - pocketoptimizer.sampling.ligand_poses - INFO - Using 8 CPUs for multiprocessing.\n"
     ]
    },
    {
     "data": {
      "application/vnd.jupyter.widget-view+json": {
       "model_id": "65b63498f1ae40b5a713e636f92fa504",
       "version_major": 2,
       "version_minor": 0
      },
      "text/plain": [
       "Filter Poses:   0%|          | 0/4641 [00:00<?, ?it/s]"
      ]
     },
     "metadata": {},
     "output_type": "display_data"
    },
    {
     "name": "stderr",
     "output_type": "stream",
     "text": [
      "2022-09-05 15:27:24,079 - pocketoptimizer.sampling.ligand_poses - INFO - Calculated 1099 poses within energy threshold of 100 kcal/mol.\n",
      "2022-09-05 15:27:24,117 - pocketoptimizer.sampling.ligand_poses - INFO - Pose sampling procedure was successful.\n"
     ]
    }
   ],
   "source": [
    "# Sampling of ligand poses\n",
    "# Defines a grid in which the ligand is translated and rotated along.\n",
    "#                       Range, Steps\n",
    "sample_grid = {'trans': [1, 0.5],  # Angstrom\n",
    "               'rot': [20, 20]}    # Degree\n",
    "design.sample_lig_poses(\n",
    "    method='grid',         #  Uses the grid method. Other option is random\n",
    "    grid=sample_grid,      #  Defined grid for sampling    \n",
    "    vdw_filter_thresh=100, #  Energy threshold of 100 kcal/mol\n",
    "    max_poses=10000        #  Maximum number of poses\n",
    ")"
   ]
  },
  {
   "cell_type": "code",
   "execution_count": 10,
   "id": "bb7a35d1",
   "metadata": {
    "tags": []
   },
   "outputs": [
    {
     "name": "stderr",
     "output_type": "stream",
     "text": [
      "2022-09-05 15:27:24,208 - pocketoptimizer.ui - INFO - Start energy calculations.\n",
      "2022-09-05 15:27:24,208 - pocketoptimizer.ui - INFO - Using 8 CPUs for multiprocessing.\n",
      "2022-09-05 15:27:24,209 - pocketoptimizer.ui - INFO - Calculate Sidechain-Scaffold Energies.\n",
      "2022-09-05 15:27:24,210 - pocketoptimizer.scoring.sidechain_scaffold_energies - INFO - Compute energies using forcefield: amber_ff14SB.\n",
      "2022-09-05 15:27:24,289 - pocketoptimizer.scoring.sidechain_scaffold_energies - INFO - Sidechain-Scaffold/Self interaction energy for residue: A_44_LEU not computed yet.\n"
     ]
    },
    {
     "data": {
      "application/vnd.jupyter.widget-view+json": {
       "model_id": "9ba046f736734a788d784349ccf6daaa",
       "version_major": 2,
       "version_minor": 0
      },
      "text/plain": [
       "  0%|          | 0/27 [00:00<?, ?it/s]"
      ]
     },
     "metadata": {},
     "output_type": "display_data"
    },
    {
     "name": "stderr",
     "output_type": "stream",
     "text": [
      "2022-09-05 15:27:32,174 - pocketoptimizer.scoring.sidechain_scaffold_energies - INFO - Sidechain-Scaffold/Self interaction energy for residue: A_44_THR not computed yet.\n"
     ]
    },
    {
     "data": {
      "application/vnd.jupyter.widget-view+json": {
       "model_id": "e9cc46ba25c741859af598cce52bc85a",
       "version_major": 2,
       "version_minor": 0
      },
      "text/plain": [
       "  0%|          | 0/6 [00:00<?, ?it/s]"
      ]
     },
     "metadata": {},
     "output_type": "display_data"
    },
    {
     "name": "stderr",
     "output_type": "stream",
     "text": [
      "2022-09-05 15:27:39,669 - pocketoptimizer.scoring.sidechain_scaffold_energies - INFO - Sidechain-Scaffold/Self interaction energy for residue: B_84_ARG not computed yet.\n"
     ]
    },
    {
     "data": {
      "application/vnd.jupyter.widget-view+json": {
       "model_id": "c9244d2f76844a53bb2f768548515c83",
       "version_major": 2,
       "version_minor": 0
      },
      "text/plain": [
       "  0%|          | 0/328 [00:00<?, ?it/s]"
      ]
     },
     "metadata": {},
     "output_type": "display_data"
    },
    {
     "name": "stderr",
     "output_type": "stream",
     "text": [
      "2022-09-05 15:27:56,723 - pocketoptimizer.scoring.sidechain_scaffold_energies - INFO - Sidechain-Scaffold/Self interaction energy for residue: B_88_LEU not computed yet.\n"
     ]
    },
    {
     "data": {
      "application/vnd.jupyter.widget-view+json": {
       "model_id": "4df952e172204d0ba50c81198eadf933",
       "version_major": 2,
       "version_minor": 0
      },
      "text/plain": [
       "  0%|          | 0/23 [00:00<?, ?it/s]"
      ]
     },
     "metadata": {},
     "output_type": "display_data"
    },
    {
     "name": "stderr",
     "output_type": "stream",
     "text": [
      "2022-09-05 15:28:04,455 - pocketoptimizer.scoring.sidechain_scaffold_energies - INFO - Sidechain-Scaffold/Self interaction energy for residue: B_88_THR not computed yet.\n"
     ]
    },
    {
     "data": {
      "application/vnd.jupyter.widget-view+json": {
       "model_id": "b9bce4a5ade04f2ab30f90080f18b8ce",
       "version_major": 2,
       "version_minor": 0
      },
      "text/plain": [
       "  0%|          | 0/6 [00:00<?, ?it/s]"
      ]
     },
     "metadata": {},
     "output_type": "display_data"
    },
    {
     "name": "stderr",
     "output_type": "stream",
     "text": [
      "2022-09-05 15:28:11,312 - pocketoptimizer.scoring.sidechain_scaffold_energies - INFO - Sidechain-Scaffold/Self calculation was successful.\n",
      "2022-09-05 15:28:11,313 - pocketoptimizer.ui - INFO - Calculate Sidechain-Pair Energies.\n",
      "2022-09-05 15:28:11,314 - pocketoptimizer.scoring.sidechain_pair_energies - INFO - Compute energies using forcefield: amber_ff14SB.\n",
      "2022-09-05 15:28:11,900 - pocketoptimizer.scoring.sidechain_pair_energies - INFO - Sidechain-Sidechain interaction energy for residue pair: A_44_LEU/B_84_ARG not computed yet.\n"
     ]
    },
    {
     "data": {
      "application/vnd.jupyter.widget-view+json": {
       "model_id": "80c01706d80243d0865c8fb40b923621",
       "version_major": 2,
       "version_minor": 0
      },
      "text/plain": [
       "  0%|          | 0/8856 [00:00<?, ?it/s]"
      ]
     },
     "metadata": {},
     "output_type": "display_data"
    },
    {
     "name": "stderr",
     "output_type": "stream",
     "text": [
      "2022-09-05 15:31:04,669 - pocketoptimizer.scoring.sidechain_pair_energies - INFO - Sidechain-Sidechain interaction energy for residue pair: A_44_THR/B_84_ARG not computed yet.\n"
     ]
    },
    {
     "data": {
      "application/vnd.jupyter.widget-view+json": {
       "model_id": "bc8cd1a4fc4b4931b2b4cd1bdc5ed52a",
       "version_major": 2,
       "version_minor": 0
      },
      "text/plain": [
       "  0%|          | 0/1968 [00:00<?, ?it/s]"
      ]
     },
     "metadata": {},
     "output_type": "display_data"
    },
    {
     "name": "stderr",
     "output_type": "stream",
     "text": [
      "2022-09-05 15:31:44,916 - pocketoptimizer.scoring.sidechain_pair_energies - INFO - Sidechain-Sidechain interaction energy for residue pair: A_44_LEU/B_88_LEU not computed yet.\n"
     ]
    },
    {
     "data": {
      "application/vnd.jupyter.widget-view+json": {
       "model_id": "43ee29396c754bfba83628383dda0a34",
       "version_major": 2,
       "version_minor": 0
      },
      "text/plain": [
       "  0%|          | 0/621 [00:00<?, ?it/s]"
      ]
     },
     "metadata": {},
     "output_type": "display_data"
    },
    {
     "name": "stderr",
     "output_type": "stream",
     "text": [
      "2022-09-05 15:32:05,307 - pocketoptimizer.scoring.sidechain_pair_energies - INFO - Sidechain-Sidechain interaction energy for residue pair: A_44_LEU/B_88_THR not computed yet.\n"
     ]
    },
    {
     "data": {
      "application/vnd.jupyter.widget-view+json": {
       "model_id": "c04aecc228ea4d898095c30714a974eb",
       "version_major": 2,
       "version_minor": 0
      },
      "text/plain": [
       "  0%|          | 0/162 [00:00<?, ?it/s]"
      ]
     },
     "metadata": {},
     "output_type": "display_data"
    },
    {
     "name": "stderr",
     "output_type": "stream",
     "text": [
      "2022-09-05 15:32:15,996 - pocketoptimizer.scoring.sidechain_pair_energies - INFO - Sidechain-Sidechain interaction energy for residue pair: A_44_THR/B_88_LEU not computed yet.\n"
     ]
    },
    {
     "data": {
      "application/vnd.jupyter.widget-view+json": {
       "model_id": "a8749feaa098409fb66a94ac00abee92",
       "version_major": 2,
       "version_minor": 0
      },
      "text/plain": [
       "  0%|          | 0/138 [00:00<?, ?it/s]"
      ]
     },
     "metadata": {},
     "output_type": "display_data"
    },
    {
     "name": "stderr",
     "output_type": "stream",
     "text": [
      "2022-09-05 15:32:25,815 - pocketoptimizer.scoring.sidechain_pair_energies - INFO - Sidechain-Sidechain interaction energy for residue pair: A_44_THR/B_88_THR not computed yet.\n"
     ]
    },
    {
     "data": {
      "application/vnd.jupyter.widget-view+json": {
       "model_id": "bfc95c2aef3a4546b6004e63b352a1f9",
       "version_major": 2,
       "version_minor": 0
      },
      "text/plain": [
       "  0%|          | 0/36 [00:00<?, ?it/s]"
      ]
     },
     "metadata": {},
     "output_type": "display_data"
    },
    {
     "name": "stderr",
     "output_type": "stream",
     "text": [
      "2022-09-05 15:32:34,167 - pocketoptimizer.scoring.sidechain_pair_energies - INFO - Sidechain-Sidechain interaction energy for residue pair: B_84_ARG/B_88_LEU not computed yet.\n"
     ]
    },
    {
     "data": {
      "application/vnd.jupyter.widget-view+json": {
       "model_id": "5a2c71f8759741d599aef6f4ae347193",
       "version_major": 2,
       "version_minor": 0
      },
      "text/plain": [
       "  0%|          | 0/7544 [00:00<?, ?it/s]"
      ]
     },
     "metadata": {},
     "output_type": "display_data"
    },
    {
     "name": "stderr",
     "output_type": "stream",
     "text": [
      "2022-09-05 15:35:03,583 - pocketoptimizer.scoring.sidechain_pair_energies - INFO - Sidechain-Sidechain interaction energy for residue pair: B_84_ARG/B_88_THR not computed yet.\n"
     ]
    },
    {
     "data": {
      "application/vnd.jupyter.widget-view+json": {
       "model_id": "71d388cc0d9c45c8b6dc81315f57272f",
       "version_major": 2,
       "version_minor": 0
      },
      "text/plain": [
       "  0%|          | 0/1968 [00:00<?, ?it/s]"
      ]
     },
     "metadata": {},
     "output_type": "display_data"
    },
    {
     "name": "stderr",
     "output_type": "stream",
     "text": [
      "2022-09-05 15:35:44,059 - pocketoptimizer.scoring.sidechain_pair_energies - INFO - Sidechain-Pair calculation was successful.\n",
      "2022-09-05 15:35:44,061 - pocketoptimizer.ui - INFO - Calculate Ligand-Scaffold/Sidechain-Interaction-Energies.\n",
      "2022-09-05 15:35:44,062 - pocketoptimizer.scoring.smina_scorer - INFO - Score ligand interactions using vina.\n",
      "2022-09-05 15:35:45,399 - pocketoptimizer.scoring.smina_scorer - INFO - Ligand-Scaffold/Self interaction energy not computed yet.\n",
      "2022-09-05 15:35:45,400 - pocketoptimizer.scoring.smina_scorer - INFO - Prepare fixed scaffold.\n"
     ]
    },
    {
     "data": {
      "application/vnd.jupyter.widget-view+json": {
       "model_id": "833c8c396cd34734a600ab5ec7eb0cf0",
       "version_major": 2,
       "version_minor": 0
      },
      "text/plain": [
       "Ligand/Scaffold:   0%|          | 0/1 [00:00<?, ?it/s]"
      ]
     },
     "metadata": {},
     "output_type": "display_data"
    },
    {
     "name": "stderr",
     "output_type": "stream",
     "text": [
      "2022-09-05 15:35:47,751 - pocketoptimizer.scoring.smina_scorer - INFO - Ligand-Sidechain interaction energy for residue: A_44_LEU not computed yet.\n",
      "2022-09-05 15:35:47,886 - pocketoptimizer.scoring.smina_scorer - INFO - Loop over rotamers of residue: A_44_LEU.\n"
     ]
    },
    {
     "data": {
      "application/vnd.jupyter.widget-view+json": {
       "model_id": "17b143ce96524c2894c561838aa3b2e3",
       "version_major": 2,
       "version_minor": 0
      },
      "text/plain": [
       "Ligand/A_44_LEU:   0%|          | 0/27 [00:00<?, ?it/s]"
      ]
     },
     "metadata": {},
     "output_type": "display_data"
    },
    {
     "name": "stderr",
     "output_type": "stream",
     "text": [
      "2022-09-05 15:36:13,368 - pocketoptimizer.scoring.smina_scorer - INFO - Ligand-Sidechain interaction energy for residue: A_44_THR not computed yet.\n",
      "2022-09-05 15:36:13,411 - pocketoptimizer.scoring.smina_scorer - INFO - Loop over rotamers of residue: A_44_THR.\n"
     ]
    },
    {
     "data": {
      "application/vnd.jupyter.widget-view+json": {
       "model_id": "e6878651fd3f4021872017c8f6ddbc76",
       "version_major": 2,
       "version_minor": 0
      },
      "text/plain": [
       "Ligand/A_44_THR:   0%|          | 0/6 [00:00<?, ?it/s]"
      ]
     },
     "metadata": {},
     "output_type": "display_data"
    },
    {
     "name": "stderr",
     "output_type": "stream",
     "text": [
      "2022-09-05 15:36:18,936 - pocketoptimizer.scoring.smina_scorer - INFO - Ligand-Sidechain interaction energy for residue: B_84_ARG not computed yet.\n",
      "2022-09-05 15:36:19,736 - pocketoptimizer.scoring.smina_scorer - INFO - Loop over rotamers of residue: B_84_ARG.\n"
     ]
    },
    {
     "data": {
      "application/vnd.jupyter.widget-view+json": {
       "model_id": "51dc4ad50f224517b710ca2c41a6745b",
       "version_major": 2,
       "version_minor": 0
      },
      "text/plain": [
       "Ligand/B_84_ARG:   0%|          | 0/328 [00:00<?, ?it/s]"
      ]
     },
     "metadata": {},
     "output_type": "display_data"
    },
    {
     "name": "stderr",
     "output_type": "stream",
     "text": [
      "2022-09-05 15:41:17,807 - pocketoptimizer.scoring.smina_scorer - INFO - Ligand-Sidechain interaction energy for residue: B_88_LEU not computed yet.\n",
      "2022-09-05 15:41:17,942 - pocketoptimizer.scoring.smina_scorer - INFO - Loop over rotamers of residue: B_88_LEU.\n"
     ]
    },
    {
     "data": {
      "application/vnd.jupyter.widget-view+json": {
       "model_id": "9f997269df39432689bbe9c00e5a22be",
       "version_major": 2,
       "version_minor": 0
      },
      "text/plain": [
       "Ligand/B_88_LEU:   0%|          | 0/23 [00:00<?, ?it/s]"
      ]
     },
     "metadata": {},
     "output_type": "display_data"
    },
    {
     "name": "stderr",
     "output_type": "stream",
     "text": [
      "2022-09-05 15:41:38,657 - pocketoptimizer.scoring.smina_scorer - INFO - Ligand-Sidechain interaction energy for residue: B_88_THR not computed yet.\n",
      "2022-09-05 15:41:38,697 - pocketoptimizer.scoring.smina_scorer - INFO - Loop over rotamers of residue: B_88_THR.\n"
     ]
    },
    {
     "data": {
      "application/vnd.jupyter.widget-view+json": {
       "model_id": "1ac5d39a04f44fb29662e234b09a8105",
       "version_major": 2,
       "version_minor": 0
      },
      "text/plain": [
       "Ligand/B_88_THR:   0%|          | 0/6 [00:00<?, ?it/s]"
      ]
     },
     "metadata": {},
     "output_type": "display_data"
    },
    {
     "name": "stderr",
     "output_type": "stream",
     "text": [
      "2022-09-05 15:41:44,169 - pocketoptimizer.scoring.smina_scorer - INFO - Ligand scoring was successful.\n",
      "2022-09-05 15:41:44,170 - pocketoptimizer.ui - INFO - Energy calculation was successful.\n"
     ]
    }
   ],
   "source": [
    "design.calculate_energies(\n",
    "    scoring='vina',           #  Method to score protein-ligand interaction\n",
    ")"
   ]
  },
  {
   "cell_type": "code",
   "execution_count": 12,
   "id": "d7d2cd60",
   "metadata": {
    "tags": []
   },
   "outputs": [
    {
     "name": "stderr",
     "output_type": "stream",
     "text": [
      "2022-09-05 15:45:02,633 - pocketoptimizer.solving.sontag_solver - INFO - Calculating Solutions.\n"
     ]
    },
    {
     "data": {
      "application/vnd.jupyter.widget-view+json": {
       "model_id": "f9e7b6b26e9248dfab135c125c568ecd",
       "version_major": 2,
       "version_minor": 0
      },
      "text/plain": [
       "Solutions:   0%|          | 0/10 [00:00<?, ?it/s]"
      ]
     },
     "metadata": {},
     "output_type": "display_data"
    },
    {
     "name": "stderr",
     "output_type": "stream",
     "text": [
      "2022-09-05 15:45:59,013 - pocketoptimizer.ui - INFO - Parse calculated solutions.\n",
      "2022-09-05 15:45:59,417 - pocketoptimizer.ui - INFO - Read 10 solution(s) from solver output.\n",
      "2022-09-05 15:46:03,293 - pocketoptimizer.ui - INFO - Write text report.\n",
      "2022-09-05 15:46:03,339 - pocketoptimizer.ui - INFO - Wrote solution report text file(s).\n",
      "2022-09-05 15:46:03,342 - pocketoptimizer.ui - INFO - Wrote summary text file.\n",
      "2022-09-05 15:46:03,342 - pocketoptimizer.ui - INFO - Write html report.\n",
      "2022-09-05 15:46:03,421 - pocketoptimizer.ui - INFO - Wrote solution report html file(s).\n",
      "2022-09-05 15:46:03,423 - pocketoptimizer.design.html_reporter - INFO - Create energy plot.\n",
      "2022-09-05 15:46:03,792 - pocketoptimizer.design.html_reporter - INFO - Create sequence logo for mutable positions.\n"
     ]
    },
    {
     "data": {
      "image/png": "[encoded data removed]",
      "text/plain": [
       "<IPython.core.display.Image object>"
      ]
     },
     "metadata": {},
     "output_type": "display_data"
    },
    {
     "name": "stderr",
     "output_type": "stream",
     "text": [
      "2022-09-05 15:46:04,235 - pocketoptimizer.ui - INFO - Wrote summary html file.\n",
      "2022-09-05 15:46:04,236 - pocketoptimizer.ui - INFO - Creating design structure files.\n",
      "2022-09-05 15:46:04,237 - pocketoptimizer.ui - INFO - Create Structures.\n",
      "2022-09-05 15:46:14,087 - pocketoptimizer.ui - INFO - Creating PyMol scripts.\n",
      "2022-09-05 15:46:14,106 - pocketoptimizer.ui - INFO - 10 best design solution(s) for design with forcefield: amber_ff14SB, scoring method: vina and ligand scaling: 5 identified.\n"
     ]
    },
    {
     "data": {
      "image/png": "[encoded data removed]",
      "text/plain": [
       "<Figure size 640x480 with 1 Axes>"
      ]
     },
     "metadata": {},
     "output_type": "display_data"
    }
   ],
   "source": [
    "# Compute the lowest energy structures using linear programming\n",
    "design.design(\n",
    "    num_solutions=10,           #  Number of solutions to compute\n",
    "    ligand_scaling=5,          #  Scaling factor for binding-related energies\n",
    ")"
   ]
  },
  {
   "cell_type": "code",
   "execution_count": 14,
   "id": "a4510d5f-c706-4cf7-825e-45556ec12d2b",
   "metadata": {},
   "outputs": [
    {
     "name": "stderr",
     "output_type": "stream",
     "text": [
      "2022-09-05 15:21:53,338 - pocketoptimizer.ui - INFO - All scaffold files are deleted.\n",
      "2022-09-05 15:21:53,654 - pocketoptimizer.ui - INFO - All ligand files are deleted.\n",
      "2022-09-05 15:21:53,786 - pocketoptimizer.ui - INFO - Deleted settings file.\n",
      "2022-09-05 15:21:53,791 - pocketoptimizer.ui - INFO - Deleted log file.\n",
      "2022-09-05 15:21:53,792 - pocketoptimizer.ui - INFO - All files were deleted.\n",
      "2022-09-05 15:21:53,794 - pocketoptimizer.ui - INFO - Initialize a new DesignPipeline.\n"
     ]
    }
   ],
   "source": [
    "# Do not run this unless you wanna fully clean your working directory from all created files and folders\n",
    "design.clean(scaffold=True, ligand=True)"
   ]
  },
  {
   "cell_type": "code",
   "execution_count": null,
   "id": "6e8ac38d-0f89-42c1-84c8-d8073419cb19",
   "metadata": {},
   "outputs": [],
   "source": []
  }
 ],
 "metadata": {
  "kernelspec": {
   "display_name": "pocketoptimizer",
   "language": "python",
   "name": "pocketoptimizer"
  },
  "language_info": {
   "codemirror_mode": {
    "name": "ipython",
    "version": 3
   },
   "file_extension": ".py",
   "mimetype": "text/x-python",
   "name": "python",
   "nbconvert_exporter": "python",
   "pygments_lexer": "ipython3",
   "version": "3.9.13"
  }
 },
 "nbformat": 4,
 "nbformat_minor": 5
}
