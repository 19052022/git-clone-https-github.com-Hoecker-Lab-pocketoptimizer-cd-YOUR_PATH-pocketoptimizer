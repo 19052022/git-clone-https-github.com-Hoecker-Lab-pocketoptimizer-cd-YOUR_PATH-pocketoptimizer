{
 "cells": [
  {
   "cell_type": "markdown",
   "id": "f3d596fc-7ec4-4d0f-9f59-cfd55ab994a7",
   "metadata": {},
   "source": [
    "## TrpR_IAA"
   ]
  },
  {
   "cell_type": "markdown",
   "id": "621603ed-1568-4797-8914-3ddd9456a93c",
   "metadata": {},
   "source": [
    "Exemplary design of the trpytophane repressor (PDB: 1ZT9) with the ligand indole-3-acetic acid (IAA)."
   ]
  },
  {
   "cell_type": "code",
   "execution_count": 1,
   "id": "d23d8c90",
   "metadata": {},
   "outputs": [],
   "source": [
    "# This is a comment. It's marked by a leading \"#\" symbol\n",
    "\n",
    "# Import OS and system libraries\n",
    "import sys\n",
    "import os\n",
    "import logging\n",
    "\n",
    "# Append the pocketoptimizer code to your $PYTHONPATH\n",
    "cwd = os.getcwd()\n",
    "po_dir = os.path.abspath(os.path.join(cwd, '..'))\n",
    "project_dir = os.path.join(cwd, 'TrpR_IAA')\n",
    "if not po_dir in sys.path:\n",
    "    sys.path.insert(0, po_dir)\n",
    "\n",
    "# Import Pocketoptimizer\n",
    "import pocketoptimizer as po\n",
    "\n",
    "# Remove most warnings, only show Errors\n",
    "import warnings\n",
    "warnings.simplefilter(action='ignore', category=FutureWarning)\n",
    "warnings.simplefilter(action='ignore', category=DeprecationWarning)"
   ]
  },
  {
   "cell_type": "code",
   "execution_count": 2,
   "id": "20beea30",
   "metadata": {},
   "outputs": [
    {
     "name": "stderr",
     "output_type": "stream",
     "text": [
      "2022-10-25 15:11:55,877 - pocketoptimizer.ui - INFO - Logging to: /agh/projects/jakob/PycharmProjects/PocketOptimizer2/docs/tutorials/TrpR_IAA/pocketoptimizer.log\n"
     ]
    }
   ],
   "source": [
    "# Initialize a new design pipeline\n",
    "design = po.DesignPipeline(work_dir=project_dir,         # Path to working directory containing scaffold and ligand subdirectory\n",
    "                           ph=7,                         # pH used for protein and ligand protonation\n",
    "                           forcefield='amber_ff14SB',    # forcefield used for all energy computations (Use Amber as it is better tested!)\n",
    "                           intra=False,                  # Whether to score intramolecular energies or not (Experimental, should be turned off!)\n",
    "                           elec=0.01,                    # Scaling factor for electrostatic energies (1 %, you might want to increase that!)\n",
    "                           ncpus=8)                      # Number of CPUs for multiprocessing"
   ]
  },
  {
   "cell_type": "markdown",
   "id": "55fca39b-aa2a-4752-bc42-7182d31b7012",
   "metadata": {},
   "source": [
    "### From now on you are inside the directory of your design!"
   ]
  },
  {
   "cell_type": "code",
   "execution_count": 3,
   "id": "a4513f1b",
   "metadata": {},
   "outputs": [
    {
     "name": "stderr",
     "output_type": "stream",
     "text": [
      "2022-10-25 15:12:11,719 - numexpr.utils - INFO - Note: NumExpr detected 16 cores but \"NUMEXPR_MAX_THREADS\" not set, so enforcing safe limit of 8.\n",
      "2022-10-25 15:12:11,720 - numexpr.utils - INFO - NumExpr defaulting to 8 threads.\n",
      "beignet-opencl-icd: no supported GPU found, this is probably the wrong opencl-icd package for this hardware\n",
      "(If you have multiple ICDs installed and OpenCL works, you can ignore this message)\n",
      "beignet-opencl-icd: no supported GPU found, this is probably the wrong opencl-icd package for this hardware\n",
      "(If you have multiple ICDs installed and OpenCL works, you can ignore this message)\n",
      "2022-10-25 15:12:12,345 - root - WARNING - Warning: importing 'simtk.openmm' is deprecated.  Import 'openmm' instead.\n",
      "2022-10-25 15:12:12,838 - pocketoptimizer.preparation.structure_building - INFO - Adding hydrogen atoms to the ligand according to pH: 7.\n",
      "2022-10-25 15:12:19,086 - pocketoptimizer.preparation.structure_building - INFO - Parameterize ligand for GAFF2.\n",
      "2022-10-25 15:12:20,823 - pocketoptimizer.preparation.structure_building - INFO - Ligand parametrization was successful.\n"
     ]
    }
   ],
   "source": [
    "# Prepare ligand\n",
    "design.parameterize_ligand(input_ligand='ligand/IAA.sdf',  # Input ligand structure file could be .mol2/.sdf\n",
    "                           addHs=True                      # Whether to add hydrogen atoms to the input structure\n",
    "                           )"
   ]
  },
  {
   "cell_type": "code",
   "execution_count": 4,
   "id": "6358191d",
   "metadata": {},
   "outputs": [
    {
     "name": "stderr",
     "output_type": "stream",
     "text": [
      "2022-10-25 15:12:29,819 - pocketoptimizer.ui - INFO - Start Protein Preparation.\n",
      "2022-10-25 15:12:29,828 - pocketoptimizer.preparation.structure_building - INFO - Starting protein preparation.\n",
      "2022-10-25 15:12:30,255 - pocketoptimizer.preparation.structure_building - INFO - Protonate protein according to pH: 7.\n",
      "2022-10-25 15:12:30,446 - moleculekit.tools.preparation - WARNING - Both chains and segments are defined in Molecule.chain / Molecule.segid, however they are inconsistent. Protein preparation will use the chain information.\n"
     ]
    },
    {
     "name": "stdout",
     "output_type": "stream",
     "text": [
      "\n",
      "---- Molecule chain report ----\n",
      "Chain A:\n",
      "    First residue: SER     5  \n",
      "    Final residue: LEU   105  \n",
      "Chain B:\n",
      "    First residue: SER     5  \n",
      "    Final residue: TRP   901  \n",
      "---- End of chain report ----\n",
      "\n"
     ]
    },
    {
     "name": "stderr",
     "output_type": "stream",
     "text": [
      "2022-10-25 15:12:32,435 - moleculekit.tools.preparation - INFO - Modified residue HIS    16 A to HID\n",
      "2022-10-25 15:12:32,436 - moleculekit.tools.preparation - INFO - Modified residue HIS    35 A to HID\n",
      "2022-10-25 15:12:32,437 - moleculekit.tools.preparation - INFO - Modified residue HIS    16 B to HID\n",
      "2022-10-25 15:12:32,437 - moleculekit.tools.preparation - INFO - Modified residue HIS    35 B to HID\n",
      "2022-10-25 15:12:32,438 - moleculekit.tools.preparation - WARNING - Dubious protonation state: the pKa of 2 residues is within 1.0 units of pH 7.0.\n",
      "2022-10-25 15:12:32,439 - moleculekit.tools.preparation - WARNING - Dubious protonation state:    HIS    16 A (pKa= 6.16)\n",
      "2022-10-25 15:12:32,441 - moleculekit.tools.preparation - WARNING - Dubious protonation state:    HIS    16 B (pKa= 6.24)\n",
      "2022-10-25 15:12:33,218 - pocketoptimizer.preparation.structure_building - INFO - Successfully prepared protein structure.\n",
      "2022-10-25 15:12:33,219 - pocketoptimizer.ui - INFO - Building complex.\n",
      "2022-10-25 15:12:33,423 - pocketoptimizer.preparation.structure_building - INFO - Build native complex.\n",
      "2022-10-25 15:12:33,757 - htmd.builder.amber - INFO - Detecting disulfide bonds.\n",
      "2022-10-25 15:12:34,038 - pocketoptimizer.preparation.structure_building - INFO - Starting the build.\n",
      "2022-10-25 15:12:34,372 - pocketoptimizer.preparation.structure_building - INFO - Finished building.\n",
      "2022-10-25 15:12:39,488 - pocketoptimizer.preparation.structure_building - INFO - Starting potential energy: -613.4546210147889 kcal/mol.\n",
      "2022-10-25 15:13:04,444 - pocketoptimizer.preparation.structure_building - INFO - Ending potential energy: -6390.144190033886 kcal/mol.\n",
      "2022-10-25 15:13:04,871 - pocketoptimizer.preparation.structure_building - INFO - RMSD between minimized and unminimized structure: 0.8701 Å.\n",
      "2022-10-25 15:13:05,210 - pocketoptimizer.ui - INFO - Your protein was successfully minimized and can be used for design now.\n",
      "2022-10-25 15:13:05,211 - pocketoptimizer.ui - INFO - Protein preparation finished.\n"
     ]
    }
   ],
   "source": [
    "design.prepare_protein(\n",
    "    protein_structure='scaffold/1ZT9.pdb',  # Input PDB\n",
    "    keep_chains=['A', 'B'],  # Specific protein chains to keep\n",
    "    minimize=True,           # Whether to minimize the input protein structure\n",
    "    backbone_restraint=True, # Restrains the backbone during the minimization\n",
    "    cuda=False,               # Performs minimization on CPU instead of GPU\n",
    "    discard_mols=[{'chain': 'A', 'resid': '1001'}]     # Special molecules to exclude. Per default everything, but peptides have to be defined manually\n",
    "    )"
   ]
  },
  {
   "cell_type": "code",
   "execution_count": 5,
   "id": "b9e4e7fa",
   "metadata": {},
   "outputs": [
    {
     "name": "stderr",
     "output_type": "stream",
     "text": [
      "2022-10-25 15:13:05,238 - pocketoptimizer.sampling.conformer_generator_obabel - INFO - Starting ligand conformer generation using obabel.\n",
      "2022-10-25 15:13:05,239 - pocketoptimizer.sampling.conformer_generator_obabel - INFO - Selected Method: genetic.\n",
      "2022-10-25 15:13:05,862 - pocketoptimizer.sampling.conformer_generator_obabel - INFO - Generated 50 conformers.\n",
      "2022-10-25 15:13:05,865 - pocketoptimizer.sampling.conformer_generator_obabel - INFO - Conformer sampling was successful.\n"
     ]
    }
   ],
   "source": [
    "design.prepare_lig_conformers(\n",
    "    nconfs=50,         # Maximum number of conformers to produce (Sometimes these methods produce lower number of conformations)\n",
    "    method='genetic',  # Genetic method in OpenBabel, other option is confab\n",
    "    score='rmsd',      # Filters conformers based on RMSD\n",
    "    )"
   ]
  },
  {
   "cell_type": "code",
   "execution_count": 6,
   "id": "b2a2545c",
   "metadata": {},
   "outputs": [
    {
     "name": "stderr",
     "output_type": "stream",
     "text": [
      "2022-10-25 15:13:05,877 - pocketoptimizer.ui - INFO - If design positions are removed or added a new design run should be started.\n"
     ]
    }
   ],
   "source": [
    "# Your mutations\n",
    "design.set_mutations([{'mutations': ['LEU', 'THR'], 'resid': '88', 'chain': 'B'}, \n",
    "                      {'mutations': ['ARG'], 'resid': '84', 'chain': 'B'}, \n",
    "                      {'mutations': ['LEU','THR'], 'resid': '44', 'chain': 'A'}]\n",
    ")"
   ]
  },
  {
   "cell_type": "code",
   "execution_count": 7,
   "id": "e67d6dac",
   "metadata": {},
   "outputs": [
    {
     "name": "stderr",
     "output_type": "stream",
     "text": [
      "2022-10-25 15:13:06,425 - pocketoptimizer.ui - INFO - Start building mutated protein scaffold variants.\n",
      "2022-10-25 15:13:06,426 - pocketoptimizer.ui - INFO - Build GLY sampling pockets.\n",
      "2022-10-25 15:13:07,004 - pocketoptimizer.preparation.structure_building - INFO - Build ligand sampling pocket.\n",
      "2022-10-25 15:13:07,556 - htmd.builder.amber - INFO - Detecting disulfide bonds.\n",
      "2022-10-25 15:13:07,751 - pocketoptimizer.preparation.structure_building - INFO - Starting the build.\n",
      "2022-10-25 15:13:08,055 - pocketoptimizer.preparation.structure_building - INFO - Finished building.\n",
      "2022-10-25 15:13:09,627 - pocketoptimizer.preparation.structure_building - INFO - Build mutation: A_44_LEU.\n",
      "2022-10-25 15:13:10,177 - htmd.builder.amber - INFO - Detecting disulfide bonds.\n",
      "2022-10-25 15:13:10,401 - pocketoptimizer.preparation.structure_building - INFO - Starting the build.\n",
      "2022-10-25 15:13:10,688 - pocketoptimizer.preparation.structure_building - INFO - Finished building.\n",
      "2022-10-25 15:13:12,219 - pocketoptimizer.preparation.structure_building - INFO - Build mutation: A_44_THR.\n",
      "2022-10-25 15:13:12,717 - htmd.builder.amber - INFO - Detecting disulfide bonds.\n",
      "2022-10-25 15:13:12,908 - pocketoptimizer.preparation.structure_building - INFO - Starting the build.\n",
      "2022-10-25 15:13:13,249 - pocketoptimizer.preparation.structure_building - INFO - Finished building.\n",
      "2022-10-25 15:13:14,744 - pocketoptimizer.preparation.structure_building - INFO - Build mutation: B_84_ARG.\n",
      "2022-10-25 15:13:15,316 - htmd.builder.amber - INFO - Detecting disulfide bonds.\n",
      "2022-10-25 15:13:15,486 - pocketoptimizer.preparation.structure_building - INFO - Starting the build.\n",
      "2022-10-25 15:13:15,796 - pocketoptimizer.preparation.structure_building - INFO - Finished building.\n",
      "2022-10-25 15:13:17,261 - pocketoptimizer.preparation.structure_building - INFO - Build mutation: B_88_LEU.\n",
      "2022-10-25 15:13:17,825 - htmd.builder.amber - INFO - Detecting disulfide bonds.\n",
      "2022-10-25 15:13:18,006 - pocketoptimizer.preparation.structure_building - INFO - Starting the build.\n",
      "2022-10-25 15:13:18,425 - pocketoptimizer.preparation.structure_building - INFO - Finished building.\n",
      "2022-10-25 15:13:19,969 - pocketoptimizer.preparation.structure_building - INFO - Build mutation: B_88_THR.\n",
      "2022-10-25 15:13:20,503 - htmd.builder.amber - INFO - Detecting disulfide bonds.\n",
      "2022-10-25 15:13:20,679 - pocketoptimizer.preparation.structure_building - INFO - Starting the build.\n",
      "2022-10-25 15:13:20,978 - pocketoptimizer.preparation.structure_building - INFO - Finished building.\n",
      "2022-10-25 15:13:22,535 - pocketoptimizer.preparation.structure_building - INFO - Build mutation combination: A_44_LEU_B_84_ARG.\n",
      "2022-10-25 15:13:23,023 - htmd.builder.amber - INFO - Detecting disulfide bonds.\n",
      "2022-10-25 15:13:23,241 - pocketoptimizer.preparation.structure_building - INFO - Starting the build.\n",
      "2022-10-25 15:13:23,537 - pocketoptimizer.preparation.structure_building - INFO - Finished building.\n",
      "2022-10-25 15:13:25,463 - pocketoptimizer.preparation.structure_building - INFO - Build mutation combination: A_44_THR_B_84_ARG.\n",
      "2022-10-25 15:13:25,983 - htmd.builder.amber - INFO - Detecting disulfide bonds.\n",
      "2022-10-25 15:13:26,348 - pocketoptimizer.preparation.structure_building - INFO - Starting the build.\n",
      "2022-10-25 15:13:27,417 - pocketoptimizer.preparation.structure_building - INFO - Finished building.\n",
      "2022-10-25 15:13:29,038 - pocketoptimizer.preparation.structure_building - INFO - Build mutation combination: A_44_LEU_B_88_LEU.\n",
      "2022-10-25 15:13:29,510 - htmd.builder.amber - INFO - Detecting disulfide bonds.\n",
      "2022-10-25 15:13:29,694 - pocketoptimizer.preparation.structure_building - INFO - Starting the build.\n",
      "2022-10-25 15:13:30,018 - pocketoptimizer.preparation.structure_building - INFO - Finished building.\n",
      "2022-10-25 15:13:31,747 - pocketoptimizer.preparation.structure_building - INFO - Build mutation combination: A_44_LEU_B_88_THR.\n",
      "2022-10-25 15:13:32,262 - htmd.builder.amber - INFO - Detecting disulfide bonds.\n",
      "2022-10-25 15:13:32,427 - pocketoptimizer.preparation.structure_building - INFO - Starting the build.\n",
      "2022-10-25 15:13:32,734 - pocketoptimizer.preparation.structure_building - INFO - Finished building.\n",
      "2022-10-25 15:13:34,242 - pocketoptimizer.preparation.structure_building - INFO - Build mutation combination: A_44_THR_B_88_LEU.\n",
      "2022-10-25 15:13:34,710 - htmd.builder.amber - INFO - Detecting disulfide bonds.\n",
      "2022-10-25 15:13:34,866 - pocketoptimizer.preparation.structure_building - INFO - Starting the build.\n",
      "2022-10-25 15:13:35,194 - pocketoptimizer.preparation.structure_building - INFO - Finished building.\n",
      "2022-10-25 15:13:36,742 - pocketoptimizer.preparation.structure_building - INFO - Build mutation combination: A_44_THR_B_88_THR.\n",
      "2022-10-25 15:13:37,161 - htmd.builder.amber - INFO - Detecting disulfide bonds.\n",
      "2022-10-25 15:13:37,339 - pocketoptimizer.preparation.structure_building - INFO - Starting the build.\n",
      "2022-10-25 15:13:37,709 - pocketoptimizer.preparation.structure_building - INFO - Finished building.\n",
      "2022-10-25 15:13:39,280 - pocketoptimizer.preparation.structure_building - INFO - Build mutation combination: B_84_ARG_B_88_LEU.\n",
      "2022-10-25 15:13:39,760 - htmd.builder.amber - INFO - Detecting disulfide bonds.\n",
      "2022-10-25 15:13:39,948 - pocketoptimizer.preparation.structure_building - INFO - Starting the build.\n",
      "2022-10-25 15:13:40,327 - pocketoptimizer.preparation.structure_building - INFO - Finished building.\n",
      "2022-10-25 15:13:41,900 - pocketoptimizer.preparation.structure_building - INFO - Build mutation combination: B_84_ARG_B_88_THR.\n",
      "2022-10-25 15:13:42,316 - htmd.builder.amber - INFO - Detecting disulfide bonds.\n",
      "2022-10-25 15:13:42,487 - pocketoptimizer.preparation.structure_building - INFO - Starting the build.\n",
      "2022-10-25 15:13:42,835 - pocketoptimizer.preparation.structure_building - INFO - Finished building.\n",
      "2022-10-25 15:13:44,361 - pocketoptimizer.ui - INFO - Scaffold building done.\n"
     ]
    }
   ],
   "source": [
    "# Prepares all defined mutants and glycine scaffolds for side chain rotamer and ligand pose sampling\n",
    "design.prepare_mutants(sampling_pocket='GLY')"
   ]
  },
  {
   "cell_type": "code",
   "execution_count": 8,
   "id": "59578900",
   "metadata": {},
   "outputs": [
    {
     "name": "stderr",
     "output_type": "stream",
     "text": [
      "2022-10-25 15:13:46,256 - pocketoptimizer.sampling.sidechain_rotamers_ffev - INFO - Start rotamer sampling procedure using FFEvaluate.\n",
      "2022-10-25 15:13:46,257 - pocketoptimizer.sampling.sidechain_rotamers_ffev - INFO - Using 8 CPU's for multiprocessing.\n",
      "2022-10-25 15:13:47,075 - pocketoptimizer.sampling.sidechain_rotamers_ffev - INFO - Rotamers for residue: A_44_LEU not sampled yet.\n"
     ]
    },
    {
     "data": {
      "application/vnd.jupyter.widget-view+json": {
       "model_id": "ab877a500a9a498795cceb07b4a8e989",
       "version_major": 2,
       "version_minor": 0
      },
      "text/plain": [
       "A_44_LEU:   0%|          | 0/64 [00:00<?, ?it/s]"
      ]
     },
     "metadata": {},
     "output_type": "display_data"
    },
    {
     "name": "stderr",
     "output_type": "stream",
     "text": [
      "2022-10-25 15:14:04,713 - pocketoptimizer.sampling.sidechain_rotamers_ffev - INFO - Writing 25/64 rotamers within energy threshold of 100 kcal/mol for LEU at position: A_44.\n",
      "2022-10-25 15:14:04,732 - pocketoptimizer.sampling.sidechain_rotamers_ffev - INFO - Rotamers for residue: A_44_THR not sampled yet.\n"
     ]
    },
    {
     "data": {
      "application/vnd.jupyter.widget-view+json": {
       "model_id": "fa80f926c0f947a0a9ffbab4703f95c9",
       "version_major": 2,
       "version_minor": 0
      },
      "text/plain": [
       "A_44_THR:   0%|          | 0/10 [00:00<?, ?it/s]"
      ]
     },
     "metadata": {},
     "output_type": "display_data"
    },
    {
     "name": "stderr",
     "output_type": "stream",
     "text": [
      "2022-10-25 15:14:15,548 - pocketoptimizer.sampling.sidechain_rotamers_ffev - INFO - Writing 6/10 rotamers within energy threshold of 100 kcal/mol for THR at position: A_44.\n",
      "2022-10-25 15:14:15,620 - pocketoptimizer.sampling.sidechain_rotamers_ffev - INFO - Rotamers for residue: B_84_ARG not sampled yet.\n"
     ]
    },
    {
     "data": {
      "application/vnd.jupyter.widget-view+json": {
       "model_id": "74b7c5795d8c4a0ebe6cc364ee35903c",
       "version_major": 2,
       "version_minor": 0
      },
      "text/plain": [
       "B_84_ARG:   0%|          | 0/370 [00:00<?, ?it/s]"
      ]
     },
     "metadata": {},
     "output_type": "display_data"
    },
    {
     "name": "stderr",
     "output_type": "stream",
     "text": [
      "2022-10-25 15:15:27,866 - pocketoptimizer.sampling.sidechain_rotamers_ffev - INFO - Writing 324/370 rotamers within energy threshold of 100 kcal/mol for ARG at position: B_84.\n",
      "2022-10-25 15:15:28,503 - pocketoptimizer.sampling.sidechain_rotamers_ffev - INFO - Rotamers for residue: B_88_LEU not sampled yet.\n"
     ]
    },
    {
     "data": {
      "application/vnd.jupyter.widget-view+json": {
       "model_id": "58451a976116489ab21fb38f7f117e2e",
       "version_major": 2,
       "version_minor": 0
      },
      "text/plain": [
       "B_88_LEU:   0%|          | 0/55 [00:00<?, ?it/s]"
      ]
     },
     "metadata": {},
     "output_type": "display_data"
    },
    {
     "name": "stderr",
     "output_type": "stream",
     "text": [
      "2022-10-25 15:15:46,541 - pocketoptimizer.sampling.sidechain_rotamers_ffev - INFO - Writing 21/55 rotamers within energy threshold of 100 kcal/mol for LEU at position: B_88.\n",
      "2022-10-25 15:15:46,554 - pocketoptimizer.sampling.sidechain_rotamers_ffev - INFO - Rotamers for residue: B_88_THR not sampled yet.\n"
     ]
    },
    {
     "data": {
      "application/vnd.jupyter.widget-view+json": {
       "model_id": "611a60350a6f4713b3fef8e4eb6b6195",
       "version_major": 2,
       "version_minor": 0
      },
      "text/plain": [
       "B_88_THR:   0%|          | 0/10 [00:00<?, ?it/s]"
      ]
     },
     "metadata": {},
     "output_type": "display_data"
    },
    {
     "name": "stderr",
     "output_type": "stream",
     "text": [
      "2022-10-25 15:15:56,336 - pocketoptimizer.sampling.sidechain_rotamers_ffev - INFO - Writing 6/10 rotamers within energy threshold of 100 kcal/mol for THR at position: B_88.\n",
      "2022-10-25 15:15:56,360 - pocketoptimizer.sampling.sidechain_rotamers_ffev - INFO - Rotamer sampling procedure is finished.\n"
     ]
    }
   ],
   "source": [
    "# Sampling of side chain rotamers\n",
    "design.sample_sidechain_rotamers(\n",
    "    vdw_filter_thresh=100,         # Energy threshold of 100 kcal/mol for filtering rotamers\n",
    "    library='dunbrack',            # Use dunbrack rotamer library (Should be used!)\n",
    "    dunbrack_filter_thresh=0.001,  # Probability threshold for filtering rotamers (0.1%)\n",
    "    accurate=False,                # Increases the number of rotamers sampled when using dunbrack (Be careful about the computation time!)\n",
    "    include_native=True            # Include the native rotamers from the minimized structure\n",
    ")"
   ]
  },
  {
   "cell_type": "code",
   "execution_count": 9,
   "id": "b983bed0",
   "metadata": {},
   "outputs": [
    {
     "name": "stderr",
     "output_type": "stream",
     "text": [
      "2022-10-25 15:15:56,457 - pocketoptimizer.ui - INFO - Sample ligand poses.\n",
      "2022-10-25 15:15:56,458 - pocketoptimizer.sampling.ligand_poses - INFO - Start ligand pose sampling procedure.\n",
      "2022-10-25 15:15:57,735 - pocketoptimizer.sampling.ligand_poses - INFO - Generate possible poses within the defined grid.\n"
     ]
    },
    {
     "data": {
      "application/vnd.jupyter.widget-view+json": {
       "model_id": "74a5603ed1464bd9bcae10df9fe1bf79",
       "version_major": 2,
       "version_minor": 0
      },
      "text/plain": [
       "Ligand Conformers:   0%|          | 0/51 [00:00<?, ?it/s]"
      ]
     },
     "metadata": {},
     "output_type": "display_data"
    },
    {
     "name": "stderr",
     "output_type": "stream",
     "text": [
      "2022-10-25 15:15:57,813 - pocketoptimizer.sampling.ligand_poses - INFO - Created possible 4641 poses.\n",
      "2022-10-25 15:15:57,814 - pocketoptimizer.sampling.ligand_poses - INFO - Start filtering poses.\n",
      "2022-10-25 15:15:57,815 - pocketoptimizer.sampling.ligand_poses - INFO - Using 8 CPUs for multiprocessing.\n"
     ]
    },
    {
     "data": {
      "application/vnd.jupyter.widget-view+json": {
       "model_id": "e909eda073864ca1b108c4655e5454c5",
       "version_major": 2,
       "version_minor": 0
      },
      "text/plain": [
       "Filter Poses:   0%|          | 0/4641 [00:00<?, ?it/s]"
      ]
     },
     "metadata": {},
     "output_type": "display_data"
    },
    {
     "name": "stderr",
     "output_type": "stream",
     "text": [
      "2022-10-25 15:26:37,159 - pocketoptimizer.sampling.ligand_poses - INFO - Calculated 1025 poses within energy threshold of 100 kcal/mol.\n",
      "2022-10-25 15:26:41,452 - pocketoptimizer.sampling.ligand_poses - INFO - Pose sampling procedure was successful.\n"
     ]
    }
   ],
   "source": [
    "# Sampling of ligand poses\n",
    "# Defines a grid in which the ligand is translated and rotated along.\n",
    "#                       Range, Steps\n",
    "sample_grid = {'trans': [1, 0.5],  # Angstrom\n",
    "               'rot': [20, 20]}    # Degree\n",
    "design.sample_lig_poses(\n",
    "    method='grid',         #  Uses the grid method. Other option is random\n",
    "    grid=sample_grid,      #  Defined grid for sampling    \n",
    "    vdw_filter_thresh=100, #  Energy threshold of 100 kcal/mol for filtering ligand poses\n",
    "    max_poses=10000        #  Maximum number of poses\n",
    ")"
   ]
  },
  {
   "cell_type": "code",
   "execution_count": 10,
   "id": "bb7a35d1",
   "metadata": {
    "tags": []
   },
   "outputs": [
    {
     "name": "stderr",
     "output_type": "stream",
     "text": [
      "2022-10-25 15:26:41,534 - pocketoptimizer.ui - INFO - Start energy calculations.\n",
      "2022-10-25 15:26:41,535 - pocketoptimizer.ui - INFO - Using 8 CPUs for multiprocessing.\n",
      "2022-10-25 15:26:41,535 - pocketoptimizer.ui - INFO - Calculate Sidechain-Scaffold Energies.\n",
      "2022-10-25 15:26:41,536 - pocketoptimizer.scoring.sidechain_scaffold_energies - INFO - Compute energies using forcefield: amber_ff14SB.\n",
      "2022-10-25 15:26:41,607 - pocketoptimizer.scoring.sidechain_scaffold_energies - INFO - Sidechain-Scaffold/Self interaction energy for residue: A_44_LEU not computed yet.\n"
     ]
    },
    {
     "data": {
      "application/vnd.jupyter.widget-view+json": {
       "model_id": "49f6ce61f56b4ec4a53e08b78320854a",
       "version_major": 2,
       "version_minor": 0
      },
      "text/plain": [
       "  0%|          | 0/25 [00:00<?, ?it/s]"
      ]
     },
     "metadata": {},
     "output_type": "display_data"
    },
    {
     "name": "stderr",
     "output_type": "stream",
     "text": [
      "2022-10-25 15:26:49,513 - pocketoptimizer.scoring.sidechain_scaffold_energies - INFO - Sidechain-Scaffold/Self interaction energy for residue: A_44_THR not computed yet.\n"
     ]
    },
    {
     "data": {
      "application/vnd.jupyter.widget-view+json": {
       "model_id": "c32c0006b51b470d8f6e5a65d691ce3d",
       "version_major": 2,
       "version_minor": 0
      },
      "text/plain": [
       "  0%|          | 0/6 [00:00<?, ?it/s]"
      ]
     },
     "metadata": {},
     "output_type": "display_data"
    },
    {
     "name": "stderr",
     "output_type": "stream",
     "text": [
      "2022-10-25 15:26:57,068 - pocketoptimizer.scoring.sidechain_scaffold_energies - INFO - Sidechain-Scaffold/Self interaction energy for residue: B_84_ARG not computed yet.\n"
     ]
    },
    {
     "data": {
      "application/vnd.jupyter.widget-view+json": {
       "model_id": "b67f1a7ca0b54d518ed43c7e93903c4d",
       "version_major": 2,
       "version_minor": 0
      },
      "text/plain": [
       "  0%|          | 0/324 [00:00<?, ?it/s]"
      ]
     },
     "metadata": {},
     "output_type": "display_data"
    },
    {
     "name": "stderr",
     "output_type": "stream",
     "text": [
      "2022-10-25 15:27:13,754 - pocketoptimizer.scoring.sidechain_scaffold_energies - INFO - Sidechain-Scaffold/Self interaction energy for residue: B_88_LEU not computed yet.\n"
     ]
    },
    {
     "data": {
      "application/vnd.jupyter.widget-view+json": {
       "model_id": "8a0c76cc7aef4d69b564b0b3cde78d1f",
       "version_major": 2,
       "version_minor": 0
      },
      "text/plain": [
       "  0%|          | 0/21 [00:00<?, ?it/s]"
      ]
     },
     "metadata": {},
     "output_type": "display_data"
    },
    {
     "name": "stderr",
     "output_type": "stream",
     "text": [
      "2022-10-25 15:27:21,274 - pocketoptimizer.scoring.sidechain_scaffold_energies - INFO - Sidechain-Scaffold/Self interaction energy for residue: B_88_THR not computed yet.\n"
     ]
    },
    {
     "data": {
      "application/vnd.jupyter.widget-view+json": {
       "model_id": "b7764a6d68464121a01d3c28f03a6240",
       "version_major": 2,
       "version_minor": 0
      },
      "text/plain": [
       "  0%|          | 0/6 [00:00<?, ?it/s]"
      ]
     },
     "metadata": {},
     "output_type": "display_data"
    },
    {
     "name": "stderr",
     "output_type": "stream",
     "text": [
      "2022-10-25 15:27:27,799 - pocketoptimizer.scoring.sidechain_scaffold_energies - INFO - Sidechain-Scaffold/Self calculation was successful.\n",
      "2022-10-25 15:27:27,801 - pocketoptimizer.ui - INFO - Calculate Sidechain-Pair Energies.\n",
      "2022-10-25 15:27:27,802 - pocketoptimizer.scoring.sidechain_pair_energies - INFO - Compute energies using forcefield: amber_ff14SB.\n",
      "2022-10-25 15:27:28,416 - pocketoptimizer.scoring.sidechain_pair_energies - INFO - Sidechain-Sidechain interaction energy for residue pair: A_44_LEU/B_84_ARG not computed yet.\n"
     ]
    },
    {
     "data": {
      "application/vnd.jupyter.widget-view+json": {
       "model_id": "8d3bfaa6540f44e9b8c4bdd277f40775",
       "version_major": 2,
       "version_minor": 0
      },
      "text/plain": [
       "  0%|          | 0/8100 [00:00<?, ?it/s]"
      ]
     },
     "metadata": {},
     "output_type": "display_data"
    },
    {
     "name": "stderr",
     "output_type": "stream",
     "text": [
      "2022-10-25 15:27:38,921 - pocketoptimizer.scoring.sidechain_pair_energies - INFO - Sidechain-Sidechain interaction energy for residue pair: A_44_THR/B_84_ARG not computed yet.\n"
     ]
    },
    {
     "data": {
      "application/vnd.jupyter.widget-view+json": {
       "model_id": "cd11db7f278c459ca37d7d37f1a0053f",
       "version_major": 2,
       "version_minor": 0
      },
      "text/plain": [
       "  0%|          | 0/1944 [00:00<?, ?it/s]"
      ]
     },
     "metadata": {},
     "output_type": "display_data"
    },
    {
     "name": "stderr",
     "output_type": "stream",
     "text": [
      "2022-10-25 15:27:46,593 - pocketoptimizer.scoring.sidechain_pair_energies - INFO - Sidechain-Sidechain interaction energy for residue pair: A_44_LEU/B_88_LEU not computed yet.\n"
     ]
    },
    {
     "data": {
      "application/vnd.jupyter.widget-view+json": {
       "model_id": "3d6a5861e6034b3280bc0bacdad00923",
       "version_major": 2,
       "version_minor": 0
      },
      "text/plain": [
       "  0%|          | 0/525 [00:00<?, ?it/s]"
      ]
     },
     "metadata": {},
     "output_type": "display_data"
    },
    {
     "name": "stderr",
     "output_type": "stream",
     "text": [
      "2022-10-25 15:27:53,751 - pocketoptimizer.scoring.sidechain_pair_energies - INFO - Sidechain-Sidechain interaction energy for residue pair: A_44_LEU/B_88_THR not computed yet.\n"
     ]
    },
    {
     "data": {
      "application/vnd.jupyter.widget-view+json": {
       "model_id": "1c8f1d4e7a3d41969128833656b0e635",
       "version_major": 2,
       "version_minor": 0
      },
      "text/plain": [
       "  0%|          | 0/150 [00:00<?, ?it/s]"
      ]
     },
     "metadata": {},
     "output_type": "display_data"
    },
    {
     "name": "stderr",
     "output_type": "stream",
     "text": [
      "2022-10-25 15:28:01,113 - pocketoptimizer.scoring.sidechain_pair_energies - INFO - Sidechain-Sidechain interaction energy for residue pair: A_44_THR/B_88_LEU not computed yet.\n"
     ]
    },
    {
     "data": {
      "application/vnd.jupyter.widget-view+json": {
       "model_id": "e9c248d210f642418e43d2aa0a066c9a",
       "version_major": 2,
       "version_minor": 0
      },
      "text/plain": [
       "  0%|          | 0/126 [00:00<?, ?it/s]"
      ]
     },
     "metadata": {},
     "output_type": "display_data"
    },
    {
     "name": "stderr",
     "output_type": "stream",
     "text": [
      "2022-10-25 15:28:08,133 - pocketoptimizer.scoring.sidechain_pair_energies - INFO - Sidechain-Sidechain interaction energy for residue pair: A_44_THR/B_88_THR not computed yet.\n"
     ]
    },
    {
     "data": {
      "application/vnd.jupyter.widget-view+json": {
       "model_id": "181c4a3b7a4d4d08b1f40186fddc176c",
       "version_major": 2,
       "version_minor": 0
      },
      "text/plain": [
       "  0%|          | 0/36 [00:00<?, ?it/s]"
      ]
     },
     "metadata": {},
     "output_type": "display_data"
    },
    {
     "name": "stderr",
     "output_type": "stream",
     "text": [
      "2022-10-25 15:28:16,775 - pocketoptimizer.scoring.sidechain_pair_energies - INFO - Sidechain-Sidechain interaction energy for residue pair: B_84_ARG/B_88_LEU not computed yet.\n"
     ]
    },
    {
     "data": {
      "application/vnd.jupyter.widget-view+json": {
       "model_id": "a25dae29cf154cb984a91233eb054ac5",
       "version_major": 2,
       "version_minor": 0
      },
      "text/plain": [
       "  0%|          | 0/6804 [00:00<?, ?it/s]"
      ]
     },
     "metadata": {},
     "output_type": "display_data"
    },
    {
     "name": "stderr",
     "output_type": "stream",
     "text": [
      "2022-10-25 15:28:26,896 - pocketoptimizer.scoring.sidechain_pair_energies - INFO - Sidechain-Sidechain interaction energy for residue pair: B_84_ARG/B_88_THR not computed yet.\n"
     ]
    },
    {
     "data": {
      "application/vnd.jupyter.widget-view+json": {
       "model_id": "1f760ed7f5a94c268089ca78952f1600",
       "version_major": 2,
       "version_minor": 0
      },
      "text/plain": [
       "  0%|          | 0/1944 [00:00<?, ?it/s]"
      ]
     },
     "metadata": {},
     "output_type": "display_data"
    },
    {
     "name": "stderr",
     "output_type": "stream",
     "text": [
      "2022-10-25 15:28:34,346 - pocketoptimizer.scoring.sidechain_pair_energies - INFO - Sidechain-Pair calculation was successful.\n",
      "2022-10-25 15:28:34,348 - pocketoptimizer.ui - INFO - Calculate Ligand-Scaffold/Sidechain-Interaction-Energies.\n",
      "2022-10-25 15:28:34,366 - pocketoptimizer.scoring.smina_scorer - INFO - Score ligand interactions using vina.\n",
      "2022-10-25 15:28:35,603 - pocketoptimizer.scoring.smina_scorer - INFO - Ligand-Scaffold/Self interaction energy not computed yet.\n",
      "2022-10-25 15:28:35,603 - pocketoptimizer.scoring.smina_scorer - INFO - Prepare fixed scaffold.\n"
     ]
    },
    {
     "data": {
      "application/vnd.jupyter.widget-view+json": {
       "model_id": "7ad1c7125c9d418cbdacb817f6cf361b",
       "version_major": 2,
       "version_minor": 0
      },
      "text/plain": [
       "Ligand/Scaffold:   0%|          | 0/1 [00:00<?, ?it/s]"
      ]
     },
     "metadata": {},
     "output_type": "display_data"
    },
    {
     "name": "stderr",
     "output_type": "stream",
     "text": [
      "2022-10-25 15:28:39,525 - pocketoptimizer.scoring.smina_scorer - INFO - Ligand-Sidechain interaction energy for residue: A_44_LEU not computed yet.\n",
      "2022-10-25 15:28:39,658 - pocketoptimizer.scoring.smina_scorer - INFO - Loop over rotamers of residue: A_44_LEU.\n"
     ]
    },
    {
     "data": {
      "application/vnd.jupyter.widget-view+json": {
       "model_id": "b12e33354321468e975b8114d7be6cc4",
       "version_major": 2,
       "version_minor": 0
      },
      "text/plain": [
       "Ligand/A_44_LEU:   0%|          | 0/25 [00:00<?, ?it/s]"
      ]
     },
     "metadata": {},
     "output_type": "display_data"
    },
    {
     "name": "stderr",
     "output_type": "stream",
     "text": [
      "2022-10-25 15:29:00,639 - pocketoptimizer.scoring.smina_scorer - INFO - Ligand-Sidechain interaction energy for residue: A_44_THR not computed yet.\n",
      "2022-10-25 15:29:00,682 - pocketoptimizer.scoring.smina_scorer - INFO - Loop over rotamers of residue: A_44_THR.\n"
     ]
    },
    {
     "data": {
      "application/vnd.jupyter.widget-view+json": {
       "model_id": "b082433979ca42099d2f72eae431a3d8",
       "version_major": 2,
       "version_minor": 0
      },
      "text/plain": [
       "Ligand/A_44_THR:   0%|          | 0/6 [00:00<?, ?it/s]"
      ]
     },
     "metadata": {},
     "output_type": "display_data"
    },
    {
     "name": "stderr",
     "output_type": "stream",
     "text": [
      "2022-10-25 15:29:05,905 - pocketoptimizer.scoring.smina_scorer - INFO - Ligand-Sidechain interaction energy for residue: B_84_ARG not computed yet.\n",
      "2022-10-25 15:29:06,719 - pocketoptimizer.scoring.smina_scorer - INFO - Loop over rotamers of residue: B_84_ARG.\n"
     ]
    },
    {
     "data": {
      "application/vnd.jupyter.widget-view+json": {
       "model_id": "e815b144b4ac45aa8a6fe01b85c5bec5",
       "version_major": 2,
       "version_minor": 0
      },
      "text/plain": [
       "Ligand/B_84_ARG:   0%|          | 0/324 [00:00<?, ?it/s]"
      ]
     },
     "metadata": {},
     "output_type": "display_data"
    },
    {
     "name": "stderr",
     "output_type": "stream",
     "text": [
      "2022-10-25 15:33:40,521 - pocketoptimizer.scoring.smina_scorer - INFO - Ligand-Sidechain interaction energy for residue: B_88_LEU not computed yet.\n",
      "2022-10-25 15:33:40,658 - pocketoptimizer.scoring.smina_scorer - INFO - Loop over rotamers of residue: B_88_LEU.\n"
     ]
    },
    {
     "data": {
      "application/vnd.jupyter.widget-view+json": {
       "model_id": "f8a02dcd898d47e2b372db3edb6f99da",
       "version_major": 2,
       "version_minor": 0
      },
      "text/plain": [
       "Ligand/B_88_LEU:   0%|          | 0/21 [00:00<?, ?it/s]"
      ]
     },
     "metadata": {},
     "output_type": "display_data"
    },
    {
     "name": "stderr",
     "output_type": "stream",
     "text": [
      "2022-10-25 15:33:59,076 - pocketoptimizer.scoring.smina_scorer - INFO - Ligand-Sidechain interaction energy for residue: B_88_THR not computed yet.\n",
      "2022-10-25 15:33:59,122 - pocketoptimizer.scoring.smina_scorer - INFO - Loop over rotamers of residue: B_88_THR.\n"
     ]
    },
    {
     "data": {
      "application/vnd.jupyter.widget-view+json": {
       "model_id": "60100245001e4c7487a96d20df4362fa",
       "version_major": 2,
       "version_minor": 0
      },
      "text/plain": [
       "Ligand/B_88_THR:   0%|          | 0/6 [00:00<?, ?it/s]"
      ]
     },
     "metadata": {},
     "output_type": "display_data"
    },
    {
     "name": "stderr",
     "output_type": "stream",
     "text": [
      "2022-10-25 15:34:04,232 - pocketoptimizer.scoring.smina_scorer - INFO - Ligand scoring was successful.\n",
      "2022-10-25 15:34:04,233 - pocketoptimizer.ui - INFO - Energy calculation was successful.\n"
     ]
    }
   ],
   "source": [
    "design.calculate_energies(\n",
    "    scoring='vina',           #  Method to score protein-ligand interaction\n",
    ")"
   ]
  },
  {
   "cell_type": "code",
   "execution_count": 12,
   "id": "d7d2cd60",
   "metadata": {
    "tags": []
   },
   "outputs": [
    {
     "name": "stderr",
     "output_type": "stream",
     "text": [
      "2022-10-25 15:41:10,305 - pocketoptimizer.solving.sontag_solver - INFO - Calculating Solutions.\n"
     ]
    },
    {
     "data": {
      "application/vnd.jupyter.widget-view+json": {
       "model_id": "1ace348d89cb406fb33f93473ef7eb85",
       "version_major": 2,
       "version_minor": 0
      },
      "text/plain": [
       "Solutions:   0%|          | 0/10 [00:00<?, ?it/s]"
      ]
     },
     "metadata": {},
     "output_type": "display_data"
    },
    {
     "name": "stderr",
     "output_type": "stream",
     "text": [
      "2022-10-25 15:41:40,332 - pocketoptimizer.ui - INFO - Parse calculated solutions.\n",
      "2022-10-25 15:41:40,734 - pocketoptimizer.ui - INFO - Read 10 solution(s) from solver output.\n",
      "2022-10-25 15:41:44,957 - pocketoptimizer.ui - INFO - Write text report.\n",
      "2022-10-25 15:41:45,036 - pocketoptimizer.ui - INFO - Wrote solution report text file(s).\n",
      "2022-10-25 15:41:45,039 - pocketoptimizer.ui - INFO - Wrote summary text file.\n",
      "2022-10-25 15:41:45,039 - pocketoptimizer.ui - INFO - Write html report.\n",
      "2022-10-25 15:41:45,130 - pocketoptimizer.ui - INFO - Wrote solution report html file(s).\n",
      "2022-10-25 15:41:45,132 - pocketoptimizer.design.html_reporter - INFO - Create energy plot.\n",
      "2022-10-25 15:41:45,730 - pocketoptimizer.design.html_reporter - INFO - Create sequence logo for mutable positions.\n"
     ]
    },
    {
     "data": {
      "image/png": "[encoded data removed]",
      "text/plain": [
       "<IPython.core.display.Image object>"
      ]
     },
     "metadata": {},
     "output_type": "display_data"
    },
    {
     "name": "stderr",
     "output_type": "stream",
     "text": [
      "2022-10-25 15:41:47,260 - pocketoptimizer.ui - INFO - Wrote summary html file.\n",
      "2022-10-25 15:41:47,261 - pocketoptimizer.ui - INFO - Creating design structure files.\n",
      "2022-10-25 15:41:47,262 - pocketoptimizer.ui - INFO - Create Structures.\n",
      "2022-10-25 15:41:56,181 - pocketoptimizer.ui - INFO - Creating PyMol scripts.\n",
      "2022-10-25 15:41:56,241 - pocketoptimizer.ui - INFO - 10 best design solution(s) for design with forcefield: amber_ff14SB, scoring method: vina and ligand scaling: 5 identified.\n"
     ]
    },
    {
     "data": {
      "image/png": "[encoded data removed]",
      "text/plain": [
       "<Figure size 640x480 with 1 Axes>"
      ]
     },
     "metadata": {},
     "output_type": "display_data"
    }
   ],
   "source": [
    "# Compute the lowest energy structures using linear programming\n",
    "design.design(\n",
    "    num_solutions=10,           #  Number of solutions to compute\n",
    "    ligand_scaling=5,           #  Scaling factor for binding-related energies (You need to adapt this to approximate the packing and binding energies)\n",
    ")"
   ]
  },
  {
   "cell_type": "code",
   "execution_count": 3,
   "id": "a4510d5f-c706-4cf7-825e-45556ec12d2b",
   "metadata": {},
   "outputs": [
    {
     "name": "stderr",
     "output_type": "stream",
     "text": [
      "2022-10-25 15:11:45,089 - pocketoptimizer.ui - INFO - All scaffold files are deleted.\n",
      "2022-10-25 15:11:46,068 - pocketoptimizer.ui - INFO - All ligand files are deleted.\n",
      "2022-10-25 15:11:46,072 - pocketoptimizer.ui - INFO - Deleted log file.\n",
      "2022-10-25 15:11:46,074 - pocketoptimizer.ui - INFO - All files were deleted.\n",
      "2022-10-25 15:11:46,076 - pocketoptimizer.ui - INFO - Initialize a new DesignPipeline.\n"
     ]
    }
   ],
   "source": [
    "# Do not run this unless you want to fully clean your working directory from all created files and folders!\n",
    "design.clean(scaffold=True, ligand=True)"
   ]
  },
  {
   "cell_type": "code",
   "execution_count": null,
   "id": "6e8ac38d-0f89-42c1-84c8-d8073419cb19",
   "metadata": {},
   "outputs": [],
   "source": []
  }
 ],
 "metadata": {
  "kernelspec": {
   "display_name": "pocketoptimizer",
   "language": "python",
   "name": "pocketoptimizer"
  },
  "language_info": {
   "codemirror_mode": {
    "name": "ipython",
    "version": 3
   },
   "file_extension": ".py",
   "mimetype": "text/x-python",
   "name": "python",
   "nbconvert_exporter": "python",
   "pygments_lexer": "ipython3",
   "version": "3.9.13"
  }
 },
 "nbformat": 4,
 "nbformat_minor": 5
}
